{
 "cells": [
  {
   "cell_type": "code",
   "execution_count": 1,
   "id": "c092400d",
   "metadata": {},
   "outputs": [],
   "source": [
    "from sklearn.datasets import make_classification\n",
    "import torch"
   ]
  },
  {
   "cell_type": "code",
   "execution_count": 2,
   "id": "7408865e",
   "metadata": {},
   "outputs": [],
   "source": [
    "# Creating a synthetic dataset\n",
    "X,y = make_classification(\n",
    "    n_samples=10, \n",
    "    n_features=2,   #Number of features\n",
    "    n_informative=2,  # Number of informative features\n",
    "    n_redundant=0,  # Number of redundant features\n",
    "    n_classes=2,   # Number of classes\n",
    "    random_state=42\n",
    ")"
   ]
  },
  {
   "cell_type": "code",
   "execution_count": 3,
   "id": "dc4dc84a",
   "metadata": {},
   "outputs": [
    {
     "name": "stdout",
     "output_type": "stream",
     "text": [
      "[[ 1.06833894 -0.97007347]\n",
      " [-1.14021544 -0.83879234]\n",
      " [-2.8953973   1.97686236]\n",
      " [-0.72063436 -0.96059253]\n",
      " [-1.96287438 -0.99225135]\n",
      " [-0.9382051  -0.54304815]\n",
      " [ 1.72725924 -1.18582677]\n",
      " [ 1.77736657  1.51157598]\n",
      " [ 1.89969252  0.83444483]\n",
      " [-0.58723065 -1.97171753]] \n",
      " [1 0 0 0 0 1 1 1 1 0]\n"
     ]
    }
   ],
   "source": [
    "print(X, \"\\n\", y)"
   ]
  },
  {
   "cell_type": "code",
   "execution_count": 4,
   "id": "312af718",
   "metadata": {},
   "outputs": [],
   "source": [
    "# Converting the data Pytorch Tensors\n",
    "X = torch.tensor(X, dtype=torch.float32)\n",
    "y = torch.tensor(y, dtype=torch.float32)"
   ]
  },
  {
   "cell_type": "code",
   "execution_count": 5,
   "id": "5d3bd6f3",
   "metadata": {},
   "outputs": [],
   "source": [
    "from torch.utils.data import Dataset, DataLoader\n",
    "\n",
    "class CustomDataset(Dataset):\n",
    "    \n",
    "    def __init__(self, features, Labels):\n",
    "        self.features = features\n",
    "        self.labels = Labels\n",
    "\n",
    "    def __len__(self):\n",
    "        return self.features.shape[0]\n",
    "    \n",
    "    def __getitem__(self, index):\n",
    "\n",
    "        # This is where we can apply any transformations if needed\n",
    "\n",
    "        return self.features[index] , self.labels[index]"
   ]
  },
  {
   "cell_type": "code",
   "execution_count": 7,
   "id": "91d8071b",
   "metadata": {},
   "outputs": [
    {
     "name": "stdout",
     "output_type": "stream",
     "text": [
      "10\n",
      "\n",
      " (tensor([-2.8954,  1.9769]), tensor(0.))\n"
     ]
    }
   ],
   "source": [
    "dataset = CustomDataset(X,y)\n",
    "\n",
    "print(len(dataset))\n",
    "print(\"\\n\", dataset[2])"
   ]
  },
  {
   "cell_type": "code",
   "execution_count": 8,
   "id": "4d777f6f",
   "metadata": {},
   "outputs": [
    {
     "name": "stdout",
     "output_type": "stream",
     "text": [
      "Batch Features:  tensor([[-1.9629, -0.9923],\n",
      "        [-0.7206, -0.9606]])\n",
      "Batch Labels:  tensor([0., 0.])\n",
      "--------------------------------------------------\n",
      "Batch Features:  tensor([[ 1.0683, -0.9701],\n",
      "        [ 1.7273, -1.1858]])\n",
      "Batch Labels:  tensor([1., 1.])\n",
      "--------------------------------------------------\n",
      "Batch Features:  tensor([[-0.5872, -1.9717],\n",
      "        [ 1.8997,  0.8344]])\n",
      "Batch Labels:  tensor([0., 1.])\n",
      "--------------------------------------------------\n",
      "Batch Features:  tensor([[-1.1402, -0.8388],\n",
      "        [ 1.7774,  1.5116]])\n",
      "Batch Labels:  tensor([0., 1.])\n",
      "--------------------------------------------------\n",
      "Batch Features:  tensor([[-0.9382, -0.5430],\n",
      "        [-2.8954,  1.9769]])\n",
      "Batch Labels:  tensor([1., 0.])\n",
      "--------------------------------------------------\n"
     ]
    }
   ],
   "source": [
    "# DataLoader \n",
    "\n",
    "dataloader = DataLoader(dataset, batch_size=2, shuffle=True)\n",
    "\n",
    "for batch_features, batch_labels in dataloader:\n",
    "    print(\"Batch Features: \", batch_features)\n",
    "    print(\"Batch Labels: \", batch_labels)\n",
    "    print(\"-\"*50)"
   ]
  }
 ],
 "metadata": {
  "kernelspec": {
   "display_name": "Python 3",
   "language": "python",
   "name": "python3"
  },
  "language_info": {
   "codemirror_mode": {
    "name": "ipython",
    "version": 3
   },
   "file_extension": ".py",
   "mimetype": "text/x-python",
   "name": "python",
   "nbconvert_exporter": "python",
   "pygments_lexer": "ipython3",
   "version": "3.12.5"
  }
 },
 "nbformat": 4,
 "nbformat_minor": 5
}
