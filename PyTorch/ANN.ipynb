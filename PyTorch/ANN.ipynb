{
 "cells": [
  {
   "cell_type": "markdown",
   "id": "fdfe7b4d",
   "metadata": {},
   "source": [
    "#### **ANN Model on Fashion MSNIT Dataset**\n",
    "\n",
    "The Model is Trained on Fashion MNIST Dataset from Kaggle. The Model is trained on 60000 Images.It's a Multiclassification Problem as it has 10 Labels.\n",
    "\n",
    "It has 2 Hidden Layer - 1st Layer having 128 nuerons while the 2nd Layer has 64 neurons and 10 Output Neurons. It also has 784 input layers"
   ]
  },
  {
   "cell_type": "code",
   "execution_count": 29,
   "id": "40352a39",
   "metadata": {},
   "outputs": [],
   "source": [
    "import pandas as pd\n",
    "import numpy as np\n",
    "import matplotlib.pyplot as plt\n",
    "import torch\n",
    "import torch.nn as nn\n",
    "from torch.utils.data import DataLoader, Dataset\n",
    "import torch.optim as optim\n",
    "from sklearn.model_selection import train_test_split"
   ]
  },
  {
   "cell_type": "code",
   "execution_count": 30,
   "id": "045d67ed",
   "metadata": {},
   "outputs": [
    {
     "data": {
      "text/plain": [
       "<torch._C.Generator at 0x22a9bc2a790>"
      ]
     },
     "execution_count": 30,
     "metadata": {},
     "output_type": "execute_result"
    }
   ],
   "source": [
    "torch.manual_seed(42)  # Set random seed for reproducibility"
   ]
  },
  {
   "cell_type": "code",
   "execution_count": 31,
   "id": "5a56ed5d",
   "metadata": {},
   "outputs": [
    {
     "name": "stdout",
     "output_type": "stream",
     "text": [
      "Using Device: cuda\n"
     ]
    }
   ],
   "source": [
    "# Check For GPU\n",
    "device = torch.device(\"cuda\" if torch.cuda.is_available() else \"cpu\")\n",
    "print(\"Using Device:\", device)"
   ]
  },
  {
   "cell_type": "code",
   "execution_count": 32,
   "id": "b9c8972b",
   "metadata": {},
   "outputs": [
    {
     "data": {
      "text/html": [
       "<div>\n",
       "<style scoped>\n",
       "    .dataframe tbody tr th:only-of-type {\n",
       "        vertical-align: middle;\n",
       "    }\n",
       "\n",
       "    .dataframe tbody tr th {\n",
       "        vertical-align: top;\n",
       "    }\n",
       "\n",
       "    .dataframe thead th {\n",
       "        text-align: right;\n",
       "    }\n",
       "</style>\n",
       "<table border=\"1\" class=\"dataframe\">\n",
       "  <thead>\n",
       "    <tr style=\"text-align: right;\">\n",
       "      <th></th>\n",
       "      <th>label</th>\n",
       "      <th>pixel1</th>\n",
       "      <th>pixel2</th>\n",
       "      <th>pixel3</th>\n",
       "      <th>pixel4</th>\n",
       "      <th>pixel5</th>\n",
       "      <th>pixel6</th>\n",
       "      <th>pixel7</th>\n",
       "      <th>pixel8</th>\n",
       "      <th>pixel9</th>\n",
       "      <th>...</th>\n",
       "      <th>pixel775</th>\n",
       "      <th>pixel776</th>\n",
       "      <th>pixel777</th>\n",
       "      <th>pixel778</th>\n",
       "      <th>pixel779</th>\n",
       "      <th>pixel780</th>\n",
       "      <th>pixel781</th>\n",
       "      <th>pixel782</th>\n",
       "      <th>pixel783</th>\n",
       "      <th>pixel784</th>\n",
       "    </tr>\n",
       "  </thead>\n",
       "  <tbody>\n",
       "    <tr>\n",
       "      <th>0</th>\n",
       "      <td>2</td>\n",
       "      <td>0</td>\n",
       "      <td>0</td>\n",
       "      <td>0</td>\n",
       "      <td>0</td>\n",
       "      <td>0</td>\n",
       "      <td>0</td>\n",
       "      <td>0</td>\n",
       "      <td>0</td>\n",
       "      <td>0</td>\n",
       "      <td>...</td>\n",
       "      <td>0</td>\n",
       "      <td>0</td>\n",
       "      <td>0</td>\n",
       "      <td>0</td>\n",
       "      <td>0</td>\n",
       "      <td>0</td>\n",
       "      <td>0</td>\n",
       "      <td>0</td>\n",
       "      <td>0</td>\n",
       "      <td>0</td>\n",
       "    </tr>\n",
       "    <tr>\n",
       "      <th>1</th>\n",
       "      <td>9</td>\n",
       "      <td>0</td>\n",
       "      <td>0</td>\n",
       "      <td>0</td>\n",
       "      <td>0</td>\n",
       "      <td>0</td>\n",
       "      <td>0</td>\n",
       "      <td>0</td>\n",
       "      <td>0</td>\n",
       "      <td>0</td>\n",
       "      <td>...</td>\n",
       "      <td>0</td>\n",
       "      <td>0</td>\n",
       "      <td>0</td>\n",
       "      <td>0</td>\n",
       "      <td>0</td>\n",
       "      <td>0</td>\n",
       "      <td>0</td>\n",
       "      <td>0</td>\n",
       "      <td>0</td>\n",
       "      <td>0</td>\n",
       "    </tr>\n",
       "    <tr>\n",
       "      <th>2</th>\n",
       "      <td>6</td>\n",
       "      <td>0</td>\n",
       "      <td>0</td>\n",
       "      <td>0</td>\n",
       "      <td>0</td>\n",
       "      <td>0</td>\n",
       "      <td>0</td>\n",
       "      <td>0</td>\n",
       "      <td>5</td>\n",
       "      <td>0</td>\n",
       "      <td>...</td>\n",
       "      <td>0</td>\n",
       "      <td>0</td>\n",
       "      <td>0</td>\n",
       "      <td>30</td>\n",
       "      <td>43</td>\n",
       "      <td>0</td>\n",
       "      <td>0</td>\n",
       "      <td>0</td>\n",
       "      <td>0</td>\n",
       "      <td>0</td>\n",
       "    </tr>\n",
       "    <tr>\n",
       "      <th>3</th>\n",
       "      <td>0</td>\n",
       "      <td>0</td>\n",
       "      <td>0</td>\n",
       "      <td>0</td>\n",
       "      <td>1</td>\n",
       "      <td>2</td>\n",
       "      <td>0</td>\n",
       "      <td>0</td>\n",
       "      <td>0</td>\n",
       "      <td>0</td>\n",
       "      <td>...</td>\n",
       "      <td>3</td>\n",
       "      <td>0</td>\n",
       "      <td>0</td>\n",
       "      <td>0</td>\n",
       "      <td>0</td>\n",
       "      <td>1</td>\n",
       "      <td>0</td>\n",
       "      <td>0</td>\n",
       "      <td>0</td>\n",
       "      <td>0</td>\n",
       "    </tr>\n",
       "    <tr>\n",
       "      <th>4</th>\n",
       "      <td>3</td>\n",
       "      <td>0</td>\n",
       "      <td>0</td>\n",
       "      <td>0</td>\n",
       "      <td>0</td>\n",
       "      <td>0</td>\n",
       "      <td>0</td>\n",
       "      <td>0</td>\n",
       "      <td>0</td>\n",
       "      <td>0</td>\n",
       "      <td>...</td>\n",
       "      <td>0</td>\n",
       "      <td>0</td>\n",
       "      <td>0</td>\n",
       "      <td>0</td>\n",
       "      <td>0</td>\n",
       "      <td>0</td>\n",
       "      <td>0</td>\n",
       "      <td>0</td>\n",
       "      <td>0</td>\n",
       "      <td>0</td>\n",
       "    </tr>\n",
       "  </tbody>\n",
       "</table>\n",
       "<p>5 rows × 785 columns</p>\n",
       "</div>"
      ],
      "text/plain": [
       "   label  pixel1  pixel2  pixel3  pixel4  pixel5  pixel6  pixel7  pixel8  \\\n",
       "0      2       0       0       0       0       0       0       0       0   \n",
       "1      9       0       0       0       0       0       0       0       0   \n",
       "2      6       0       0       0       0       0       0       0       5   \n",
       "3      0       0       0       0       1       2       0       0       0   \n",
       "4      3       0       0       0       0       0       0       0       0   \n",
       "\n",
       "   pixel9  ...  pixel775  pixel776  pixel777  pixel778  pixel779  pixel780  \\\n",
       "0       0  ...         0         0         0         0         0         0   \n",
       "1       0  ...         0         0         0         0         0         0   \n",
       "2       0  ...         0         0         0        30        43         0   \n",
       "3       0  ...         3         0         0         0         0         1   \n",
       "4       0  ...         0         0         0         0         0         0   \n",
       "\n",
       "   pixel781  pixel782  pixel783  pixel784  \n",
       "0         0         0         0         0  \n",
       "1         0         0         0         0  \n",
       "2         0         0         0         0  \n",
       "3         0         0         0         0  \n",
       "4         0         0         0         0  \n",
       "\n",
       "[5 rows x 785 columns]"
      ]
     },
     "execution_count": 32,
     "metadata": {},
     "output_type": "execute_result"
    }
   ],
   "source": [
    "df = pd.read_csv(\"E:\\\\Notes\\\\Python'\\\\PyTorch\\\\Datasets\\\\Fashion-mnist\\\\fashion-mnist_train.csv\")\n",
    "df.head()"
   ]
  },
  {
   "cell_type": "code",
   "execution_count": 33,
   "id": "abeb6e8a",
   "metadata": {},
   "outputs": [
    {
     "data": {
      "image/png": "[encoded data removed]",
      "text/plain": [
       "<Figure size 1000x1000 with 16 Axes>"
      ]
     },
     "metadata": {},
     "output_type": "display_data"
    }
   ],
   "source": [
    "# Creating a Sample of the Dataset Images (4x4 Grid)\n",
    "fig, axes = plt.subplots(4,4, figsize=(10, 10))\n",
    "fig.suptitle(\"First 16 Images from Dataset\", fontsize=16)\n",
    "\n",
    "for i,ax in enumerate(axes.flat):\n",
    "    img = df.iloc[i, 1:].values.reshape(28, 28)  # Reshape to 28x28\n",
    "    ax.imshow(img)  #Display image in grayscale\n",
    "    ax.axis('off')  # Hide axes\n",
    "    ax.set_title(f\"Label: {df.iloc[i,0]}\")  # Display label\n",
    "\n",
    "plt.tight_layout(rect=[0,0,1,0.96]) # Adjust layout to make room for the title\n",
    "plt.show()\n",
    "\n"
   ]
  },
  {
   "cell_type": "code",
   "execution_count": 34,
   "id": "df62ee07",
   "metadata": {},
   "outputs": [],
   "source": [
    "# Train_Test Split\n",
    "\n",
    "X = df.iloc[:, 1:].values\n",
    "y = df.iloc[:, 0].values\n",
    "\n",
    "X_train, X_test, y_train, y_test = train_test_split(X, y, test_size=0.2, random_state=42)"
   ]
  },
  {
   "cell_type": "code",
   "execution_count": 35,
   "id": "9502344f",
   "metadata": {},
   "outputs": [],
   "source": [
    "# Scaling the Image Features between 0 and 1\n",
    "\n",
    "X_train = X_train/255.0\n",
    "X_test = X_test/255.0"
   ]
  },
  {
   "cell_type": "code",
   "execution_count": 36,
   "id": "fdeb6844",
   "metadata": {},
   "outputs": [
    {
     "data": {
      "text/plain": [
       "array([[0.        , 0.        , 0.        , ..., 0.        , 0.        ,\n",
       "        0.        ],\n",
       "       [0.        , 0.        , 0.        , ..., 0.        , 0.        ,\n",
       "        0.        ],\n",
       "       [0.        , 0.        , 0.        , ..., 0.        , 0.        ,\n",
       "        0.        ],\n",
       "       ...,\n",
       "       [0.        , 0.        , 0.        , ..., 0.        , 0.        ,\n",
       "        0.        ],\n",
       "       [0.        , 0.        , 0.        , ..., 0.        , 0.        ,\n",
       "        0.        ],\n",
       "       [0.        , 0.        , 0.        , ..., 0.00392157, 0.        ,\n",
       "        0.        ]], shape=(48000, 784))"
      ]
     },
     "execution_count": 36,
     "metadata": {},
     "output_type": "execute_result"
    }
   ],
   "source": [
    "X_train"
   ]
  },
  {
   "cell_type": "code",
   "execution_count": 37,
   "id": "a63d6ee9",
   "metadata": {},
   "outputs": [],
   "source": [
    "# Custom Dataset\n",
    "\n",
    "class CustomDataset(Dataset):\n",
    "\n",
    "    def __init__(self, features, labels):\n",
    "\n",
    "        self.features = torch.tensor(features, dtype=torch.float32)\n",
    "        self.labels = torch.tensor(labels, dtype=torch.long)\n",
    "\n",
    "    \n",
    "    def __len__(self):\n",
    "\n",
    "        return len(self.features)\n",
    "    \n",
    "    def __getitem__(self, index):\n",
    "\n",
    "        return self.features[index], self.labels[index]"
   ]
  },
  {
   "cell_type": "code",
   "execution_count": 38,
   "id": "c668392c",
   "metadata": {},
   "outputs": [],
   "source": [
    "# Creating a Train Dataset Object\n",
    "train_dataset = CustomDataset(X_train, y_train)"
   ]
  },
  {
   "cell_type": "code",
   "execution_count": 39,
   "id": "a26778cb",
   "metadata": {},
   "outputs": [],
   "source": [
    "# Creating a Test Dataset Object\n",
    "test_dataset = CustomDataset(X_test, y_test)"
   ]
  },
  {
   "cell_type": "code",
   "execution_count": 40,
   "id": "8261bbca",
   "metadata": {},
   "outputs": [],
   "source": [
    "# Train & Test Dataloader\n",
    "\n",
    "train_loader = DataLoader(train_dataset, batch_size=128, shuffle=True, pin_memory=True)  # pin_memory=True is used for faster data transfer to GPU\n",
    "test_loader = DataLoader(test_dataset, batch_size=128, shuffle=False, pin_memory=True)"
   ]
  },
  {
   "cell_type": "code",
   "execution_count": 41,
   "id": "9a0b345c",
   "metadata": {},
   "outputs": [],
   "source": [
    "# Model Architecture\n",
    "\n",
    "class ANN(nn.Module):\n",
    "\n",
    "    def __init__(self, num_features):\n",
    "        super().__init__()\n",
    "\n",
    "        self.model = nn.Sequential(\n",
    "            nn.Linear(num_features, 128),\n",
    "            nn.BatchNorm1d(128),\n",
    "            nn.ReLU(),\n",
    "            nn.Dropout(p=0.3),\n",
    "            nn.Linear(128, 64),\n",
    "            nn.BatchNorm1d(64),\n",
    "            nn.ReLU(),\n",
    "            nn.Dropout(p=0.3),\n",
    "            nn.Linear(64,10)\n",
    "            # nn.Softmax(dim=1)  # Softmax is applied in the loss function\n",
    "        )\n",
    "\n",
    "    def forward(self, x):\n",
    "        return self.model(x)"
   ]
  },
  {
   "cell_type": "code",
   "execution_count": 42,
   "id": "bbb833a4",
   "metadata": {},
   "outputs": [],
   "source": [
    "Epochs = 100\n",
    "learning_rate = 0.1"
   ]
  },
  {
   "cell_type": "code",
   "execution_count": 43,
   "id": "1cdf3ac2",
   "metadata": {},
   "outputs": [],
   "source": [
    "# Object of the ANN Class\n",
    "model = ANN(X_train.shape[1])\n",
    "model = model.to(device) # Move the model to the same device as the data\n",
    "\n",
    "# Loss Function and Optimizer\n",
    "criterion = nn.CrossEntropyLoss() # CrossEntropyLoss combines softmax and negative log-likelihood loss\n",
    "\n",
    "optimizer = optim.SGD(model.parameters(), lr = learning_rate, weight_decay=1e-4)"
   ]
  },
  {
   "cell_type": "code",
   "execution_count": 44,
   "id": "880d96c0",
   "metadata": {},
   "outputs": [
    {
     "data": {
      "text/plain": [
       "(375, 94)"
      ]
     },
     "execution_count": 44,
     "metadata": {},
     "output_type": "execute_result"
    }
   ],
   "source": [
    "len(train_loader), len(test_loader)  # No. of Batches for train and test loaders"
   ]
  },
  {
   "cell_type": "code",
   "execution_count": 45,
   "id": "f50a4a74",
   "metadata": {},
   "outputs": [
    {
     "name": "stdout",
     "output_type": "stream",
     "text": [
      "Epoch: 1, Loss: 0.6623\n",
      "Epoch: 2, Loss: 0.4865\n",
      "Epoch: 3, Loss: 0.4449\n",
      "Epoch: 4, Loss: 0.4167\n",
      "Epoch: 5, Loss: 0.3953\n",
      "Epoch: 6, Loss: 0.3881\n",
      "Epoch: 7, Loss: 0.3726\n",
      "Epoch: 8, Loss: 0.3623\n",
      "Epoch: 9, Loss: 0.3535\n",
      "Epoch: 10, Loss: 0.3469\n",
      "Epoch: 11, Loss: 0.3383\n",
      "Epoch: 12, Loss: 0.3336\n",
      "Epoch: 13, Loss: 0.3241\n",
      "Epoch: 14, Loss: 0.3174\n",
      "Epoch: 15, Loss: 0.3132\n",
      "Epoch: 16, Loss: 0.3116\n",
      "Epoch: 17, Loss: 0.3039\n",
      "Epoch: 18, Loss: 0.3000\n",
      "Epoch: 19, Loss: 0.2961\n",
      "Epoch: 20, Loss: 0.2888\n",
      "Epoch: 21, Loss: 0.2852\n",
      "Epoch: 22, Loss: 0.2852\n",
      "Epoch: 23, Loss: 0.2815\n",
      "Epoch: 24, Loss: 0.2765\n",
      "Epoch: 25, Loss: 0.2731\n",
      "Epoch: 26, Loss: 0.2723\n",
      "Epoch: 27, Loss: 0.2670\n",
      "Epoch: 28, Loss: 0.2663\n",
      "Epoch: 29, Loss: 0.2627\n",
      "Epoch: 30, Loss: 0.2596\n",
      "Epoch: 31, Loss: 0.2574\n",
      "Epoch: 32, Loss: 0.2552\n",
      "Epoch: 33, Loss: 0.2520\n",
      "Epoch: 34, Loss: 0.2501\n",
      "Epoch: 35, Loss: 0.2474\n",
      "Epoch: 36, Loss: 0.2484\n",
      "Epoch: 37, Loss: 0.2444\n",
      "Epoch: 38, Loss: 0.2434\n",
      "Epoch: 39, Loss: 0.2404\n",
      "Epoch: 40, Loss: 0.2385\n",
      "Epoch: 41, Loss: 0.2358\n",
      "Epoch: 42, Loss: 0.2349\n",
      "Epoch: 43, Loss: 0.2346\n",
      "Epoch: 44, Loss: 0.2341\n",
      "Epoch: 45, Loss: 0.2270\n",
      "Epoch: 46, Loss: 0.2268\n",
      "Epoch: 47, Loss: 0.2216\n",
      "Epoch: 48, Loss: 0.2269\n",
      "Epoch: 49, Loss: 0.2245\n",
      "Epoch: 50, Loss: 0.2192\n",
      "Epoch: 51, Loss: 0.2192\n",
      "Epoch: 52, Loss: 0.2187\n",
      "Epoch: 53, Loss: 0.2176\n",
      "Epoch: 54, Loss: 0.2153\n",
      "Epoch: 55, Loss: 0.2170\n",
      "Epoch: 56, Loss: 0.2147\n",
      "Epoch: 57, Loss: 0.2106\n",
      "Epoch: 58, Loss: 0.2086\n",
      "Epoch: 59, Loss: 0.2089\n",
      "Epoch: 60, Loss: 0.2087\n",
      "Epoch: 61, Loss: 0.2107\n",
      "Epoch: 62, Loss: 0.2063\n",
      "Epoch: 63, Loss: 0.2050\n",
      "Epoch: 64, Loss: 0.2025\n",
      "Epoch: 65, Loss: 0.2047\n",
      "Epoch: 66, Loss: 0.1987\n",
      "Epoch: 67, Loss: 0.2008\n",
      "Epoch: 68, Loss: 0.2010\n",
      "Epoch: 69, Loss: 0.1990\n",
      "Epoch: 70, Loss: 0.1974\n",
      "Epoch: 71, Loss: 0.1969\n",
      "Epoch: 72, Loss: 0.1991\n",
      "Epoch: 73, Loss: 0.1952\n",
      "Epoch: 74, Loss: 0.1973\n",
      "Epoch: 75, Loss: 0.1920\n",
      "Epoch: 76, Loss: 0.1936\n",
      "Epoch: 77, Loss: 0.1891\n",
      "Epoch: 78, Loss: 0.1922\n",
      "Epoch: 79, Loss: 0.1903\n",
      "Epoch: 80, Loss: 0.1926\n",
      "Epoch: 81, Loss: 0.1891\n",
      "Epoch: 82, Loss: 0.1916\n",
      "Epoch: 83, Loss: 0.1872\n",
      "Epoch: 84, Loss: 0.1872\n",
      "Epoch: 85, Loss: 0.1869\n",
      "Epoch: 86, Loss: 0.1900\n",
      "Epoch: 87, Loss: 0.1832\n",
      "Epoch: 88, Loss: 0.1861\n",
      "Epoch: 89, Loss: 0.1858\n",
      "Epoch: 90, Loss: 0.1820\n",
      "Epoch: 91, Loss: 0.1791\n",
      "Epoch: 92, Loss: 0.1851\n",
      "Epoch: 93, Loss: 0.1770\n",
      "Epoch: 94, Loss: 0.1773\n",
      "Epoch: 95, Loss: 0.1797\n",
      "Epoch: 96, Loss: 0.1792\n",
      "Epoch: 97, Loss: 0.1783\n",
      "Epoch: 98, Loss: 0.1739\n",
      "Epoch: 99, Loss: 0.1779\n",
      "Epoch: 100, Loss: 0.1782\n"
     ]
    }
   ],
   "source": [
    "# Training Loop\n",
    "\n",
    "for epoch in range(Epochs):\n",
    "\n",
    "    model.train()  # Set the Model to Training Mode\n",
    "    running_loss = 0.0     # Iterate over the training data\n",
    "\n",
    "    for batch_features, batch_labels in train_loader:\n",
    "\n",
    "        batch_features, batch_labels = batch_features.to(device), batch_labels.to(device) # Move to GPU if available\n",
    "\n",
    "        # Forward Pass\n",
    "        output = model(batch_features)\n",
    "\n",
    "        # Loss\n",
    "        loss = criterion(output, batch_labels)\n",
    "\n",
    "        # Backward Pass\n",
    "        optimizer.zero_grad()  # Clear previous gradients\n",
    "        loss.backward()\n",
    "\n",
    "        # Update Gradients\n",
    "        optimizer.step()\n",
    "\n",
    "        running_loss += loss.item()  # Accumulate the loss\n",
    "    \n",
    "    # Print the average loss for the epoch\n",
    "    avg_loss = running_loss/len(train_loader)\n",
    "    print(f'Epoch: {epoch+1}, Loss: {avg_loss:.4f}')\n"
   ]
  },
  {
   "cell_type": "code",
   "execution_count": 46,
   "id": "9d0f0143",
   "metadata": {},
   "outputs": [
    {
     "data": {
      "text/plain": [
       "ANN(\n",
       "  (model): Sequential(\n",
       "    (0): Linear(in_features=784, out_features=128, bias=True)\n",
       "    (1): BatchNorm1d(128, eps=1e-05, momentum=0.1, affine=True, track_running_stats=True)\n",
       "    (2): ReLU()\n",
       "    (3): Dropout(p=0.3, inplace=False)\n",
       "    (4): Linear(in_features=128, out_features=64, bias=True)\n",
       "    (5): BatchNorm1d(64, eps=1e-05, momentum=0.1, affine=True, track_running_stats=True)\n",
       "    (6): ReLU()\n",
       "    (7): Dropout(p=0.3, inplace=False)\n",
       "    (8): Linear(in_features=64, out_features=10, bias=True)\n",
       "  )\n",
       ")"
      ]
     },
     "execution_count": 46,
     "metadata": {},
     "output_type": "execute_result"
    }
   ],
   "source": [
    "# Evaluation\n",
    "model.eval()  # Because we are evaluating the model so there are differnt Prameters like dropout, batchnorm, etc."
   ]
  },
  {
   "cell_type": "code",
   "execution_count": 47,
   "id": "7bfc74a7",
   "metadata": {},
   "outputs": [
    {
     "name": "stdout",
     "output_type": "stream",
     "text": [
      "Accuracy of the model on the test set: 0.8857\n"
     ]
    }
   ],
   "source": [
    "# Eval Code\n",
    "total , correct = 0, 0\n",
    "\n",
    "with torch.no_grad():  # No need to compute gradients during evaluation\n",
    "\n",
    "    for batch_features, batch_labels in test_loader:\n",
    "        batch_features, batch_labels = batch_features.to(device), batch_labels.to(device)\n",
    "\n",
    "        outputs = model(batch_features)\n",
    "\n",
    "        _, predicted = torch.max(outputs, 1)  # Get the index of the max log-probability\n",
    "\n",
    "        total += batch_labels.shape[0]  # Total number of samples\n",
    "        correct += (predicted == batch_labels).sum().item()\n",
    "\n",
    "accuracy = correct / total\n",
    "print(f'Accuracy of the model on the test set: {accuracy:.4f}')"
   ]
  },
  {
   "cell_type": "code",
   "execution_count": null,
   "id": "bbf12e46",
   "metadata": {},
   "outputs": [
    {
     "name": "stdout",
     "output_type": "stream",
     "text": [
      "Accuracy of the model on the train set: 0.9616\n"
     ]
    },
    {
     "ename": "",
     "evalue": "",
     "output_type": "error",
     "traceback": [
      "\u001b[1;31mThe Kernel crashed while executing code in the current cell or a previous cell. \n",
      "\u001b[1;31mPlease review the code in the cell(s) to identify a possible cause of the failure. \n",
      "\u001b[1;31mClick <a href='https://aka.ms/vscodeJupyterKernelCrash'>here</a> for more info. \n",
      "\u001b[1;31mView Jupyter <a href='command:jupyter.viewOutput'>log</a> for further details."
     ]
    }
   ],
   "source": [
    "# Eval Code\n",
    "total , correct = 0, 0\n",
    "\n",
    "with torch.no_grad():  # No need to compute gradients during evaluation\n",
    "\n",
    "    for batch_features, batch_labels in train_loader:\n",
    "        batch_features, batch_labels = batch_features.to(device), batch_labels.to(device)\n",
    "\n",
    "        outputs = model(batch_features)\n",
    "\n",
    "        _, predicted = torch.max(outputs, 1)  # Get the index of the max log-probability\n",
    "\n",
    "        total += batch_labels.shape[0]  # Total number of samples\n",
    "        correct += (predicted == batch_labels).sum().item()\n",
    "\n",
    "accuracy = correct / total\n",
    "print(f'Accuracy of the model on the train set: {accuracy:.4f}')"
   ]
  },
  {
   "cell_type": "markdown",
   "id": "b288b08b",
   "metadata": {},
   "source": [
    "Although test accuracy = 88.7%, the training accuracy = 98%.\n",
    "\n",
    "This means the model is:\n",
    "\n",
    "Performing well on training data but not generalizing well to unseen test data\n",
    "\n",
    "This is called overfitting — when a model memorizes training data instead of learning patterns."
   ]
  }
 ],
 "metadata": {
  "kernelspec": {
   "display_name": "Python 3",
   "language": "python",
   "name": "python3"
  },
  "language_info": {
   "codemirror_mode": {
    "name": "ipython",
    "version": 3
   },
   "file_extension": ".py",
   "mimetype": "text/x-python",
   "name": "python",
   "nbconvert_exporter": "python",
   "pygments_lexer": "ipython3",
   "version": "3.12.5"
  }
 },
 "nbformat": 4,
 "nbformat_minor": 5
}
