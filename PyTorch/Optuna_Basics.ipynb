{
 "cells": [
  {
   "cell_type": "code",
   "execution_count": 2,
   "id": "69144207",
   "metadata": {},
   "outputs": [
    {
     "data": {
      "text/html": [
       "<div>\n",
       "<style scoped>\n",
       "    .dataframe tbody tr th:only-of-type {\n",
       "        vertical-align: middle;\n",
       "    }\n",
       "\n",
       "    .dataframe tbody tr th {\n",
       "        vertical-align: top;\n",
       "    }\n",
       "\n",
       "    .dataframe thead th {\n",
       "        text-align: right;\n",
       "    }\n",
       "</style>\n",
       "<table border=\"1\" class=\"dataframe\">\n",
       "  <thead>\n",
       "    <tr style=\"text-align: right;\">\n",
       "      <th></th>\n",
       "      <th>Pregnancies</th>\n",
       "      <th>Glucose</th>\n",
       "      <th>BloodPressure</th>\n",
       "      <th>SkinThickness</th>\n",
       "      <th>Insulin</th>\n",
       "      <th>BMI</th>\n",
       "      <th>DiabetesPedigreeFunction</th>\n",
       "      <th>Age</th>\n",
       "      <th>Outcome</th>\n",
       "    </tr>\n",
       "  </thead>\n",
       "  <tbody>\n",
       "    <tr>\n",
       "      <th>0</th>\n",
       "      <td>6</td>\n",
       "      <td>148</td>\n",
       "      <td>72</td>\n",
       "      <td>35</td>\n",
       "      <td>0</td>\n",
       "      <td>33.6</td>\n",
       "      <td>0.627</td>\n",
       "      <td>50</td>\n",
       "      <td>1</td>\n",
       "    </tr>\n",
       "    <tr>\n",
       "      <th>1</th>\n",
       "      <td>1</td>\n",
       "      <td>85</td>\n",
       "      <td>66</td>\n",
       "      <td>29</td>\n",
       "      <td>0</td>\n",
       "      <td>26.6</td>\n",
       "      <td>0.351</td>\n",
       "      <td>31</td>\n",
       "      <td>0</td>\n",
       "    </tr>\n",
       "    <tr>\n",
       "      <th>2</th>\n",
       "      <td>8</td>\n",
       "      <td>183</td>\n",
       "      <td>64</td>\n",
       "      <td>0</td>\n",
       "      <td>0</td>\n",
       "      <td>23.3</td>\n",
       "      <td>0.672</td>\n",
       "      <td>32</td>\n",
       "      <td>1</td>\n",
       "    </tr>\n",
       "    <tr>\n",
       "      <th>3</th>\n",
       "      <td>1</td>\n",
       "      <td>89</td>\n",
       "      <td>66</td>\n",
       "      <td>23</td>\n",
       "      <td>94</td>\n",
       "      <td>28.1</td>\n",
       "      <td>0.167</td>\n",
       "      <td>21</td>\n",
       "      <td>0</td>\n",
       "    </tr>\n",
       "    <tr>\n",
       "      <th>4</th>\n",
       "      <td>0</td>\n",
       "      <td>137</td>\n",
       "      <td>40</td>\n",
       "      <td>35</td>\n",
       "      <td>168</td>\n",
       "      <td>43.1</td>\n",
       "      <td>2.288</td>\n",
       "      <td>33</td>\n",
       "      <td>1</td>\n",
       "    </tr>\n",
       "  </tbody>\n",
       "</table>\n",
       "</div>"
      ],
      "text/plain": [
       "   Pregnancies  Glucose  BloodPressure  ...  DiabetesPedigreeFunction  Age  Outcome\n",
       "0            6      148             72  ...                     0.627   50        1\n",
       "1            1       85             66  ...                     0.351   31        0\n",
       "2            8      183             64  ...                     0.672   32        1\n",
       "3            1       89             66  ...                     0.167   21        0\n",
       "4            0      137             40  ...                     2.288   33        1\n",
       "\n",
       "[5 rows x 9 columns]"
      ]
     },
     "execution_count": 2,
     "metadata": {},
     "output_type": "execute_result"
    }
   ],
   "source": [
    "import optuna\n",
    "from sklearn.datasets import load_diabetes\n",
    "from sklearn.model_selection import train_test_split\n",
    "from sklearn.preprocessing import StandardScaler\n",
    "import pandas as pd\n",
    "import numpy as np\n",
    "\n",
    "url = \"https://raw.githubusercontent.com/jbrownlee/Datasets/master/pima-indians-diabetes.data.csv\"\n",
    "columns = ['Pregnancies', 'Glucose', 'BloodPressure', 'SkinThickness', 'Insulin', 'BMI',\n",
    "           'DiabetesPedigreeFunction', 'Age', 'Outcome']\n",
    "\n",
    "df = pd.read_csv(url, names=columns)\n",
    "df.head()"
   ]
  },
  {
   "cell_type": "code",
   "execution_count": 3,
   "id": "3e3ac457",
   "metadata": {},
   "outputs": [
    {
     "name": "stdout",
     "output_type": "stream",
     "text": [
      "Pregnancies                 0\n",
      "Glucose                     0\n",
      "BloodPressure               0\n",
      "SkinThickness               0\n",
      "Insulin                     0\n",
      "BMI                         0\n",
      "DiabetesPedigreeFunction    0\n",
      "Age                         0\n",
      "Outcome                     0\n",
      "dtype: int64\n"
     ]
    }
   ],
   "source": [
    "# Replace zeros with NaN in specific columns\n",
    "cols_with_zeros = ['Glucose', 'BloodPressure', 'SkinThickness', 'Insulin', 'BMI']\n",
    "df[cols_with_zeros] = df[cols_with_zeros].replace(0, np.nan)\n",
    "\n",
    "# Impute missing values using mean\n",
    "df.fillna(df.mean(), inplace=True)\n",
    "\n",
    "print(df.isnull().sum())"
   ]
  },
  {
   "cell_type": "code",
   "execution_count": 5,
   "id": "7cfcf5a5",
   "metadata": {},
   "outputs": [
    {
     "name": "stdout",
     "output_type": "stream",
     "text": [
      "(537, 8) (231, 8) (537,) (231,)\n"
     ]
    }
   ],
   "source": [
    "X = df.drop(\"Outcome\", axis=1)\n",
    "y = df['Outcome']\n",
    "\n",
    "X_train, X_test, y_train, y_test = train_test_split(X,y, test_size=0.3, random_state=42)\n",
    "\n",
    "scaler=StandardScaler()\n",
    "X_train = scaler.fit_transform(X_train)\n",
    "X_test = scaler.transform(X_test)\n",
    "\n",
    "print(X_train.shape, X_test.shape, y_train.shape, y_test.shape)"
   ]
  },
  {
   "cell_type": "code",
   "execution_count": 6,
   "id": "f5a30a45",
   "metadata": {},
   "outputs": [],
   "source": [
    "from sklearn.ensemble import RandomForestClassifier\n",
    "from sklearn.model_selection import cross_val_score\n",
    "\n",
    "# Define the objective function for Optuna\n",
    "def objective(trial):\n",
    "    n_estimators = trial.suggest_int('n_estimators', 50,200)  # Number of trees in the forest (Range: 50 to 200)\n",
    "    max_depth = trial.suggest_int('max_depth', 5,20)\n",
    "\n",
    "    model = RandomForestClassifier(\n",
    "        n_estimators = n_estimators,\n",
    "        max_depth = max_depth,\n",
    "        random_state=42\n",
    "    ) \n",
    "\n",
    "    # Perform 3 fold cross val\n",
    "    score = cross_val_score(model, X_train, y_train, cv=3, scoring='accuracy').mean()\n",
    "\n",
    "    return score"
   ]
  },
  {
   "cell_type": "code",
   "execution_count": 8,
   "id": "75bc03ea",
   "metadata": {},
   "outputs": [
    {
     "name": "stderr",
     "output_type": "stream",
     "text": [
      "[I 2025-07-28 20:38:13,502] A new study created in memory with name: no-name-756b9923-821d-46d0-8f39-599d70d43661\n",
      "[I 2025-07-28 20:38:13,884] Trial 0 finished with value: 0.7709497206703911 and parameters: {'n_estimators': 149, 'max_depth': 7}. Best is trial 0 with value: 0.7709497206703911.\n",
      "[I 2025-07-28 20:38:14,120] Trial 1 finished with value: 0.7635009310986964 and parameters: {'n_estimators': 94, 'max_depth': 11}. Best is trial 0 with value: 0.7709497206703911.\n",
      "[I 2025-07-28 20:38:14,355] Trial 2 finished with value: 0.7709497206703911 and parameters: {'n_estimators': 93, 'max_depth': 17}. Best is trial 0 with value: 0.7709497206703911.\n",
      "[I 2025-07-28 20:38:14,702] Trial 3 finished with value: 0.7728119180633147 and parameters: {'n_estimators': 143, 'max_depth': 7}. Best is trial 3 with value: 0.7728119180633147.\n",
      "[I 2025-07-28 20:38:14,982] Trial 4 finished with value: 0.7709497206703911 and parameters: {'n_estimators': 123, 'max_depth': 5}. Best is trial 3 with value: 0.7728119180633147.\n",
      "[I 2025-07-28 20:38:15,408] Trial 5 finished with value: 0.7746741154562384 and parameters: {'n_estimators': 179, 'max_depth': 7}. Best is trial 5 with value: 0.7746741154562384.\n",
      "[I 2025-07-28 20:38:15,814] Trial 6 finished with value: 0.7690875232774674 and parameters: {'n_estimators': 165, 'max_depth': 11}. Best is trial 5 with value: 0.7746741154562384.\n",
      "[I 2025-07-28 20:38:16,060] Trial 7 finished with value: 0.7746741154562384 and parameters: {'n_estimators': 100, 'max_depth': 12}. Best is trial 5 with value: 0.7746741154562384.\n",
      "[I 2025-07-28 20:38:16,512] Trial 8 finished with value: 0.7690875232774674 and parameters: {'n_estimators': 187, 'max_depth': 15}. Best is trial 5 with value: 0.7746741154562384.\n",
      "[I 2025-07-28 20:38:16,809] Trial 9 finished with value: 0.7858472998137803 and parameters: {'n_estimators': 121, 'max_depth': 15}. Best is trial 9 with value: 0.7858472998137803.\n",
      "[I 2025-07-28 20:38:16,969] Trial 10 finished with value: 0.7690875232774674 and parameters: {'n_estimators': 56, 'max_depth': 19}. Best is trial 9 with value: 0.7858472998137803.\n",
      "[I 2025-07-28 20:38:17,442] Trial 11 finished with value: 0.7690875232774674 and parameters: {'n_estimators': 191, 'max_depth': 15}. Best is trial 9 with value: 0.7858472998137803.\n",
      "[I 2025-07-28 20:38:17,741] Trial 12 finished with value: 0.7672253258845437 and parameters: {'n_estimators': 118, 'max_depth': 9}. Best is trial 9 with value: 0.7858472998137803.\n",
      "[I 2025-07-28 20:38:18,178] Trial 13 finished with value: 0.7746741154562384 and parameters: {'n_estimators': 175, 'max_depth': 14}. Best is trial 9 with value: 0.7858472998137803.\n",
      "[I 2025-07-28 20:38:18,550] Trial 14 finished with value: 0.7709497206703911 and parameters: {'n_estimators': 145, 'max_depth': 20}. Best is trial 9 with value: 0.7858472998137803.\n",
      "[I 2025-07-28 20:38:18,726] Trial 15 finished with value: 0.7783985102420857 and parameters: {'n_estimators': 67, 'max_depth': 17}. Best is trial 9 with value: 0.7858472998137803.\n",
      "[I 2025-07-28 20:38:18,881] Trial 16 finished with value: 0.7709497206703911 and parameters: {'n_estimators': 58, 'max_depth': 17}. Best is trial 9 with value: 0.7858472998137803.\n",
      "[I 2025-07-28 20:38:19,071] Trial 17 finished with value: 0.7802607076350094 and parameters: {'n_estimators': 73, 'max_depth': 17}. Best is trial 9 with value: 0.7858472998137803.\n",
      "[I 2025-07-28 20:38:19,271] Trial 18 finished with value: 0.7635009310986964 and parameters: {'n_estimators': 76, 'max_depth': 14}. Best is trial 9 with value: 0.7858472998137803.\n",
      "[I 2025-07-28 20:38:19,548] Trial 19 finished with value: 0.7728119180633147 and parameters: {'n_estimators': 108, 'max_depth': 18}. Best is trial 9 with value: 0.7858472998137803.\n",
      "[I 2025-07-28 20:38:19,757] Trial 20 finished with value: 0.7709497206703911 and parameters: {'n_estimators': 80, 'max_depth': 15}. Best is trial 9 with value: 0.7858472998137803.\n",
      "[I 2025-07-28 20:38:19,945] Trial 21 finished with value: 0.7746741154562384 and parameters: {'n_estimators': 72, 'max_depth': 16}. Best is trial 9 with value: 0.7858472998137803.\n",
      "[I 2025-07-28 20:38:20,092] Trial 22 finished with value: 0.7746741154562384 and parameters: {'n_estimators': 54, 'max_depth': 20}. Best is trial 9 with value: 0.7858472998137803.\n",
      "[I 2025-07-28 20:38:20,277] Trial 23 finished with value: 0.7783985102420857 and parameters: {'n_estimators': 69, 'max_depth': 18}. Best is trial 9 with value: 0.7858472998137803.\n",
      "[I 2025-07-28 20:38:20,507] Trial 24 finished with value: 0.7635009310986964 and parameters: {'n_estimators': 88, 'max_depth': 17}. Best is trial 9 with value: 0.7858472998137803.\n",
      "[I 2025-07-28 20:38:20,792] Trial 25 finished with value: 0.7783985102420856 and parameters: {'n_estimators': 112, 'max_depth': 16}. Best is trial 9 with value: 0.7858472998137803.\n",
      "[I 2025-07-28 20:38:21,146] Trial 26 finished with value: 0.7728119180633147 and parameters: {'n_estimators': 131, 'max_depth': 13}. Best is trial 9 with value: 0.7858472998137803.\n",
      "[I 2025-07-28 20:38:21,328] Trial 27 finished with value: 0.7746741154562384 and parameters: {'n_estimators': 68, 'max_depth': 19}. Best is trial 9 with value: 0.7858472998137803.\n",
      "[I 2025-07-28 20:38:21,662] Trial 28 finished with value: 0.7802607076350093 and parameters: {'n_estimators': 133, 'max_depth': 16}. Best is trial 9 with value: 0.7858472998137803.\n",
      "[I 2025-07-28 20:38:22,062] Trial 29 finished with value: 0.7709497206703911 and parameters: {'n_estimators': 158, 'max_depth': 14}. Best is trial 9 with value: 0.7858472998137803.\n",
      "[I 2025-07-28 20:38:22,392] Trial 30 finished with value: 0.7802607076350093 and parameters: {'n_estimators': 131, 'max_depth': 12}. Best is trial 9 with value: 0.7858472998137803.\n",
      "[I 2025-07-28 20:38:22,723] Trial 31 finished with value: 0.7783985102420856 and parameters: {'n_estimators': 132, 'max_depth': 12}. Best is trial 9 with value: 0.7858472998137803.\n",
      "[I 2025-07-28 20:38:23,069] Trial 32 finished with value: 0.7746741154562383 and parameters: {'n_estimators': 137, 'max_depth': 13}. Best is trial 9 with value: 0.7858472998137803.\n",
      "[I 2025-07-28 20:38:23,449] Trial 33 finished with value: 0.7672253258845437 and parameters: {'n_estimators': 154, 'max_depth': 10}. Best is trial 9 with value: 0.7858472998137803.\n",
      "[I 2025-07-28 20:38:23,735] Trial 34 finished with value: 0.7783985102420856 and parameters: {'n_estimators': 112, 'max_depth': 16}. Best is trial 9 with value: 0.7858472998137803.\n",
      "[I 2025-07-28 20:38:23,989] Trial 35 finished with value: 0.7560521415270017 and parameters: {'n_estimators': 99, 'max_depth': 9}. Best is trial 9 with value: 0.7858472998137803.\n",
      "[I 2025-07-28 20:38:24,308] Trial 36 finished with value: 0.7653631284916201 and parameters: {'n_estimators': 125, 'max_depth': 11}. Best is trial 9 with value: 0.7858472998137803.\n",
      "[I 2025-07-28 20:38:24,667] Trial 37 finished with value: 0.7746741154562384 and parameters: {'n_estimators': 141, 'max_depth': 18}. Best is trial 9 with value: 0.7858472998137803.\n",
      "[I 2025-07-28 20:38:25,046] Trial 38 finished with value: 0.7709497206703911 and parameters: {'n_estimators': 150, 'max_depth': 13}. Best is trial 9 with value: 0.7858472998137803.\n",
      "[I 2025-07-28 20:38:25,461] Trial 39 finished with value: 0.7653631284916201 and parameters: {'n_estimators': 161, 'max_depth': 15}. Best is trial 9 with value: 0.7858472998137803.\n",
      "[I 2025-07-28 20:38:25,906] Trial 40 finished with value: 0.7765363128491621 and parameters: {'n_estimators': 169, 'max_depth': 16}. Best is trial 9 with value: 0.7858472998137803.\n",
      "[I 2025-07-28 20:38:26,140] Trial 41 finished with value: 0.7728119180633147 and parameters: {'n_estimators': 89, 'max_depth': 17}. Best is trial 9 with value: 0.7858472998137803.\n",
      "[I 2025-07-28 20:38:26,377] Trial 42 finished with value: 0.7728119180633147 and parameters: {'n_estimators': 80, 'max_depth': 19}. Best is trial 9 with value: 0.7858472998137803.\n",
      "[I 2025-07-28 20:38:26,549] Trial 43 finished with value: 0.7728119180633147 and parameters: {'n_estimators': 62, 'max_depth': 18}. Best is trial 9 with value: 0.7858472998137803.\n",
      "[I 2025-07-28 20:38:26,675] Trial 44 finished with value: 0.7746741154562384 and parameters: {'n_estimators': 50, 'max_depth': 5}. Best is trial 9 with value: 0.7858472998137803.\n",
      "[I 2025-07-28 20:38:26,976] Trial 45 finished with value: 0.7746741154562384 and parameters: {'n_estimators': 118, 'max_depth': 12}. Best is trial 9 with value: 0.7858472998137803.\n",
      "[I 2025-07-28 20:38:27,243] Trial 46 finished with value: 0.7672253258845437 and parameters: {'n_estimators': 104, 'max_depth': 14}. Best is trial 9 with value: 0.7858472998137803.\n",
      "[I 2025-07-28 20:38:27,581] Trial 47 finished with value: 0.7802607076350093 and parameters: {'n_estimators': 131, 'max_depth': 17}. Best is trial 9 with value: 0.7858472998137803.\n",
      "[I 2025-07-28 20:38:27,895] Trial 48 finished with value: 0.7783985102420856 and parameters: {'n_estimators': 124, 'max_depth': 15}. Best is trial 9 with value: 0.7858472998137803.\n",
      "[I 2025-07-28 20:38:28,227] Trial 49 finished with value: 0.7802607076350093 and parameters: {'n_estimators': 133, 'max_depth': 16}. Best is trial 9 with value: 0.7858472998137803.\n"
     ]
    }
   ],
   "source": [
    "# Creating a Study Object and optimizing the objective function\n",
    "study = optuna.create_study(direction='maximize', sampler=optuna.samplers.TPESampler())  # Sampler is default to TPE\n",
    "study.optimize(objective, n_trials=50) # Number of trials to run"
   ]
  },
  {
   "cell_type": "code",
   "execution_count": 9,
   "id": "63e4d24a",
   "metadata": {},
   "outputs": [
    {
     "name": "stdout",
     "output_type": "stream",
     "text": [
      "Best Trial Accuracy: 0.7858472998137803\n",
      "Best Hyperparameters: {'n_estimators': 121, 'max_depth': 15}\n"
     ]
    }
   ],
   "source": [
    "# Best Results\n",
    "print(\"Best Trial Accuracy:\", study.best_trial.value)\n",
    "print(\"Best Hyperparameters:\", study.best_trial.params)"
   ]
  },
  {
   "cell_type": "code",
   "execution_count": 10,
   "id": "4a3bb06b",
   "metadata": {},
   "outputs": [
    {
     "name": "stdout",
     "output_type": "stream",
     "text": [
      "Test Accuracy of the Best Model: 0.7575757575757576\n"
     ]
    }
   ],
   "source": [
    "from sklearn.metrics import accuracy_score\n",
    "\n",
    "# Train the model with the best hyperparameters\n",
    "best_params = study.best_trial.params\n",
    "\n",
    "best_model = RandomForestClassifier(**best_params, random_state=42)\n",
    "\n",
    "best_model.fit(X_train, y_train)\n",
    "\n",
    "y_pred = best_model.predict(X_test)\n",
    "\n",
    "test_accuracy = accuracy_score(y_test, y_pred)\n",
    "\n",
    "print(\"Test Accuracy of the Best Model:\", test_accuracy)"
   ]
  },
  {
   "cell_type": "markdown",
   "id": "c69e348f",
   "metadata": {},
   "source": [
    "We can Use Optuna for Different samplers as well - Method remains same just change in one line - \n",
    "\n",
    "**Random Sampler-** study = optuna.create_study(direction='maximize', sampler=optuna.samplers.RandomSampler())\n",
    "\n",
    "**Grid Search Sampler-** study = optuna.create_study(direction='maximize', sampler=optuna.samplers.GridSampler(search_space))"
   ]
  },
  {
   "cell_type": "markdown",
   "id": "f61c248f",
   "metadata": {},
   "source": [
    "#### **Visualizations in Optuna -**"
   ]
  },
  {
   "cell_type": "code",
   "execution_count": 11,
   "id": "90f9fcc1",
   "metadata": {},
   "outputs": [],
   "source": [
    "from optuna.visualization import plot_optimization_history, plot_parallel_coordinate, plot_slice, plot_contour, plot_param_importances"
   ]
  },
  {
   "cell_type": "code",
   "execution_count": null,
   "id": "c0476f1a",
   "metadata": {},
   "outputs": [
    {
     "data": {
      "application/vnd.plotly.v1+json": {
       "config": {
        "plotlyServerURL": "https://plot.ly"
       },
       "data": [
        {
         "mode": "markers",
         "name": "Objective Value",
         "type": "scatter",
         "x": [
          0,
          1,
          2,
          3,
          4,
          5,
          6,
          7,
          8,
          9,
          10,
          11,
          12,
          13,
          14,
          15,
          16,
          17,
          18,
          19,
          20,
          21,
          22,
          23,
          24,
          25,
          26,
          27,
          28,
          29,
          30,
          31,
          32,
          33,
          34,
          35,
          36,
          37,
          38,
          39,
          40,
          41,
          42,
          43,
          44,
          45,
          46,
          47,
          48,
          49
         ],
         "y": [
          0.7709497206703911,
          0.7635009310986964,
          0.7709497206703911,
          0.7728119180633147,
          0.7709497206703911,
          0.7746741154562384,
          0.7690875232774674,
          0.7746741154562384,
          0.7690875232774674,
          0.7858472998137803,
          0.7690875232774674,
          0.7690875232774674,
          0.7672253258845437,
          0.7746741154562384,
          0.7709497206703911,
          0.7783985102420857,
          0.7709497206703911,
          0.7802607076350094,
          0.7635009310986964,
          0.7728119180633147,
          0.7709497206703911,
          0.7746741154562384,
          0.7746741154562384,
          0.7783985102420857,
          0.7635009310986964,
          0.7783985102420856,
          0.7728119180633147,
          0.7746741154562384,
          0.7802607076350093,
          0.7709497206703911,
          0.7802607076350093,
          0.7783985102420856,
          0.7746741154562383,
          0.7672253258845437,
          0.7783985102420856,
          0.7560521415270017,
          0.7653631284916201,
          0.7746741154562384,
          0.7709497206703911,
          0.7653631284916201,
          0.7765363128491621,
          0.7728119180633147,
          0.7728119180633147,
          0.7728119180633147,
          0.7746741154562384,
          0.7746741154562384,
          0.7672253258845437,
          0.7802607076350093,
          0.7783985102420856,
          0.7802607076350093
         ]
        },
        {
         "mode": "lines",
         "name": "Best Value",
         "type": "scatter",
         "x": [
          0,
          1,
          2,
          3,
          4,
          5,
          6,
          7,
          8,
          9,
          10,
          11,
          12,
          13,
          14,
          15,
          16,
          17,
          18,
          19,
          20,
          21,
          22,
          23,
          24,
          25,
          26,
          27,
          28,
          29,
          30,
          31,
          32,
          33,
          34,
          35,
          36,
          37,
          38,
          39,
          40,
          41,
          42,
          43,
          44,
          45,
          46,
          47,
          48,
          49
         ],
         "y": [
          0.7709497206703911,
          0.7709497206703911,
          0.7709497206703911,
          0.7728119180633147,
          0.7728119180633147,
          0.7746741154562384,
          0.7746741154562384,
          0.7746741154562384,
          0.7746741154562384,
          0.7858472998137803,
          0.7858472998137803,
          0.7858472998137803,
          0.7858472998137803,
          0.7858472998137803,
          0.7858472998137803,
          0.7858472998137803,
          0.7858472998137803,
          0.7858472998137803,
          0.7858472998137803,
          0.7858472998137803,
          0.7858472998137803,
          0.7858472998137803,
          0.7858472998137803,
          0.7858472998137803,
          0.7858472998137803,
          0.7858472998137803,
          0.7858472998137803,
          0.7858472998137803,
          0.7858472998137803,
          0.7858472998137803,
          0.7858472998137803,
          0.7858472998137803,
          0.7858472998137803,
          0.7858472998137803,
          0.7858472998137803,
          0.7858472998137803,
          0.7858472998137803,
          0.7858472998137803,
          0.7858472998137803,
          0.7858472998137803,
          0.7858472998137803,
          0.7858472998137803,
          0.7858472998137803,
          0.7858472998137803,
          0.7858472998137803,
          0.7858472998137803,
          0.7858472998137803,
          0.7858472998137803,
          0.7858472998137803,
          0.7858472998137803
         ]
        },
        {
         "marker": {
          "color": "#cccccc"
         },
         "mode": "markers",
         "name": "Infeasible Trial",
         "showlegend": false,
         "type": "scatter",
         "x": [],
         "y": []
        }
       ],
       "layout": {
        "template": {
         "data": {
          "bar": [
           {
            "error_x": {
             "color": "#2a3f5f"
            },
            "error_y": {
             "color": "#2a3f5f"
            },
            "marker": {
             "line": {
              "color": "#E5ECF6",
              "width": 0.5
             },
             "pattern": {
              "fillmode": "overlay",
              "size": 10,
              "solidity": 0.2
             }
            },
            "type": "bar"
           }
          ],
          "barpolar": [
           {
            "marker": {
             "line": {
              "color": "#E5ECF6",
              "width": 0.5
             },
             "pattern": {
              "fillmode": "overlay",
              "size": 10,
              "solidity": 0.2
             }
            },
            "type": "barpolar"
           }
          ],
          "carpet": [
           {
            "aaxis": {
             "endlinecolor": "#2a3f5f",
             "gridcolor": "white",
             "linecolor": "white",
             "minorgridcolor": "white",
             "startlinecolor": "#2a3f5f"
            },
            "baxis": {
             "endlinecolor": "#2a3f5f",
             "gridcolor": "white",
             "linecolor": "white",
             "minorgridcolor": "white",
             "startlinecolor": "#2a3f5f"
            },
            "type": "carpet"
           }
          ],
          "choropleth": [
           {
            "colorbar": {
             "outlinewidth": 0,
             "ticks": ""
            },
            "type": "choropleth"
           }
          ],
          "contour": [
           {
            "colorbar": {
             "outlinewidth": 0,
             "ticks": ""
            },
            "colorscale": [
             [
              0,
              "#0d0887"
             ],
             [
              0.1111111111111111,
              "#46039f"
             ],
             [
              0.2222222222222222,
              "#7201a8"
             ],
             [
              0.3333333333333333,
              "#9c179e"
             ],
             [
              0.4444444444444444,
              "#bd3786"
             ],
             [
              0.5555555555555556,
              "#d8576b"
             ],
             [
              0.6666666666666666,
              "#ed7953"
             ],
             [
              0.7777777777777778,
              "#fb9f3a"
             ],
             [
              0.8888888888888888,
              "#fdca26"
             ],
             [
              1,
              "#f0f921"
             ]
            ],
            "type": "contour"
           }
          ],
          "contourcarpet": [
           {
            "colorbar": {
             "outlinewidth": 0,
             "ticks": ""
            },
            "type": "contourcarpet"
           }
          ],
          "heatmap": [
           {
            "colorbar": {
             "outlinewidth": 0,
             "ticks": ""
            },
            "colorscale": [
             [
              0,
              "#0d0887"
             ],
             [
              0.1111111111111111,
              "#46039f"
             ],
             [
              0.2222222222222222,
              "#7201a8"
             ],
             [
              0.3333333333333333,
              "#9c179e"
             ],
             [
              0.4444444444444444,
              "#bd3786"
             ],
             [
              0.5555555555555556,
              "#d8576b"
             ],
             [
              0.6666666666666666,
              "#ed7953"
             ],
             [
              0.7777777777777778,
              "#fb9f3a"
             ],
             [
              0.8888888888888888,
              "#fdca26"
             ],
             [
              1,
              "#f0f921"
             ]
            ],
            "type": "heatmap"
           }
          ],
          "histogram": [
           {
            "marker": {
             "pattern": {
              "fillmode": "overlay",
              "size": 10,
              "solidity": 0.2
             }
            },
            "type": "histogram"
           }
          ],
          "histogram2d": [
           {
            "colorbar": {
             "outlinewidth": 0,
             "ticks": ""
            },
            "colorscale": [
             [
              0,
              "#0d0887"
             ],
             [
              0.1111111111111111,
              "#46039f"
             ],
             [
              0.2222222222222222,
              "#7201a8"
             ],
             [
              0.3333333333333333,
              "#9c179e"
             ],
             [
              0.4444444444444444,
              "#bd3786"
             ],
             [
              0.5555555555555556,
              "#d8576b"
             ],
             [
              0.6666666666666666,
              "#ed7953"
             ],
             [
              0.7777777777777778,
              "#fb9f3a"
             ],
             [
              0.8888888888888888,
              "#fdca26"
             ],
             [
              1,
              "#f0f921"
             ]
            ],
            "type": "histogram2d"
           }
          ],
          "histogram2dcontour": [
           {
            "colorbar": {
             "outlinewidth": 0,
             "ticks": ""
            },
            "colorscale": [
             [
              0,
              "#0d0887"
             ],
             [
              0.1111111111111111,
              "#46039f"
             ],
             [
              0.2222222222222222,
              "#7201a8"
             ],
             [
              0.3333333333333333,
              "#9c179e"
             ],
             [
              0.4444444444444444,
              "#bd3786"
             ],
             [
              0.5555555555555556,
              "#d8576b"
             ],
             [
              0.6666666666666666,
              "#ed7953"
             ],
             [
              0.7777777777777778,
              "#fb9f3a"
             ],
             [
              0.8888888888888888,
              "#fdca26"
             ],
             [
              1,
              "#f0f921"
             ]
            ],
            "type": "histogram2dcontour"
           }
          ],
          "mesh3d": [
           {
            "colorbar": {
             "outlinewidth": 0,
             "ticks": ""
            },
            "type": "mesh3d"
           }
          ],
          "parcoords": [
           {
            "line": {
             "colorbar": {
              "outlinewidth": 0,
              "ticks": ""
             }
            },
            "type": "parcoords"
           }
          ],
          "pie": [
           {
            "automargin": true,
            "type": "pie"
           }
          ],
          "scatter": [
           {
            "fillpattern": {
             "fillmode": "overlay",
             "size": 10,
             "solidity": 0.2
            },
            "type": "scatter"
           }
          ],
          "scatter3d": [
           {
            "line": {
             "colorbar": {
              "outlinewidth": 0,
              "ticks": ""
             }
            },
            "marker": {
             "colorbar": {
              "outlinewidth": 0,
              "ticks": ""
             }
            },
            "type": "scatter3d"
           }
          ],
          "scattercarpet": [
           {
            "marker": {
             "colorbar": {
              "outlinewidth": 0,
              "ticks": ""
             }
            },
            "type": "scattercarpet"
           }
          ],
          "scattergeo": [
           {
            "marker": {
             "colorbar": {
              "outlinewidth": 0,
              "ticks": ""
             }
            },
            "type": "scattergeo"
           }
          ],
          "scattergl": [
           {
            "marker": {
             "colorbar": {
              "outlinewidth": 0,
              "ticks": ""
             }
            },
            "type": "scattergl"
           }
          ],
          "scattermap": [
           {
            "marker": {
             "colorbar": {
              "outlinewidth": 0,
              "ticks": ""
             }
            },
            "type": "scattermap"
           }
          ],
          "scattermapbox": [
           {
            "marker": {
             "colorbar": {
              "outlinewidth": 0,
              "ticks": ""
             }
            },
            "type": "scattermapbox"
           }
          ],
          "scatterpolar": [
           {
            "marker": {
             "colorbar": {
              "outlinewidth": 0,
              "ticks": ""
             }
            },
            "type": "scatterpolar"
           }
          ],
          "scatterpolargl": [
           {
            "marker": {
             "colorbar": {
              "outlinewidth": 0,
              "ticks": ""
             }
            },
            "type": "scatterpolargl"
           }
          ],
          "scatterternary": [
           {
            "marker": {
             "colorbar": {
              "outlinewidth": 0,
              "ticks": ""
             }
            },
            "type": "scatterternary"
           }
          ],
          "surface": [
           {
            "colorbar": {
             "outlinewidth": 0,
             "ticks": ""
            },
            "colorscale": [
             [
              0,
              "#0d0887"
             ],
             [
              0.1111111111111111,
              "#46039f"
             ],
             [
              0.2222222222222222,
              "#7201a8"
             ],
             [
              0.3333333333333333,
              "#9c179e"
             ],
             [
              0.4444444444444444,
              "#bd3786"
             ],
             [
              0.5555555555555556,
              "#d8576b"
             ],
             [
              0.6666666666666666,
              "#ed7953"
             ],
             [
              0.7777777777777778,
              "#fb9f3a"
             ],
             [
              0.8888888888888888,
              "#fdca26"
             ],
             [
              1,
              "#f0f921"
             ]
            ],
            "type": "surface"
           }
          ],
          "table": [
           {
            "cells": {
             "fill": {
              "color": "#EBF0F8"
             },
             "line": {
              "color": "white"
             }
            },
            "header": {
             "fill": {
              "color": "#C8D4E3"
             },
             "line": {
              "color": "white"
             }
            },
            "type": "table"
           }
          ]
         },
         "layout": {
          "annotationdefaults": {
           "arrowcolor": "#2a3f5f",
           "arrowhead": 0,
           "arrowwidth": 1
          },
          "autotypenumbers": "strict",
          "coloraxis": {
           "colorbar": {
            "outlinewidth": 0,
            "ticks": ""
           }
          },
          "colorscale": {
           "diverging": [
            [
             0,
             "#8e0152"
            ],
            [
             0.1,
             "#c51b7d"
            ],
            [
             0.2,
             "#de77ae"
            ],
            [
             0.3,
             "#f1b6da"
            ],
            [
             0.4,
             "#fde0ef"
            ],
            [
             0.5,
             "#f7f7f7"
            ],
            [
             0.6,
             "#e6f5d0"
            ],
            [
             0.7,
             "#b8e186"
            ],
            [
             0.8,
             "#7fbc41"
            ],
            [
             0.9,
             "#4d9221"
            ],
            [
             1,
             "#276419"
            ]
           ],
           "sequential": [
            [
             0,
             "#0d0887"
            ],
            [
             0.1111111111111111,
             "#46039f"
            ],
            [
             0.2222222222222222,
             "#7201a8"
            ],
            [
             0.3333333333333333,
             "#9c179e"
            ],
            [
             0.4444444444444444,
             "#bd3786"
            ],
            [
             0.5555555555555556,
             "#d8576b"
            ],
            [
             0.6666666666666666,
             "#ed7953"
            ],
            [
             0.7777777777777778,
             "#fb9f3a"
            ],
            [
             0.8888888888888888,
             "#fdca26"
            ],
            [
             1,
             "#f0f921"
            ]
           ],
           "sequentialminus": [
            [
             0,
             "#0d0887"
            ],
            [
             0.1111111111111111,
             "#46039f"
            ],
            [
             0.2222222222222222,
             "#7201a8"
            ],
            [
             0.3333333333333333,
             "#9c179e"
            ],
            [
             0.4444444444444444,
             "#bd3786"
            ],
            [
             0.5555555555555556,
             "#d8576b"
            ],
            [
             0.6666666666666666,
             "#ed7953"
            ],
            [
             0.7777777777777778,
             "#fb9f3a"
            ],
            [
             0.8888888888888888,
             "#fdca26"
            ],
            [
             1,
             "#f0f921"
            ]
           ]
          },
          "colorway": [
           "#636efa",
           "#EF553B",
           "#00cc96",
           "#ab63fa",
           "#FFA15A",
           "#19d3f3",
           "#FF6692",
           "#B6E880",
           "#FF97FF",
           "#FECB52"
          ],
          "font": {
           "color": "#2a3f5f"
          },
          "geo": {
           "bgcolor": "white",
           "lakecolor": "white",
           "landcolor": "#E5ECF6",
           "showlakes": true,
           "showland": true,
           "subunitcolor": "white"
          },
          "hoverlabel": {
           "align": "left"
          },
          "hovermode": "closest",
          "mapbox": {
           "style": "light"
          },
          "paper_bgcolor": "white",
          "plot_bgcolor": "#E5ECF6",
          "polar": {
           "angularaxis": {
            "gridcolor": "white",
            "linecolor": "white",
            "ticks": ""
           },
           "bgcolor": "#E5ECF6",
           "radialaxis": {
            "gridcolor": "white",
            "linecolor": "white",
            "ticks": ""
           }
          },
          "scene": {
           "xaxis": {
            "backgroundcolor": "#E5ECF6",
            "gridcolor": "white",
            "gridwidth": 2,
            "linecolor": "white",
            "showbackground": true,
            "ticks": "",
            "zerolinecolor": "white"
           },
           "yaxis": {
            "backgroundcolor": "#E5ECF6",
            "gridcolor": "white",
            "gridwidth": 2,
            "linecolor": "white",
            "showbackground": true,
            "ticks": "",
            "zerolinecolor": "white"
           },
           "zaxis": {
            "backgroundcolor": "#E5ECF6",
            "gridcolor": "white",
            "gridwidth": 2,
            "linecolor": "white",
            "showbackground": true,
            "ticks": "",
            "zerolinecolor": "white"
           }
          },
          "shapedefaults": {
           "line": {
            "color": "#2a3f5f"
           }
          },
          "ternary": {
           "aaxis": {
            "gridcolor": "white",
            "linecolor": "white",
            "ticks": ""
           },
           "baxis": {
            "gridcolor": "white",
            "linecolor": "white",
            "ticks": ""
           },
           "bgcolor": "#E5ECF6",
           "caxis": {
            "gridcolor": "white",
            "linecolor": "white",
            "ticks": ""
           }
          },
          "title": {
           "x": 0.05
          },
          "xaxis": {
           "automargin": true,
           "gridcolor": "white",
           "linecolor": "white",
           "ticks": "",
           "title": {
            "standoff": 15
           },
           "zerolinecolor": "white",
           "zerolinewidth": 2
          },
          "yaxis": {
           "automargin": true,
           "gridcolor": "white",
           "linecolor": "white",
           "ticks": "",
           "title": {
            "standoff": 15
           },
           "zerolinecolor": "white",
           "zerolinewidth": 2
          }
         }
        },
        "title": {
         "text": "Optimization History Plot"
        },
        "xaxis": {
         "title": {
          "text": "Trial"
         }
        },
        "yaxis": {
         "title": {
          "text": "Objective Value"
         }
        }
       }
      }
     },
     "metadata": {},
     "output_type": "display_data"
    }
   ],
   "source": [
    "# 1) Optimization History - Tells how the values of the objective function change over trials\n",
    "plot_optimization_history(study).show()"
   ]
  },
  {
   "cell_type": "code",
   "execution_count": 13,
   "id": "526c4b3c",
   "metadata": {},
   "outputs": [
    {
     "data": {
      "application/vnd.plotly.v1+json": {
       "config": {
        "plotlyServerURL": "https://plot.ly"
       },
       "data": [
        {
         "dimensions": [
          {
           "label": "Objective Value",
           "range": [
            0.7560521415270017,
            0.7858472998137803
           ],
           "values": [
            0.7709497206703911,
            0.7635009310986964,
            0.7709497206703911,
            0.7728119180633147,
            0.7709497206703911,
            0.7746741154562384,
            0.7690875232774674,
            0.7746741154562384,
            0.7690875232774674,
            0.7858472998137803,
            0.7690875232774674,
            0.7690875232774674,
            0.7672253258845437,
            0.7746741154562384,
            0.7709497206703911,
            0.7783985102420857,
            0.7709497206703911,
            0.7802607076350094,
            0.7635009310986964,
            0.7728119180633147,
            0.7709497206703911,
            0.7746741154562384,
            0.7746741154562384,
            0.7783985102420857,
            0.7635009310986964,
            0.7783985102420856,
            0.7728119180633147,
            0.7746741154562384,
            0.7802607076350093,
            0.7709497206703911,
            0.7802607076350093,
            0.7783985102420856,
            0.7746741154562383,
            0.7672253258845437,
            0.7783985102420856,
            0.7560521415270017,
            0.7653631284916201,
            0.7746741154562384,
            0.7709497206703911,
            0.7653631284916201,
            0.7765363128491621,
            0.7728119180633147,
            0.7728119180633147,
            0.7728119180633147,
            0.7746741154562384,
            0.7746741154562384,
            0.7672253258845437,
            0.7802607076350093,
            0.7783985102420856,
            0.7802607076350093
           ]
          },
          {
           "label": "max_depth",
           "range": [
            5,
            20
           ],
           "values": [
            7,
            11,
            17,
            7,
            5,
            7,
            11,
            12,
            15,
            15,
            19,
            15,
            9,
            14,
            20,
            17,
            17,
            17,
            14,
            18,
            15,
            16,
            20,
            18,
            17,
            16,
            13,
            19,
            16,
            14,
            12,
            12,
            13,
            10,
            16,
            9,
            11,
            18,
            13,
            15,
            16,
            17,
            19,
            18,
            5,
            12,
            14,
            17,
            15,
            16
           ]
          },
          {
           "label": "n_estimators",
           "range": [
            50,
            191
           ],
           "values": [
            149,
            94,
            93,
            143,
            123,
            179,
            165,
            100,
            187,
            121,
            56,
            191,
            118,
            175,
            145,
            67,
            58,
            73,
            76,
            108,
            80,
            72,
            54,
            69,
            88,
            112,
            131,
            68,
            133,
            158,
            131,
            132,
            137,
            154,
            112,
            99,
            125,
            141,
            150,
            161,
            169,
            89,
            80,
            62,
            50,
            118,
            104,
            131,
            124,
            133
           ]
          }
         ],
         "labelangle": 30,
         "labelside": "bottom",
         "line": {
          "color": [
           0.7709497206703911,
           0.7635009310986964,
           0.7709497206703911,
           0.7728119180633147,
           0.7709497206703911,
           0.7746741154562384,
           0.7690875232774674,
           0.7746741154562384,
           0.7690875232774674,
           0.7858472998137803,
           0.7690875232774674,
           0.7690875232774674,
           0.7672253258845437,
           0.7746741154562384,
           0.7709497206703911,
           0.7783985102420857,
           0.7709497206703911,
           0.7802607076350094,
           0.7635009310986964,
           0.7728119180633147,
           0.7709497206703911,
           0.7746741154562384,
           0.7746741154562384,
           0.7783985102420857,
           0.7635009310986964,
           0.7783985102420856,
           0.7728119180633147,
           0.7746741154562384,
           0.7802607076350093,
           0.7709497206703911,
           0.7802607076350093,
           0.7783985102420856,
           0.7746741154562383,
           0.7672253258845437,
           0.7783985102420856,
           0.7560521415270017,
           0.7653631284916201,
           0.7746741154562384,
           0.7709497206703911,
           0.7653631284916201,
           0.7765363128491621,
           0.7728119180633147,
           0.7728119180633147,
           0.7728119180633147,
           0.7746741154562384,
           0.7746741154562384,
           0.7672253258845437,
           0.7802607076350093,
           0.7783985102420856,
           0.7802607076350093
          ],
          "colorbar": {
           "title": {
            "text": "Objective Value"
           }
          },
          "colorscale": [
           [
            0,
            "rgb(247,251,255)"
           ],
           [
            0.125,
            "rgb(222,235,247)"
           ],
           [
            0.25,
            "rgb(198,219,239)"
           ],
           [
            0.375,
            "rgb(158,202,225)"
           ],
           [
            0.5,
            "rgb(107,174,214)"
           ],
           [
            0.625,
            "rgb(66,146,198)"
           ],
           [
            0.75,
            "rgb(33,113,181)"
           ],
           [
            0.875,
            "rgb(8,81,156)"
           ],
           [
            1,
            "rgb(8,48,107)"
           ]
          ],
          "reversescale": false,
          "showscale": true
         },
         "type": "parcoords"
        }
       ],
       "layout": {
        "template": {
         "data": {
          "bar": [
           {
            "error_x": {
             "color": "#2a3f5f"
            },
            "error_y": {
             "color": "#2a3f5f"
            },
            "marker": {
             "line": {
              "color": "#E5ECF6",
              "width": 0.5
             },
             "pattern": {
              "fillmode": "overlay",
              "size": 10,
              "solidity": 0.2
             }
            },
            "type": "bar"
           }
          ],
          "barpolar": [
           {
            "marker": {
             "line": {
              "color": "#E5ECF6",
              "width": 0.5
             },
             "pattern": {
              "fillmode": "overlay",
              "size": 10,
              "solidity": 0.2
             }
            },
            "type": "barpolar"
           }
          ],
          "carpet": [
           {
            "aaxis": {
             "endlinecolor": "#2a3f5f",
             "gridcolor": "white",
             "linecolor": "white",
             "minorgridcolor": "white",
             "startlinecolor": "#2a3f5f"
            },
            "baxis": {
             "endlinecolor": "#2a3f5f",
             "gridcolor": "white",
             "linecolor": "white",
             "minorgridcolor": "white",
             "startlinecolor": "#2a3f5f"
            },
            "type": "carpet"
           }
          ],
          "choropleth": [
           {
            "colorbar": {
             "outlinewidth": 0,
             "ticks": ""
            },
            "type": "choropleth"
           }
          ],
          "contour": [
           {
            "colorbar": {
             "outlinewidth": 0,
             "ticks": ""
            },
            "colorscale": [
             [
              0,
              "#0d0887"
             ],
             [
              0.1111111111111111,
              "#46039f"
             ],
             [
              0.2222222222222222,
              "#7201a8"
             ],
             [
              0.3333333333333333,
              "#9c179e"
             ],
             [
              0.4444444444444444,
              "#bd3786"
             ],
             [
              0.5555555555555556,
              "#d8576b"
             ],
             [
              0.6666666666666666,
              "#ed7953"
             ],
             [
              0.7777777777777778,
              "#fb9f3a"
             ],
             [
              0.8888888888888888,
              "#fdca26"
             ],
             [
              1,
              "#f0f921"
             ]
            ],
            "type": "contour"
           }
          ],
          "contourcarpet": [
           {
            "colorbar": {
             "outlinewidth": 0,
             "ticks": ""
            },
            "type": "contourcarpet"
           }
          ],
          "heatmap": [
           {
            "colorbar": {
             "outlinewidth": 0,
             "ticks": ""
            },
            "colorscale": [
             [
              0,
              "#0d0887"
             ],
             [
              0.1111111111111111,
              "#46039f"
             ],
             [
              0.2222222222222222,
              "#7201a8"
             ],
             [
              0.3333333333333333,
              "#9c179e"
             ],
             [
              0.4444444444444444,
              "#bd3786"
             ],
             [
              0.5555555555555556,
              "#d8576b"
             ],
             [
              0.6666666666666666,
              "#ed7953"
             ],
             [
              0.7777777777777778,
              "#fb9f3a"
             ],
             [
              0.8888888888888888,
              "#fdca26"
             ],
             [
              1,
              "#f0f921"
             ]
            ],
            "type": "heatmap"
           }
          ],
          "histogram": [
           {
            "marker": {
             "pattern": {
              "fillmode": "overlay",
              "size": 10,
              "solidity": 0.2
             }
            },
            "type": "histogram"
           }
          ],
          "histogram2d": [
           {
            "colorbar": {
             "outlinewidth": 0,
             "ticks": ""
            },
            "colorscale": [
             [
              0,
              "#0d0887"
             ],
             [
              0.1111111111111111,
              "#46039f"
             ],
             [
              0.2222222222222222,
              "#7201a8"
             ],
             [
              0.3333333333333333,
              "#9c179e"
             ],
             [
              0.4444444444444444,
              "#bd3786"
             ],
             [
              0.5555555555555556,
              "#d8576b"
             ],
             [
              0.6666666666666666,
              "#ed7953"
             ],
             [
              0.7777777777777778,
              "#fb9f3a"
             ],
             [
              0.8888888888888888,
              "#fdca26"
             ],
             [
              1,
              "#f0f921"
             ]
            ],
            "type": "histogram2d"
           }
          ],
          "histogram2dcontour": [
           {
            "colorbar": {
             "outlinewidth": 0,
             "ticks": ""
            },
            "colorscale": [
             [
              0,
              "#0d0887"
             ],
             [
              0.1111111111111111,
              "#46039f"
             ],
             [
              0.2222222222222222,
              "#7201a8"
             ],
             [
              0.3333333333333333,
              "#9c179e"
             ],
             [
              0.4444444444444444,
              "#bd3786"
             ],
             [
              0.5555555555555556,
              "#d8576b"
             ],
             [
              0.6666666666666666,
              "#ed7953"
             ],
             [
              0.7777777777777778,
              "#fb9f3a"
             ],
             [
              0.8888888888888888,
              "#fdca26"
             ],
             [
              1,
              "#f0f921"
             ]
            ],
            "type": "histogram2dcontour"
           }
          ],
          "mesh3d": [
           {
            "colorbar": {
             "outlinewidth": 0,
             "ticks": ""
            },
            "type": "mesh3d"
           }
          ],
          "parcoords": [
           {
            "line": {
             "colorbar": {
              "outlinewidth": 0,
              "ticks": ""
             }
            },
            "type": "parcoords"
           }
          ],
          "pie": [
           {
            "automargin": true,
            "type": "pie"
           }
          ],
          "scatter": [
           {
            "fillpattern": {
             "fillmode": "overlay",
             "size": 10,
             "solidity": 0.2
            },
            "type": "scatter"
           }
          ],
          "scatter3d": [
           {
            "line": {
             "colorbar": {
              "outlinewidth": 0,
              "ticks": ""
             }
            },
            "marker": {
             "colorbar": {
              "outlinewidth": 0,
              "ticks": ""
             }
            },
            "type": "scatter3d"
           }
          ],
          "scattercarpet": [
           {
            "marker": {
             "colorbar": {
              "outlinewidth": 0,
              "ticks": ""
             }
            },
            "type": "scattercarpet"
           }
          ],
          "scattergeo": [
           {
            "marker": {
             "colorbar": {
              "outlinewidth": 0,
              "ticks": ""
             }
            },
            "type": "scattergeo"
           }
          ],
          "scattergl": [
           {
            "marker": {
             "colorbar": {
              "outlinewidth": 0,
              "ticks": ""
             }
            },
            "type": "scattergl"
           }
          ],
          "scattermap": [
           {
            "marker": {
             "colorbar": {
              "outlinewidth": 0,
              "ticks": ""
             }
            },
            "type": "scattermap"
           }
          ],
          "scattermapbox": [
           {
            "marker": {
             "colorbar": {
              "outlinewidth": 0,
              "ticks": ""
             }
            },
            "type": "scattermapbox"
           }
          ],
          "scatterpolar": [
           {
            "marker": {
             "colorbar": {
              "outlinewidth": 0,
              "ticks": ""
             }
            },
            "type": "scatterpolar"
           }
          ],
          "scatterpolargl": [
           {
            "marker": {
             "colorbar": {
              "outlinewidth": 0,
              "ticks": ""
             }
            },
            "type": "scatterpolargl"
           }
          ],
          "scatterternary": [
           {
            "marker": {
             "colorbar": {
              "outlinewidth": 0,
              "ticks": ""
             }
            },
            "type": "scatterternary"
           }
          ],
          "surface": [
           {
            "colorbar": {
             "outlinewidth": 0,
             "ticks": ""
            },
            "colorscale": [
             [
              0,
              "#0d0887"
             ],
             [
              0.1111111111111111,
              "#46039f"
             ],
             [
              0.2222222222222222,
              "#7201a8"
             ],
             [
              0.3333333333333333,
              "#9c179e"
             ],
             [
              0.4444444444444444,
              "#bd3786"
             ],
             [
              0.5555555555555556,
              "#d8576b"
             ],
             [
              0.6666666666666666,
              "#ed7953"
             ],
             [
              0.7777777777777778,
              "#fb9f3a"
             ],
             [
              0.8888888888888888,
              "#fdca26"
             ],
             [
              1,
              "#f0f921"
             ]
            ],
            "type": "surface"
           }
          ],
          "table": [
           {
            "cells": {
             "fill": {
              "color": "#EBF0F8"
             },
             "line": {
              "color": "white"
             }
            },
            "header": {
             "fill": {
              "color": "#C8D4E3"
             },
             "line": {
              "color": "white"
             }
            },
            "type": "table"
           }
          ]
         },
         "layout": {
          "annotationdefaults": {
           "arrowcolor": "#2a3f5f",
           "arrowhead": 0,
           "arrowwidth": 1
          },
          "autotypenumbers": "strict",
          "coloraxis": {
           "colorbar": {
            "outlinewidth": 0,
            "ticks": ""
           }
          },
          "colorscale": {
           "diverging": [
            [
             0,
             "#8e0152"
            ],
            [
             0.1,
             "#c51b7d"
            ],
            [
             0.2,
             "#de77ae"
            ],
            [
             0.3,
             "#f1b6da"
            ],
            [
             0.4,
             "#fde0ef"
            ],
            [
             0.5,
             "#f7f7f7"
            ],
            [
             0.6,
             "#e6f5d0"
            ],
            [
             0.7,
             "#b8e186"
            ],
            [
             0.8,
             "#7fbc41"
            ],
            [
             0.9,
             "#4d9221"
            ],
            [
             1,
             "#276419"
            ]
           ],
           "sequential": [
            [
             0,
             "#0d0887"
            ],
            [
             0.1111111111111111,
             "#46039f"
            ],
            [
             0.2222222222222222,
             "#7201a8"
            ],
            [
             0.3333333333333333,
             "#9c179e"
            ],
            [
             0.4444444444444444,
             "#bd3786"
            ],
            [
             0.5555555555555556,
             "#d8576b"
            ],
            [
             0.6666666666666666,
             "#ed7953"
            ],
            [
             0.7777777777777778,
             "#fb9f3a"
            ],
            [
             0.8888888888888888,
             "#fdca26"
            ],
            [
             1,
             "#f0f921"
            ]
           ],
           "sequentialminus": [
            [
             0,
             "#0d0887"
            ],
            [
             0.1111111111111111,
             "#46039f"
            ],
            [
             0.2222222222222222,
             "#7201a8"
            ],
            [
             0.3333333333333333,
             "#9c179e"
            ],
            [
             0.4444444444444444,
             "#bd3786"
            ],
            [
             0.5555555555555556,
             "#d8576b"
            ],
            [
             0.6666666666666666,
             "#ed7953"
            ],
            [
             0.7777777777777778,
             "#fb9f3a"
            ],
            [
             0.8888888888888888,
             "#fdca26"
            ],
            [
             1,
             "#f0f921"
            ]
           ]
          },
          "colorway": [
           "#636efa",
           "#EF553B",
           "#00cc96",
           "#ab63fa",
           "#FFA15A",
           "#19d3f3",
           "#FF6692",
           "#B6E880",
           "#FF97FF",
           "#FECB52"
          ],
          "font": {
           "color": "#2a3f5f"
          },
          "geo": {
           "bgcolor": "white",
           "lakecolor": "white",
           "landcolor": "#E5ECF6",
           "showlakes": true,
           "showland": true,
           "subunitcolor": "white"
          },
          "hoverlabel": {
           "align": "left"
          },
          "hovermode": "closest",
          "mapbox": {
           "style": "light"
          },
          "paper_bgcolor": "white",
          "plot_bgcolor": "#E5ECF6",
          "polar": {
           "angularaxis": {
            "gridcolor": "white",
            "linecolor": "white",
            "ticks": ""
           },
           "bgcolor": "#E5ECF6",
           "radialaxis": {
            "gridcolor": "white",
            "linecolor": "white",
            "ticks": ""
           }
          },
          "scene": {
           "xaxis": {
            "backgroundcolor": "#E5ECF6",
            "gridcolor": "white",
            "gridwidth": 2,
            "linecolor": "white",
            "showbackground": true,
            "ticks": "",
            "zerolinecolor": "white"
           },
           "yaxis": {
            "backgroundcolor": "#E5ECF6",
            "gridcolor": "white",
            "gridwidth": 2,
            "linecolor": "white",
            "showbackground": true,
            "ticks": "",
            "zerolinecolor": "white"
           },
           "zaxis": {
            "backgroundcolor": "#E5ECF6",
            "gridcolor": "white",
            "gridwidth": 2,
            "linecolor": "white",
            "showbackground": true,
            "ticks": "",
            "zerolinecolor": "white"
           }
          },
          "shapedefaults": {
           "line": {
            "color": "#2a3f5f"
           }
          },
          "ternary": {
           "aaxis": {
            "gridcolor": "white",
            "linecolor": "white",
            "ticks": ""
           },
           "baxis": {
            "gridcolor": "white",
            "linecolor": "white",
            "ticks": ""
           },
           "bgcolor": "#E5ECF6",
           "caxis": {
            "gridcolor": "white",
            "linecolor": "white",
            "ticks": ""
           }
          },
          "title": {
           "x": 0.05
          },
          "xaxis": {
           "automargin": true,
           "gridcolor": "white",
           "linecolor": "white",
           "ticks": "",
           "title": {
            "standoff": 15
           },
           "zerolinecolor": "white",
           "zerolinewidth": 2
          },
          "yaxis": {
           "automargin": true,
           "gridcolor": "white",
           "linecolor": "white",
           "ticks": "",
           "title": {
            "standoff": 15
           },
           "zerolinecolor": "white",
           "zerolinewidth": 2
          }
         }
        },
        "title": {
         "text": "Parallel Coordinate Plot"
        }
       }
      }
     },
     "metadata": {},
     "output_type": "display_data"
    }
   ],
   "source": [
    "# 2) Parallel Coordinate Plot - Shows the relationship between hyperparameters and the objective function\n",
    "plot_parallel_coordinate(study).show()"
   ]
  },
  {
   "cell_type": "code",
   "execution_count": 14,
   "id": "5abe9894",
   "metadata": {},
   "outputs": [
    {
     "data": {
      "application/vnd.plotly.v1+json": {
       "config": {
        "plotlyServerURL": "https://plot.ly"
       },
       "data": [
        {
         "marker": {
          "color": [
           0,
           1,
           2,
           3,
           4,
           5,
           6,
           7,
           8,
           9,
           10,
           11,
           12,
           13,
           14,
           15,
           16,
           17,
           18,
           19,
           20,
           21,
           22,
           23,
           24,
           25,
           26,
           27,
           28,
           29,
           30,
           31,
           32,
           33,
           34,
           35,
           36,
           37,
           38,
           39,
           40,
           41,
           42,
           43,
           44,
           45,
           46,
           47,
           48,
           49
          ],
          "colorbar": {
           "title": {
            "text": "Trial"
           },
           "x": 1,
           "xpad": 40
          },
          "colorscale": [
           [
            0,
            "rgb(247,251,255)"
           ],
           [
            0.125,
            "rgb(222,235,247)"
           ],
           [
            0.25,
            "rgb(198,219,239)"
           ],
           [
            0.375,
            "rgb(158,202,225)"
           ],
           [
            0.5,
            "rgb(107,174,214)"
           ],
           [
            0.625,
            "rgb(66,146,198)"
           ],
           [
            0.75,
            "rgb(33,113,181)"
           ],
           [
            0.875,
            "rgb(8,81,156)"
           ],
           [
            1,
            "rgb(8,48,107)"
           ]
          ],
          "line": {
           "color": "Grey",
           "width": 0.5
          },
          "showscale": true
         },
         "mode": "markers",
         "name": "Feasible Trial",
         "showlegend": false,
         "type": "scatter",
         "x": [
          7,
          11,
          17,
          7,
          5,
          7,
          11,
          12,
          15,
          15,
          19,
          15,
          9,
          14,
          20,
          17,
          17,
          17,
          14,
          18,
          15,
          16,
          20,
          18,
          17,
          16,
          13,
          19,
          16,
          14,
          12,
          12,
          13,
          10,
          16,
          9,
          11,
          18,
          13,
          15,
          16,
          17,
          19,
          18,
          5,
          12,
          14,
          17,
          15,
          16
         ],
         "xaxis": "x",
         "y": [
          0.7709497206703911,
          0.7635009310986964,
          0.7709497206703911,
          0.7728119180633147,
          0.7709497206703911,
          0.7746741154562384,
          0.7690875232774674,
          0.7746741154562384,
          0.7690875232774674,
          0.7858472998137803,
          0.7690875232774674,
          0.7690875232774674,
          0.7672253258845437,
          0.7746741154562384,
          0.7709497206703911,
          0.7783985102420857,
          0.7709497206703911,
          0.7802607076350094,
          0.7635009310986964,
          0.7728119180633147,
          0.7709497206703911,
          0.7746741154562384,
          0.7746741154562384,
          0.7783985102420857,
          0.7635009310986964,
          0.7783985102420856,
          0.7728119180633147,
          0.7746741154562384,
          0.7802607076350093,
          0.7709497206703911,
          0.7802607076350093,
          0.7783985102420856,
          0.7746741154562383,
          0.7672253258845437,
          0.7783985102420856,
          0.7560521415270017,
          0.7653631284916201,
          0.7746741154562384,
          0.7709497206703911,
          0.7653631284916201,
          0.7765363128491621,
          0.7728119180633147,
          0.7728119180633147,
          0.7728119180633147,
          0.7746741154562384,
          0.7746741154562384,
          0.7672253258845437,
          0.7802607076350093,
          0.7783985102420856,
          0.7802607076350093
         ],
         "yaxis": "y"
        },
        {
         "marker": {
          "color": [
           0,
           1,
           2,
           3,
           4,
           5,
           6,
           7,
           8,
           9,
           10,
           11,
           12,
           13,
           14,
           15,
           16,
           17,
           18,
           19,
           20,
           21,
           22,
           23,
           24,
           25,
           26,
           27,
           28,
           29,
           30,
           31,
           32,
           33,
           34,
           35,
           36,
           37,
           38,
           39,
           40,
           41,
           42,
           43,
           44,
           45,
           46,
           47,
           48,
           49
          ],
          "colorbar": {
           "title": {
            "text": "Trial"
           },
           "x": 1,
           "xpad": 40
          },
          "colorscale": [
           [
            0,
            "rgb(247,251,255)"
           ],
           [
            0.125,
            "rgb(222,235,247)"
           ],
           [
            0.25,
            "rgb(198,219,239)"
           ],
           [
            0.375,
            "rgb(158,202,225)"
           ],
           [
            0.5,
            "rgb(107,174,214)"
           ],
           [
            0.625,
            "rgb(66,146,198)"
           ],
           [
            0.75,
            "rgb(33,113,181)"
           ],
           [
            0.875,
            "rgb(8,81,156)"
           ],
           [
            1,
            "rgb(8,48,107)"
           ]
          ],
          "line": {
           "color": "Grey",
           "width": 0.5
          },
          "showscale": false
         },
         "mode": "markers",
         "name": "Feasible Trial",
         "showlegend": false,
         "type": "scatter",
         "x": [
          149,
          94,
          93,
          143,
          123,
          179,
          165,
          100,
          187,
          121,
          56,
          191,
          118,
          175,
          145,
          67,
          58,
          73,
          76,
          108,
          80,
          72,
          54,
          69,
          88,
          112,
          131,
          68,
          133,
          158,
          131,
          132,
          137,
          154,
          112,
          99,
          125,
          141,
          150,
          161,
          169,
          89,
          80,
          62,
          50,
          118,
          104,
          131,
          124,
          133
         ],
         "xaxis": "x2",
         "y": [
          0.7709497206703911,
          0.7635009310986964,
          0.7709497206703911,
          0.7728119180633147,
          0.7709497206703911,
          0.7746741154562384,
          0.7690875232774674,
          0.7746741154562384,
          0.7690875232774674,
          0.7858472998137803,
          0.7690875232774674,
          0.7690875232774674,
          0.7672253258845437,
          0.7746741154562384,
          0.7709497206703911,
          0.7783985102420857,
          0.7709497206703911,
          0.7802607076350094,
          0.7635009310986964,
          0.7728119180633147,
          0.7709497206703911,
          0.7746741154562384,
          0.7746741154562384,
          0.7783985102420857,
          0.7635009310986964,
          0.7783985102420856,
          0.7728119180633147,
          0.7746741154562384,
          0.7802607076350093,
          0.7709497206703911,
          0.7802607076350093,
          0.7783985102420856,
          0.7746741154562383,
          0.7672253258845437,
          0.7783985102420856,
          0.7560521415270017,
          0.7653631284916201,
          0.7746741154562384,
          0.7709497206703911,
          0.7653631284916201,
          0.7765363128491621,
          0.7728119180633147,
          0.7728119180633147,
          0.7728119180633147,
          0.7746741154562384,
          0.7746741154562384,
          0.7672253258845437,
          0.7802607076350093,
          0.7783985102420856,
          0.7802607076350093
         ],
         "yaxis": "y2"
        }
       ],
       "layout": {
        "template": {
         "data": {
          "bar": [
           {
            "error_x": {
             "color": "#2a3f5f"
            },
            "error_y": {
             "color": "#2a3f5f"
            },
            "marker": {
             "line": {
              "color": "#E5ECF6",
              "width": 0.5
             },
             "pattern": {
              "fillmode": "overlay",
              "size": 10,
              "solidity": 0.2
             }
            },
            "type": "bar"
           }
          ],
          "barpolar": [
           {
            "marker": {
             "line": {
              "color": "#E5ECF6",
              "width": 0.5
             },
             "pattern": {
              "fillmode": "overlay",
              "size": 10,
              "solidity": 0.2
             }
            },
            "type": "barpolar"
           }
          ],
          "carpet": [
           {
            "aaxis": {
             "endlinecolor": "#2a3f5f",
             "gridcolor": "white",
             "linecolor": "white",
             "minorgridcolor": "white",
             "startlinecolor": "#2a3f5f"
            },
            "baxis": {
             "endlinecolor": "#2a3f5f",
             "gridcolor": "white",
             "linecolor": "white",
             "minorgridcolor": "white",
             "startlinecolor": "#2a3f5f"
            },
            "type": "carpet"
           }
          ],
          "choropleth": [
           {
            "colorbar": {
             "outlinewidth": 0,
             "ticks": ""
            },
            "type": "choropleth"
           }
          ],
          "contour": [
           {
            "colorbar": {
             "outlinewidth": 0,
             "ticks": ""
            },
            "colorscale": [
             [
              0,
              "#0d0887"
             ],
             [
              0.1111111111111111,
              "#46039f"
             ],
             [
              0.2222222222222222,
              "#7201a8"
             ],
             [
              0.3333333333333333,
              "#9c179e"
             ],
             [
              0.4444444444444444,
              "#bd3786"
             ],
             [
              0.5555555555555556,
              "#d8576b"
             ],
             [
              0.6666666666666666,
              "#ed7953"
             ],
             [
              0.7777777777777778,
              "#fb9f3a"
             ],
             [
              0.8888888888888888,
              "#fdca26"
             ],
             [
              1,
              "#f0f921"
             ]
            ],
            "type": "contour"
           }
          ],
          "contourcarpet": [
           {
            "colorbar": {
             "outlinewidth": 0,
             "ticks": ""
            },
            "type": "contourcarpet"
           }
          ],
          "heatmap": [
           {
            "colorbar": {
             "outlinewidth": 0,
             "ticks": ""
            },
            "colorscale": [
             [
              0,
              "#0d0887"
             ],
             [
              0.1111111111111111,
              "#46039f"
             ],
             [
              0.2222222222222222,
              "#7201a8"
             ],
             [
              0.3333333333333333,
              "#9c179e"
             ],
             [
              0.4444444444444444,
              "#bd3786"
             ],
             [
              0.5555555555555556,
              "#d8576b"
             ],
             [
              0.6666666666666666,
              "#ed7953"
             ],
             [
              0.7777777777777778,
              "#fb9f3a"
             ],
             [
              0.8888888888888888,
              "#fdca26"
             ],
             [
              1,
              "#f0f921"
             ]
            ],
            "type": "heatmap"
           }
          ],
          "histogram": [
           {
            "marker": {
             "pattern": {
              "fillmode": "overlay",
              "size": 10,
              "solidity": 0.2
             }
            },
            "type": "histogram"
           }
          ],
          "histogram2d": [
           {
            "colorbar": {
             "outlinewidth": 0,
             "ticks": ""
            },
            "colorscale": [
             [
              0,
              "#0d0887"
             ],
             [
              0.1111111111111111,
              "#46039f"
             ],
             [
              0.2222222222222222,
              "#7201a8"
             ],
             [
              0.3333333333333333,
              "#9c179e"
             ],
             [
              0.4444444444444444,
              "#bd3786"
             ],
             [
              0.5555555555555556,
              "#d8576b"
             ],
             [
              0.6666666666666666,
              "#ed7953"
             ],
             [
              0.7777777777777778,
              "#fb9f3a"
             ],
             [
              0.8888888888888888,
              "#fdca26"
             ],
             [
              1,
              "#f0f921"
             ]
            ],
            "type": "histogram2d"
           }
          ],
          "histogram2dcontour": [
           {
            "colorbar": {
             "outlinewidth": 0,
             "ticks": ""
            },
            "colorscale": [
             [
              0,
              "#0d0887"
             ],
             [
              0.1111111111111111,
              "#46039f"
             ],
             [
              0.2222222222222222,
              "#7201a8"
             ],
             [
              0.3333333333333333,
              "#9c179e"
             ],
             [
              0.4444444444444444,
              "#bd3786"
             ],
             [
              0.5555555555555556,
              "#d8576b"
             ],
             [
              0.6666666666666666,
              "#ed7953"
             ],
             [
              0.7777777777777778,
              "#fb9f3a"
             ],
             [
              0.8888888888888888,
              "#fdca26"
             ],
             [
              1,
              "#f0f921"
             ]
            ],
            "type": "histogram2dcontour"
           }
          ],
          "mesh3d": [
           {
            "colorbar": {
             "outlinewidth": 0,
             "ticks": ""
            },
            "type": "mesh3d"
           }
          ],
          "parcoords": [
           {
            "line": {
             "colorbar": {
              "outlinewidth": 0,
              "ticks": ""
             }
            },
            "type": "parcoords"
           }
          ],
          "pie": [
           {
            "automargin": true,
            "type": "pie"
           }
          ],
          "scatter": [
           {
            "fillpattern": {
             "fillmode": "overlay",
             "size": 10,
             "solidity": 0.2
            },
            "type": "scatter"
           }
          ],
          "scatter3d": [
           {
            "line": {
             "colorbar": {
              "outlinewidth": 0,
              "ticks": ""
             }
            },
            "marker": {
             "colorbar": {
              "outlinewidth": 0,
              "ticks": ""
             }
            },
            "type": "scatter3d"
           }
          ],
          "scattercarpet": [
           {
            "marker": {
             "colorbar": {
              "outlinewidth": 0,
              "ticks": ""
             }
            },
            "type": "scattercarpet"
           }
          ],
          "scattergeo": [
           {
            "marker": {
             "colorbar": {
              "outlinewidth": 0,
              "ticks": ""
             }
            },
            "type": "scattergeo"
           }
          ],
          "scattergl": [
           {
            "marker": {
             "colorbar": {
              "outlinewidth": 0,
              "ticks": ""
             }
            },
            "type": "scattergl"
           }
          ],
          "scattermap": [
           {
            "marker": {
             "colorbar": {
              "outlinewidth": 0,
              "ticks": ""
             }
            },
            "type": "scattermap"
           }
          ],
          "scattermapbox": [
           {
            "marker": {
             "colorbar": {
              "outlinewidth": 0,
              "ticks": ""
             }
            },
            "type": "scattermapbox"
           }
          ],
          "scatterpolar": [
           {
            "marker": {
             "colorbar": {
              "outlinewidth": 0,
              "ticks": ""
             }
            },
            "type": "scatterpolar"
           }
          ],
          "scatterpolargl": [
           {
            "marker": {
             "colorbar": {
              "outlinewidth": 0,
              "ticks": ""
             }
            },
            "type": "scatterpolargl"
           }
          ],
          "scatterternary": [
           {
            "marker": {
             "colorbar": {
              "outlinewidth": 0,
              "ticks": ""
             }
            },
            "type": "scatterternary"
           }
          ],
          "surface": [
           {
            "colorbar": {
             "outlinewidth": 0,
             "ticks": ""
            },
            "colorscale": [
             [
              0,
              "#0d0887"
             ],
             [
              0.1111111111111111,
              "#46039f"
             ],
             [
              0.2222222222222222,
              "#7201a8"
             ],
             [
              0.3333333333333333,
              "#9c179e"
             ],
             [
              0.4444444444444444,
              "#bd3786"
             ],
             [
              0.5555555555555556,
              "#d8576b"
             ],
             [
              0.6666666666666666,
              "#ed7953"
             ],
             [
              0.7777777777777778,
              "#fb9f3a"
             ],
             [
              0.8888888888888888,
              "#fdca26"
             ],
             [
              1,
              "#f0f921"
             ]
            ],
            "type": "surface"
           }
          ],
          "table": [
           {
            "cells": {
             "fill": {
              "color": "#EBF0F8"
             },
             "line": {
              "color": "white"
             }
            },
            "header": {
             "fill": {
              "color": "#C8D4E3"
             },
             "line": {
              "color": "white"
             }
            },
            "type": "table"
           }
          ]
         },
         "layout": {
          "annotationdefaults": {
           "arrowcolor": "#2a3f5f",
           "arrowhead": 0,
           "arrowwidth": 1
          },
          "autotypenumbers": "strict",
          "coloraxis": {
           "colorbar": {
            "outlinewidth": 0,
            "ticks": ""
           }
          },
          "colorscale": {
           "diverging": [
            [
             0,
             "#8e0152"
            ],
            [
             0.1,
             "#c51b7d"
            ],
            [
             0.2,
             "#de77ae"
            ],
            [
             0.3,
             "#f1b6da"
            ],
            [
             0.4,
             "#fde0ef"
            ],
            [
             0.5,
             "#f7f7f7"
            ],
            [
             0.6,
             "#e6f5d0"
            ],
            [
             0.7,
             "#b8e186"
            ],
            [
             0.8,
             "#7fbc41"
            ],
            [
             0.9,
             "#4d9221"
            ],
            [
             1,
             "#276419"
            ]
           ],
           "sequential": [
            [
             0,
             "#0d0887"
            ],
            [
             0.1111111111111111,
             "#46039f"
            ],
            [
             0.2222222222222222,
             "#7201a8"
            ],
            [
             0.3333333333333333,
             "#9c179e"
            ],
            [
             0.4444444444444444,
             "#bd3786"
            ],
            [
             0.5555555555555556,
             "#d8576b"
            ],
            [
             0.6666666666666666,
             "#ed7953"
            ],
            [
             0.7777777777777778,
             "#fb9f3a"
            ],
            [
             0.8888888888888888,
             "#fdca26"
            ],
            [
             1,
             "#f0f921"
            ]
           ],
           "sequentialminus": [
            [
             0,
             "#0d0887"
            ],
            [
             0.1111111111111111,
             "#46039f"
            ],
            [
             0.2222222222222222,
             "#7201a8"
            ],
            [
             0.3333333333333333,
             "#9c179e"
            ],
            [
             0.4444444444444444,
             "#bd3786"
            ],
            [
             0.5555555555555556,
             "#d8576b"
            ],
            [
             0.6666666666666666,
             "#ed7953"
            ],
            [
             0.7777777777777778,
             "#fb9f3a"
            ],
            [
             0.8888888888888888,
             "#fdca26"
            ],
            [
             1,
             "#f0f921"
            ]
           ]
          },
          "colorway": [
           "#636efa",
           "#EF553B",
           "#00cc96",
           "#ab63fa",
           "#FFA15A",
           "#19d3f3",
           "#FF6692",
           "#B6E880",
           "#FF97FF",
           "#FECB52"
          ],
          "font": {
           "color": "#2a3f5f"
          },
          "geo": {
           "bgcolor": "white",
           "lakecolor": "white",
           "landcolor": "#E5ECF6",
           "showlakes": true,
           "showland": true,
           "subunitcolor": "white"
          },
          "hoverlabel": {
           "align": "left"
          },
          "hovermode": "closest",
          "mapbox": {
           "style": "light"
          },
          "paper_bgcolor": "white",
          "plot_bgcolor": "#E5ECF6",
          "polar": {
           "angularaxis": {
            "gridcolor": "white",
            "linecolor": "white",
            "ticks": ""
           },
           "bgcolor": "#E5ECF6",
           "radialaxis": {
            "gridcolor": "white",
            "linecolor": "white",
            "ticks": ""
           }
          },
          "scene": {
           "xaxis": {
            "backgroundcolor": "#E5ECF6",
            "gridcolor": "white",
            "gridwidth": 2,
            "linecolor": "white",
            "showbackground": true,
            "ticks": "",
            "zerolinecolor": "white"
           },
           "yaxis": {
            "backgroundcolor": "#E5ECF6",
            "gridcolor": "white",
            "gridwidth": 2,
            "linecolor": "white",
            "showbackground": true,
            "ticks": "",
            "zerolinecolor": "white"
           },
           "zaxis": {
            "backgroundcolor": "#E5ECF6",
            "gridcolor": "white",
            "gridwidth": 2,
            "linecolor": "white",
            "showbackground": true,
            "ticks": "",
            "zerolinecolor": "white"
           }
          },
          "shapedefaults": {
           "line": {
            "color": "#2a3f5f"
           }
          },
          "ternary": {
           "aaxis": {
            "gridcolor": "white",
            "linecolor": "white",
            "ticks": ""
           },
           "baxis": {
            "gridcolor": "white",
            "linecolor": "white",
            "ticks": ""
           },
           "bgcolor": "#E5ECF6",
           "caxis": {
            "gridcolor": "white",
            "linecolor": "white",
            "ticks": ""
           }
          },
          "title": {
           "x": 0.05
          },
          "xaxis": {
           "automargin": true,
           "gridcolor": "white",
           "linecolor": "white",
           "ticks": "",
           "title": {
            "standoff": 15
           },
           "zerolinecolor": "white",
           "zerolinewidth": 2
          },
          "yaxis": {
           "automargin": true,
           "gridcolor": "white",
           "linecolor": "white",
           "ticks": "",
           "title": {
            "standoff": 15
           },
           "zerolinecolor": "white",
           "zerolinewidth": 2
          }
         }
        },
        "title": {
         "text": "Slice Plot"
        },
        "xaxis": {
         "anchor": "y",
         "domain": [
          0,
          0.45
         ],
         "title": {
          "text": "max_depth"
         }
        },
        "xaxis2": {
         "anchor": "y2",
         "domain": [
          0.55,
          1
         ],
         "title": {
          "text": "n_estimators"
         }
        },
        "yaxis": {
         "anchor": "x",
         "domain": [
          0,
          1
         ],
         "title": {
          "text": "Objective Value"
         }
        },
        "yaxis2": {
         "anchor": "x2",
         "domain": [
          0,
          1
         ],
         "matches": "y",
         "showticklabels": false
        }
       }
      }
     },
     "metadata": {},
     "output_type": "display_data"
    }
   ],
   "source": [
    "# 3) Slice Plot- Shows the distribution of hyperparameters across trials\n",
    "plot_slice(study).show()"
   ]
  },
  {
   "cell_type": "code",
   "execution_count": 16,
   "id": "50b3537e",
   "metadata": {},
   "outputs": [
    {
     "data": {
      "application/vnd.plotly.v1+json": {
       "config": {
        "plotlyServerURL": "https://plot.ly"
       },
       "data": [
        {
         "colorbar": {
          "title": {
           "text": "Objective Value"
          }
         },
         "colorscale": [
          [
           0,
           "rgb(247,251,255)"
          ],
          [
           0.125,
           "rgb(222,235,247)"
          ],
          [
           0.25,
           "rgb(198,219,239)"
          ],
          [
           0.375,
           "rgb(158,202,225)"
          ],
          [
           0.5,
           "rgb(107,174,214)"
          ],
          [
           0.625,
           "rgb(66,146,198)"
          ],
          [
           0.75,
           "rgb(33,113,181)"
          ],
          [
           0.875,
           "rgb(8,81,156)"
          ],
          [
           1,
           "rgb(8,48,107)"
          ]
         ],
         "connectgaps": true,
         "contours": {
          "coloring": "heatmap"
         },
         "hoverinfo": "none",
         "line": {
          "smoothing": 1.3
         },
         "reversescale": false,
         "type": "contour",
         "x": [
          4.25,
          5,
          7,
          9,
          10,
          11,
          12,
          13,
          14,
          15,
          16,
          17,
          18,
          19,
          20,
          20.75
         ],
         "y": [
          42.95,
          50,
          54,
          56,
          58,
          62,
          67,
          68,
          69,
          72,
          73,
          76,
          80,
          88,
          89,
          93,
          94,
          99,
          100,
          104,
          108,
          112,
          118,
          121,
          123,
          124,
          125,
          131,
          132,
          133,
          137,
          141,
          143,
          145,
          149,
          150,
          154,
          158,
          161,
          165,
          169,
          175,
          179,
          187,
          191,
          198.05
         ],
         "z": {
          "bdata": "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",
          "dtype": "f8",
          "shape": "46, 16"
         }
        },
        {
         "marker": {
          "color": "black",
          "line": {
           "color": "Gray",
           "width": 2
          }
         },
         "mode": "markers",
         "name": "Feasible Trial",
         "showlegend": false,
         "type": "scatter",
         "x": [
          7,
          11,
          17,
          7,
          5,
          7,
          11,
          12,
          15,
          15,
          19,
          15,
          9,
          14,
          20,
          17,
          17,
          17,
          14,
          18,
          15,
          16,
          20,
          18,
          17,
          16,
          13,
          19,
          16,
          14,
          12,
          12,
          13,
          10,
          16,
          9,
          11,
          18,
          13,
          15,
          16,
          17,
          19,
          18,
          5,
          12,
          14,
          17,
          15,
          16
         ],
         "y": [
          149,
          94,
          93,
          143,
          123,
          179,
          165,
          100,
          187,
          121,
          56,
          191,
          118,
          175,
          145,
          67,
          58,
          73,
          76,
          108,
          80,
          72,
          54,
          69,
          88,
          112,
          131,
          68,
          133,
          158,
          131,
          132,
          137,
          154,
          112,
          99,
          125,
          141,
          150,
          161,
          169,
          89,
          80,
          62,
          50,
          118,
          104,
          131,
          124,
          133
         ]
        },
        {
         "marker": {
          "color": "#cccccc",
          "line": {
           "color": "Gray",
           "width": 2
          }
         },
         "mode": "markers",
         "name": "Infeasible Trial",
         "showlegend": false,
         "type": "scatter",
         "x": [],
         "y": []
        }
       ],
       "layout": {
        "template": {
         "data": {
          "bar": [
           {
            "error_x": {
             "color": "#2a3f5f"
            },
            "error_y": {
             "color": "#2a3f5f"
            },
            "marker": {
             "line": {
              "color": "#E5ECF6",
              "width": 0.5
             },
             "pattern": {
              "fillmode": "overlay",
              "size": 10,
              "solidity": 0.2
             }
            },
            "type": "bar"
           }
          ],
          "barpolar": [
           {
            "marker": {
             "line": {
              "color": "#E5ECF6",
              "width": 0.5
             },
             "pattern": {
              "fillmode": "overlay",
              "size": 10,
              "solidity": 0.2
             }
            },
            "type": "barpolar"
           }
          ],
          "carpet": [
           {
            "aaxis": {
             "endlinecolor": "#2a3f5f",
             "gridcolor": "white",
             "linecolor": "white",
             "minorgridcolor": "white",
             "startlinecolor": "#2a3f5f"
            },
            "baxis": {
             "endlinecolor": "#2a3f5f",
             "gridcolor": "white",
             "linecolor": "white",
             "minorgridcolor": "white",
             "startlinecolor": "#2a3f5f"
            },
            "type": "carpet"
           }
          ],
          "choropleth": [
           {
            "colorbar": {
             "outlinewidth": 0,
             "ticks": ""
            },
            "type": "choropleth"
           }
          ],
          "contour": [
           {
            "colorbar": {
             "outlinewidth": 0,
             "ticks": ""
            },
            "colorscale": [
             [
              0,
              "#0d0887"
             ],
             [
              0.1111111111111111,
              "#46039f"
             ],
             [
              0.2222222222222222,
              "#7201a8"
             ],
             [
              0.3333333333333333,
              "#9c179e"
             ],
             [
              0.4444444444444444,
              "#bd3786"
             ],
             [
              0.5555555555555556,
              "#d8576b"
             ],
             [
              0.6666666666666666,
              "#ed7953"
             ],
             [
              0.7777777777777778,
              "#fb9f3a"
             ],
             [
              0.8888888888888888,
              "#fdca26"
             ],
             [
              1,
              "#f0f921"
             ]
            ],
            "type": "contour"
           }
          ],
          "contourcarpet": [
           {
            "colorbar": {
             "outlinewidth": 0,
             "ticks": ""
            },
            "type": "contourcarpet"
           }
          ],
          "heatmap": [
           {
            "colorbar": {
             "outlinewidth": 0,
             "ticks": ""
            },
            "colorscale": [
             [
              0,
              "#0d0887"
             ],
             [
              0.1111111111111111,
              "#46039f"
             ],
             [
              0.2222222222222222,
              "#7201a8"
             ],
             [
              0.3333333333333333,
              "#9c179e"
             ],
             [
              0.4444444444444444,
              "#bd3786"
             ],
             [
              0.5555555555555556,
              "#d8576b"
             ],
             [
              0.6666666666666666,
              "#ed7953"
             ],
             [
              0.7777777777777778,
              "#fb9f3a"
             ],
             [
              0.8888888888888888,
              "#fdca26"
             ],
             [
              1,
              "#f0f921"
             ]
            ],
            "type": "heatmap"
           }
          ],
          "histogram": [
           {
            "marker": {
             "pattern": {
              "fillmode": "overlay",
              "size": 10,
              "solidity": 0.2
             }
            },
            "type": "histogram"
           }
          ],
          "histogram2d": [
           {
            "colorbar": {
             "outlinewidth": 0,
             "ticks": ""
            },
            "colorscale": [
             [
              0,
              "#0d0887"
             ],
             [
              0.1111111111111111,
              "#46039f"
             ],
             [
              0.2222222222222222,
              "#7201a8"
             ],
             [
              0.3333333333333333,
              "#9c179e"
             ],
             [
              0.4444444444444444,
              "#bd3786"
             ],
             [
              0.5555555555555556,
              "#d8576b"
             ],
             [
              0.6666666666666666,
              "#ed7953"
             ],
             [
              0.7777777777777778,
              "#fb9f3a"
             ],
             [
              0.8888888888888888,
              "#fdca26"
             ],
             [
              1,
              "#f0f921"
             ]
            ],
            "type": "histogram2d"
           }
          ],
          "histogram2dcontour": [
           {
            "colorbar": {
             "outlinewidth": 0,
             "ticks": ""
            },
            "colorscale": [
             [
              0,
              "#0d0887"
             ],
             [
              0.1111111111111111,
              "#46039f"
             ],
             [
              0.2222222222222222,
              "#7201a8"
             ],
             [
              0.3333333333333333,
              "#9c179e"
             ],
             [
              0.4444444444444444,
              "#bd3786"
             ],
             [
              0.5555555555555556,
              "#d8576b"
             ],
             [
              0.6666666666666666,
              "#ed7953"
             ],
             [
              0.7777777777777778,
              "#fb9f3a"
             ],
             [
              0.8888888888888888,
              "#fdca26"
             ],
             [
              1,
              "#f0f921"
             ]
            ],
            "type": "histogram2dcontour"
           }
          ],
          "mesh3d": [
           {
            "colorbar": {
             "outlinewidth": 0,
             "ticks": ""
            },
            "type": "mesh3d"
           }
          ],
          "parcoords": [
           {
            "line": {
             "colorbar": {
              "outlinewidth": 0,
              "ticks": ""
             }
            },
            "type": "parcoords"
           }
          ],
          "pie": [
           {
            "automargin": true,
            "type": "pie"
           }
          ],
          "scatter": [
           {
            "fillpattern": {
             "fillmode": "overlay",
             "size": 10,
             "solidity": 0.2
            },
            "type": "scatter"
           }
          ],
          "scatter3d": [
           {
            "line": {
             "colorbar": {
              "outlinewidth": 0,
              "ticks": ""
             }
            },
            "marker": {
             "colorbar": {
              "outlinewidth": 0,
              "ticks": ""
             }
            },
            "type": "scatter3d"
           }
          ],
          "scattercarpet": [
           {
            "marker": {
             "colorbar": {
              "outlinewidth": 0,
              "ticks": ""
             }
            },
            "type": "scattercarpet"
           }
          ],
          "scattergeo": [
           {
            "marker": {
             "colorbar": {
              "outlinewidth": 0,
              "ticks": ""
             }
            },
            "type": "scattergeo"
           }
          ],
          "scattergl": [
           {
            "marker": {
             "colorbar": {
              "outlinewidth": 0,
              "ticks": ""
             }
            },
            "type": "scattergl"
           }
          ],
          "scattermap": [
           {
            "marker": {
             "colorbar": {
              "outlinewidth": 0,
              "ticks": ""
             }
            },
            "type": "scattermap"
           }
          ],
          "scattermapbox": [
           {
            "marker": {
             "colorbar": {
              "outlinewidth": 0,
              "ticks": ""
             }
            },
            "type": "scattermapbox"
           }
          ],
          "scatterpolar": [
           {
            "marker": {
             "colorbar": {
              "outlinewidth": 0,
              "ticks": ""
             }
            },
            "type": "scatterpolar"
           }
          ],
          "scatterpolargl": [
           {
            "marker": {
             "colorbar": {
              "outlinewidth": 0,
              "ticks": ""
             }
            },
            "type": "scatterpolargl"
           }
          ],
          "scatterternary": [
           {
            "marker": {
             "colorbar": {
              "outlinewidth": 0,
              "ticks": ""
             }
            },
            "type": "scatterternary"
           }
          ],
          "surface": [
           {
            "colorbar": {
             "outlinewidth": 0,
             "ticks": ""
            },
            "colorscale": [
             [
              0,
              "#0d0887"
             ],
             [
              0.1111111111111111,
              "#46039f"
             ],
             [
              0.2222222222222222,
              "#7201a8"
             ],
             [
              0.3333333333333333,
              "#9c179e"
             ],
             [
              0.4444444444444444,
              "#bd3786"
             ],
             [
              0.5555555555555556,
              "#d8576b"
             ],
             [
              0.6666666666666666,
              "#ed7953"
             ],
             [
              0.7777777777777778,
              "#fb9f3a"
             ],
             [
              0.8888888888888888,
              "#fdca26"
             ],
             [
              1,
              "#f0f921"
             ]
            ],
            "type": "surface"
           }
          ],
          "table": [
           {
            "cells": {
             "fill": {
              "color": "#EBF0F8"
             },
             "line": {
              "color": "white"
             }
            },
            "header": {
             "fill": {
              "color": "#C8D4E3"
             },
             "line": {
              "color": "white"
             }
            },
            "type": "table"
           }
          ]
         },
         "layout": {
          "annotationdefaults": {
           "arrowcolor": "#2a3f5f",
           "arrowhead": 0,
           "arrowwidth": 1
          },
          "autotypenumbers": "strict",
          "coloraxis": {
           "colorbar": {
            "outlinewidth": 0,
            "ticks": ""
           }
          },
          "colorscale": {
           "diverging": [
            [
             0,
             "#8e0152"
            ],
            [
             0.1,
             "#c51b7d"
            ],
            [
             0.2,
             "#de77ae"
            ],
            [
             0.3,
             "#f1b6da"
            ],
            [
             0.4,
             "#fde0ef"
            ],
            [
             0.5,
             "#f7f7f7"
            ],
            [
             0.6,
             "#e6f5d0"
            ],
            [
             0.7,
             "#b8e186"
            ],
            [
             0.8,
             "#7fbc41"
            ],
            [
             0.9,
             "#4d9221"
            ],
            [
             1,
             "#276419"
            ]
           ],
           "sequential": [
            [
             0,
             "#0d0887"
            ],
            [
             0.1111111111111111,
             "#46039f"
            ],
            [
             0.2222222222222222,
             "#7201a8"
            ],
            [
             0.3333333333333333,
             "#9c179e"
            ],
            [
             0.4444444444444444,
             "#bd3786"
            ],
            [
             0.5555555555555556,
             "#d8576b"
            ],
            [
             0.6666666666666666,
             "#ed7953"
            ],
            [
             0.7777777777777778,
             "#fb9f3a"
            ],
            [
             0.8888888888888888,
             "#fdca26"
            ],
            [
             1,
             "#f0f921"
            ]
           ],
           "sequentialminus": [
            [
             0,
             "#0d0887"
            ],
            [
             0.1111111111111111,
             "#46039f"
            ],
            [
             0.2222222222222222,
             "#7201a8"
            ],
            [
             0.3333333333333333,
             "#9c179e"
            ],
            [
             0.4444444444444444,
             "#bd3786"
            ],
            [
             0.5555555555555556,
             "#d8576b"
            ],
            [
             0.6666666666666666,
             "#ed7953"
            ],
            [
             0.7777777777777778,
             "#fb9f3a"
            ],
            [
             0.8888888888888888,
             "#fdca26"
            ],
            [
             1,
             "#f0f921"
            ]
           ]
          },
          "colorway": [
           "#636efa",
           "#EF553B",
           "#00cc96",
           "#ab63fa",
           "#FFA15A",
           "#19d3f3",
           "#FF6692",
           "#B6E880",
           "#FF97FF",
           "#FECB52"
          ],
          "font": {
           "color": "#2a3f5f"
          },
          "geo": {
           "bgcolor": "white",
           "lakecolor": "white",
           "landcolor": "#E5ECF6",
           "showlakes": true,
           "showland": true,
           "subunitcolor": "white"
          },
          "hoverlabel": {
           "align": "left"
          },
          "hovermode": "closest",
          "mapbox": {
           "style": "light"
          },
          "paper_bgcolor": "white",
          "plot_bgcolor": "#E5ECF6",
          "polar": {
           "angularaxis": {
            "gridcolor": "white",
            "linecolor": "white",
            "ticks": ""
           },
           "bgcolor": "#E5ECF6",
           "radialaxis": {
            "gridcolor": "white",
            "linecolor": "white",
            "ticks": ""
           }
          },
          "scene": {
           "xaxis": {
            "backgroundcolor": "#E5ECF6",
            "gridcolor": "white",
            "gridwidth": 2,
            "linecolor": "white",
            "showbackground": true,
            "ticks": "",
            "zerolinecolor": "white"
           },
           "yaxis": {
            "backgroundcolor": "#E5ECF6",
            "gridcolor": "white",
            "gridwidth": 2,
            "linecolor": "white",
            "showbackground": true,
            "ticks": "",
            "zerolinecolor": "white"
           },
           "zaxis": {
            "backgroundcolor": "#E5ECF6",
            "gridcolor": "white",
            "gridwidth": 2,
            "linecolor": "white",
            "showbackground": true,
            "ticks": "",
            "zerolinecolor": "white"
           }
          },
          "shapedefaults": {
           "line": {
            "color": "#2a3f5f"
           }
          },
          "ternary": {
           "aaxis": {
            "gridcolor": "white",
            "linecolor": "white",
            "ticks": ""
           },
           "baxis": {
            "gridcolor": "white",
            "linecolor": "white",
            "ticks": ""
           },
           "bgcolor": "#E5ECF6",
           "caxis": {
            "gridcolor": "white",
            "linecolor": "white",
            "ticks": ""
           }
          },
          "title": {
           "x": 0.05
          },
          "xaxis": {
           "automargin": true,
           "gridcolor": "white",
           "linecolor": "white",
           "ticks": "",
           "title": {
            "standoff": 15
           },
           "zerolinecolor": "white",
           "zerolinewidth": 2
          },
          "yaxis": {
           "automargin": true,
           "gridcolor": "white",
           "linecolor": "white",
           "ticks": "",
           "title": {
            "standoff": 15
           },
           "zerolinecolor": "white",
           "zerolinewidth": 2
          }
         }
        },
        "title": {
         "text": "Contour Plot"
        },
        "xaxis": {
         "range": [
          4.25,
          20.75
         ],
         "title": {
          "text": "max_depth"
         }
        },
        "yaxis": {
         "range": [
          42.95,
          198.05
         ],
         "title": {
          "text": "n_estimators"
         }
        }
       }
      }
     },
     "metadata": {},
     "output_type": "display_data"
    }
   ],
   "source": [
    "# 4) Contour Plot - Visualizes the relationship between two hyperparameters and the objective function\n",
    "plot_contour(study).show()"
   ]
  },
  {
   "cell_type": "code",
   "execution_count": 17,
   "id": "c8177a3e",
   "metadata": {},
   "outputs": [
    {
     "data": {
      "application/vnd.plotly.v1+json": {
       "config": {
        "plotlyServerURL": "https://plot.ly"
       },
       "data": [
        {
         "cliponaxis": false,
         "hovertemplate": [
          "n_estimators (IntDistribution): 0.39320848523721424<extra></extra>",
          "max_depth (IntDistribution): 0.6067915147627857<extra></extra>"
         ],
         "name": "Objective Value",
         "orientation": "h",
         "text": [
          "0.39",
          "0.61"
         ],
         "textposition": "outside",
         "type": "bar",
         "x": [
          0.39320848523721424,
          0.6067915147627857
         ],
         "y": [
          "n_estimators",
          "max_depth"
         ]
        }
       ],
       "layout": {
        "template": {
         "data": {
          "bar": [
           {
            "error_x": {
             "color": "#2a3f5f"
            },
            "error_y": {
             "color": "#2a3f5f"
            },
            "marker": {
             "line": {
              "color": "#E5ECF6",
              "width": 0.5
             },
             "pattern": {
              "fillmode": "overlay",
              "size": 10,
              "solidity": 0.2
             }
            },
            "type": "bar"
           }
          ],
          "barpolar": [
           {
            "marker": {
             "line": {
              "color": "#E5ECF6",
              "width": 0.5
             },
             "pattern": {
              "fillmode": "overlay",
              "size": 10,
              "solidity": 0.2
             }
            },
            "type": "barpolar"
           }
          ],
          "carpet": [
           {
            "aaxis": {
             "endlinecolor": "#2a3f5f",
             "gridcolor": "white",
             "linecolor": "white",
             "minorgridcolor": "white",
             "startlinecolor": "#2a3f5f"
            },
            "baxis": {
             "endlinecolor": "#2a3f5f",
             "gridcolor": "white",
             "linecolor": "white",
             "minorgridcolor": "white",
             "startlinecolor": "#2a3f5f"
            },
            "type": "carpet"
           }
          ],
          "choropleth": [
           {
            "colorbar": {
             "outlinewidth": 0,
             "ticks": ""
            },
            "type": "choropleth"
           }
          ],
          "contour": [
           {
            "colorbar": {
             "outlinewidth": 0,
             "ticks": ""
            },
            "colorscale": [
             [
              0,
              "#0d0887"
             ],
             [
              0.1111111111111111,
              "#46039f"
             ],
             [
              0.2222222222222222,
              "#7201a8"
             ],
             [
              0.3333333333333333,
              "#9c179e"
             ],
             [
              0.4444444444444444,
              "#bd3786"
             ],
             [
              0.5555555555555556,
              "#d8576b"
             ],
             [
              0.6666666666666666,
              "#ed7953"
             ],
             [
              0.7777777777777778,
              "#fb9f3a"
             ],
             [
              0.8888888888888888,
              "#fdca26"
             ],
             [
              1,
              "#f0f921"
             ]
            ],
            "type": "contour"
           }
          ],
          "contourcarpet": [
           {
            "colorbar": {
             "outlinewidth": 0,
             "ticks": ""
            },
            "type": "contourcarpet"
           }
          ],
          "heatmap": [
           {
            "colorbar": {
             "outlinewidth": 0,
             "ticks": ""
            },
            "colorscale": [
             [
              0,
              "#0d0887"
             ],
             [
              0.1111111111111111,
              "#46039f"
             ],
             [
              0.2222222222222222,
              "#7201a8"
             ],
             [
              0.3333333333333333,
              "#9c179e"
             ],
             [
              0.4444444444444444,
              "#bd3786"
             ],
             [
              0.5555555555555556,
              "#d8576b"
             ],
             [
              0.6666666666666666,
              "#ed7953"
             ],
             [
              0.7777777777777778,
              "#fb9f3a"
             ],
             [
              0.8888888888888888,
              "#fdca26"
             ],
             [
              1,
              "#f0f921"
             ]
            ],
            "type": "heatmap"
           }
          ],
          "histogram": [
           {
            "marker": {
             "pattern": {
              "fillmode": "overlay",
              "size": 10,
              "solidity": 0.2
             }
            },
            "type": "histogram"
           }
          ],
          "histogram2d": [
           {
            "colorbar": {
             "outlinewidth": 0,
             "ticks": ""
            },
            "colorscale": [
             [
              0,
              "#0d0887"
             ],
             [
              0.1111111111111111,
              "#46039f"
             ],
             [
              0.2222222222222222,
              "#7201a8"
             ],
             [
              0.3333333333333333,
              "#9c179e"
             ],
             [
              0.4444444444444444,
              "#bd3786"
             ],
             [
              0.5555555555555556,
              "#d8576b"
             ],
             [
              0.6666666666666666,
              "#ed7953"
             ],
             [
              0.7777777777777778,
              "#fb9f3a"
             ],
             [
              0.8888888888888888,
              "#fdca26"
             ],
             [
              1,
              "#f0f921"
             ]
            ],
            "type": "histogram2d"
           }
          ],
          "histogram2dcontour": [
           {
            "colorbar": {
             "outlinewidth": 0,
             "ticks": ""
            },
            "colorscale": [
             [
              0,
              "#0d0887"
             ],
             [
              0.1111111111111111,
              "#46039f"
             ],
             [
              0.2222222222222222,
              "#7201a8"
             ],
             [
              0.3333333333333333,
              "#9c179e"
             ],
             [
              0.4444444444444444,
              "#bd3786"
             ],
             [
              0.5555555555555556,
              "#d8576b"
             ],
             [
              0.6666666666666666,
              "#ed7953"
             ],
             [
              0.7777777777777778,
              "#fb9f3a"
             ],
             [
              0.8888888888888888,
              "#fdca26"
             ],
             [
              1,
              "#f0f921"
             ]
            ],
            "type": "histogram2dcontour"
           }
          ],
          "mesh3d": [
           {
            "colorbar": {
             "outlinewidth": 0,
             "ticks": ""
            },
            "type": "mesh3d"
           }
          ],
          "parcoords": [
           {
            "line": {
             "colorbar": {
              "outlinewidth": 0,
              "ticks": ""
             }
            },
            "type": "parcoords"
           }
          ],
          "pie": [
           {
            "automargin": true,
            "type": "pie"
           }
          ],
          "scatter": [
           {
            "fillpattern": {
             "fillmode": "overlay",
             "size": 10,
             "solidity": 0.2
            },
            "type": "scatter"
           }
          ],
          "scatter3d": [
           {
            "line": {
             "colorbar": {
              "outlinewidth": 0,
              "ticks": ""
             }
            },
            "marker": {
             "colorbar": {
              "outlinewidth": 0,
              "ticks": ""
             }
            },
            "type": "scatter3d"
           }
          ],
          "scattercarpet": [
           {
            "marker": {
             "colorbar": {
              "outlinewidth": 0,
              "ticks": ""
             }
            },
            "type": "scattercarpet"
           }
          ],
          "scattergeo": [
           {
            "marker": {
             "colorbar": {
              "outlinewidth": 0,
              "ticks": ""
             }
            },
            "type": "scattergeo"
           }
          ],
          "scattergl": [
           {
            "marker": {
             "colorbar": {
              "outlinewidth": 0,
              "ticks": ""
             }
            },
            "type": "scattergl"
           }
          ],
          "scattermap": [
           {
            "marker": {
             "colorbar": {
              "outlinewidth": 0,
              "ticks": ""
             }
            },
            "type": "scattermap"
           }
          ],
          "scattermapbox": [
           {
            "marker": {
             "colorbar": {
              "outlinewidth": 0,
              "ticks": ""
             }
            },
            "type": "scattermapbox"
           }
          ],
          "scatterpolar": [
           {
            "marker": {
             "colorbar": {
              "outlinewidth": 0,
              "ticks": ""
             }
            },
            "type": "scatterpolar"
           }
          ],
          "scatterpolargl": [
           {
            "marker": {
             "colorbar": {
              "outlinewidth": 0,
              "ticks": ""
             }
            },
            "type": "scatterpolargl"
           }
          ],
          "scatterternary": [
           {
            "marker": {
             "colorbar": {
              "outlinewidth": 0,
              "ticks": ""
             }
            },
            "type": "scatterternary"
           }
          ],
          "surface": [
           {
            "colorbar": {
             "outlinewidth": 0,
             "ticks": ""
            },
            "colorscale": [
             [
              0,
              "#0d0887"
             ],
             [
              0.1111111111111111,
              "#46039f"
             ],
             [
              0.2222222222222222,
              "#7201a8"
             ],
             [
              0.3333333333333333,
              "#9c179e"
             ],
             [
              0.4444444444444444,
              "#bd3786"
             ],
             [
              0.5555555555555556,
              "#d8576b"
             ],
             [
              0.6666666666666666,
              "#ed7953"
             ],
             [
              0.7777777777777778,
              "#fb9f3a"
             ],
             [
              0.8888888888888888,
              "#fdca26"
             ],
             [
              1,
              "#f0f921"
             ]
            ],
            "type": "surface"
           }
          ],
          "table": [
           {
            "cells": {
             "fill": {
              "color": "#EBF0F8"
             },
             "line": {
              "color": "white"
             }
            },
            "header": {
             "fill": {
              "color": "#C8D4E3"
             },
             "line": {
              "color": "white"
             }
            },
            "type": "table"
           }
          ]
         },
         "layout": {
          "annotationdefaults": {
           "arrowcolor": "#2a3f5f",
           "arrowhead": 0,
           "arrowwidth": 1
          },
          "autotypenumbers": "strict",
          "coloraxis": {
           "colorbar": {
            "outlinewidth": 0,
            "ticks": ""
           }
          },
          "colorscale": {
           "diverging": [
            [
             0,
             "#8e0152"
            ],
            [
             0.1,
             "#c51b7d"
            ],
            [
             0.2,
             "#de77ae"
            ],
            [
             0.3,
             "#f1b6da"
            ],
            [
             0.4,
             "#fde0ef"
            ],
            [
             0.5,
             "#f7f7f7"
            ],
            [
             0.6,
             "#e6f5d0"
            ],
            [
             0.7,
             "#b8e186"
            ],
            [
             0.8,
             "#7fbc41"
            ],
            [
             0.9,
             "#4d9221"
            ],
            [
             1,
             "#276419"
            ]
           ],
           "sequential": [
            [
             0,
             "#0d0887"
            ],
            [
             0.1111111111111111,
             "#46039f"
            ],
            [
             0.2222222222222222,
             "#7201a8"
            ],
            [
             0.3333333333333333,
             "#9c179e"
            ],
            [
             0.4444444444444444,
             "#bd3786"
            ],
            [
             0.5555555555555556,
             "#d8576b"
            ],
            [
             0.6666666666666666,
             "#ed7953"
            ],
            [
             0.7777777777777778,
             "#fb9f3a"
            ],
            [
             0.8888888888888888,
             "#fdca26"
            ],
            [
             1,
             "#f0f921"
            ]
           ],
           "sequentialminus": [
            [
             0,
             "#0d0887"
            ],
            [
             0.1111111111111111,
             "#46039f"
            ],
            [
             0.2222222222222222,
             "#7201a8"
            ],
            [
             0.3333333333333333,
             "#9c179e"
            ],
            [
             0.4444444444444444,
             "#bd3786"
            ],
            [
             0.5555555555555556,
             "#d8576b"
            ],
            [
             0.6666666666666666,
             "#ed7953"
            ],
            [
             0.7777777777777778,
             "#fb9f3a"
            ],
            [
             0.8888888888888888,
             "#fdca26"
            ],
            [
             1,
             "#f0f921"
            ]
           ]
          },
          "colorway": [
           "#636efa",
           "#EF553B",
           "#00cc96",
           "#ab63fa",
           "#FFA15A",
           "#19d3f3",
           "#FF6692",
           "#B6E880",
           "#FF97FF",
           "#FECB52"
          ],
          "font": {
           "color": "#2a3f5f"
          },
          "geo": {
           "bgcolor": "white",
           "lakecolor": "white",
           "landcolor": "#E5ECF6",
           "showlakes": true,
           "showland": true,
           "subunitcolor": "white"
          },
          "hoverlabel": {
           "align": "left"
          },
          "hovermode": "closest",
          "mapbox": {
           "style": "light"
          },
          "paper_bgcolor": "white",
          "plot_bgcolor": "#E5ECF6",
          "polar": {
           "angularaxis": {
            "gridcolor": "white",
            "linecolor": "white",
            "ticks": ""
           },
           "bgcolor": "#E5ECF6",
           "radialaxis": {
            "gridcolor": "white",
            "linecolor": "white",
            "ticks": ""
           }
          },
          "scene": {
           "xaxis": {
            "backgroundcolor": "#E5ECF6",
            "gridcolor": "white",
            "gridwidth": 2,
            "linecolor": "white",
            "showbackground": true,
            "ticks": "",
            "zerolinecolor": "white"
           },
           "yaxis": {
            "backgroundcolor": "#E5ECF6",
            "gridcolor": "white",
            "gridwidth": 2,
            "linecolor": "white",
            "showbackground": true,
            "ticks": "",
            "zerolinecolor": "white"
           },
           "zaxis": {
            "backgroundcolor": "#E5ECF6",
            "gridcolor": "white",
            "gridwidth": 2,
            "linecolor": "white",
            "showbackground": true,
            "ticks": "",
            "zerolinecolor": "white"
           }
          },
          "shapedefaults": {
           "line": {
            "color": "#2a3f5f"
           }
          },
          "ternary": {
           "aaxis": {
            "gridcolor": "white",
            "linecolor": "white",
            "ticks": ""
           },
           "baxis": {
            "gridcolor": "white",
            "linecolor": "white",
            "ticks": ""
           },
           "bgcolor": "#E5ECF6",
           "caxis": {
            "gridcolor": "white",
            "linecolor": "white",
            "ticks": ""
           }
          },
          "title": {
           "x": 0.05
          },
          "xaxis": {
           "automargin": true,
           "gridcolor": "white",
           "linecolor": "white",
           "ticks": "",
           "title": {
            "standoff": 15
           },
           "zerolinecolor": "white",
           "zerolinewidth": 2
          },
          "yaxis": {
           "automargin": true,
           "gridcolor": "white",
           "linecolor": "white",
           "ticks": "",
           "title": {
            "standoff": 15
           },
           "zerolinecolor": "white",
           "zerolinewidth": 2
          }
         }
        },
        "title": {
         "text": "Hyperparameter Importances"
        },
        "xaxis": {
         "title": {
          "text": "Hyperparameter Importance"
         }
        },
        "yaxis": {
         "title": {
          "text": "Hyperparameter"
         }
        }
       }
      }
     },
     "metadata": {},
     "output_type": "display_data"
    }
   ],
   "source": [
    "# 5) Parameter Importances - Shows the importance of each hyperparameter\n",
    "plot_param_importances(study).show()"
   ]
  },
  {
   "cell_type": "markdown",
   "id": "93a12b03",
   "metadata": {},
   "source": [
    "#### **Optimizing Multiple ML Models Once to Find the Best Model**\n",
    "\n",
    "We can use Optuna to Test different ML Models Once and Hypertune the Parameters Once only. \n",
    "\n",
    "One of the Best Features to Decide which Model and Hyperparameter to use "
   ]
  },
  {
   "cell_type": "code",
   "execution_count": 19,
   "id": "1275a5fc",
   "metadata": {},
   "outputs": [],
   "source": [
    "from sklearn.ensemble import RandomForestClassifier, GradientBoostingClassifier\n",
    "from sklearn.svm import SVC"
   ]
  },
  {
   "cell_type": "code",
   "execution_count": 23,
   "id": "e3522bf5",
   "metadata": {},
   "outputs": [],
   "source": [
    "# Defining the objective function for multiple models\n",
    "\n",
    "def Objective(trial):\n",
    "    # Choose the Model to Tune\n",
    "    classifier_name = trial.suggest_categorical('classifier', ['SVM', 'RandomForest', 'GradientBoosting'])\n",
    "\n",
    "    if classifier_name == 'SVM':\n",
    "        # Hyperparameters for SVM\n",
    "        c = trial.suggest_float('C', 0.1,100, log=True) # C is the regularization parameter\n",
    "        kernel = trial.suggest_categorical('kernel', ['linear','rbf','poly', 'sigmoid']) # Kernel represents the type of SVM\n",
    "        gamma = trial.suggest_categorical('gamma', ['scale','auto']) # Gamma represents the kernel coefficient for 'rbf', 'poly', and 'sigmoid' kernels\n",
    "\n",
    "        model = SVC(C=c, kernel=kernel, gamma=gamma, random_state=42)\n",
    "\n",
    "    \n",
    "    elif classifier_name=='RandomForest':\n",
    "        # Hyperparameters for Random Forest\n",
    "        n_estimators = trial.suggest_int('n_estimators', 50,300)  # Represent the number of trees in the forest\n",
    "        max_depth = trial.suggest_int('max_depth', 3,20)\n",
    "        min_samples_split = trial.suggest_int('min_samples_split', 2, 10) # Represents the minimum number of samples required to split an internal node\n",
    "        min_samples_leaf = trial.suggest_int('min_samples_leaf', 1, 10)  # Represents the minimum number of samples required to be at a leaf node\n",
    "        bootstrap = trial.suggest_categorical('bootstrap', [True, False]) # Whether bootstrap samples are used when building trees\n",
    "\n",
    "        model = RandomForestClassifier(\n",
    "            n_estimators=n_estimators,\n",
    "            max_depth=max_depth,\n",
    "            min_samples_split=min_samples_split,\n",
    "            min_samples_leaf=min_samples_leaf,\n",
    "            bootstrap=bootstrap,\n",
    "            random_state=42\n",
    "        )\n",
    "    \n",
    "    elif classifier_name == 'GradientBoosting':\n",
    "        # Hyperparameters for Gradient Boosting\n",
    "        n_estimators = trial.suggest_int('n_estimators', 50,300)  # Represent the number of boosting stages to be run\n",
    "        learning_rate = trial.suggest_float('learning_rate', 0.01, 0.3, log=True) # Represents the step size shrinkage used in the update to prevent overfitting\n",
    "        max_depth = trial.suggest_int('max_depth', 3, 20) \n",
    "        min_samples_split = trial.suggest_int('min_samples_split', 2, 10)\n",
    "        min_samples_leaf = trial.suggest_int('min_samples_leaf', 1, 10)\n",
    "\n",
    "        model = GradientBoostingClassifier(\n",
    "            n_estimators=n_estimators,\n",
    "            learning_rate=learning_rate,\n",
    "            max_depth=max_depth,\n",
    "            min_samples_split=min_samples_split,\n",
    "            min_samples_leaf=min_samples_leaf,\n",
    "            random_state=42\n",
    "        )\n",
    "\n",
    "    # Perform 3 fold cross val\n",
    "    score = cross_val_score(model, X_train, y_train, cv=3, scoring='accuracy').mean()\n",
    "    return score"
   ]
  },
  {
   "cell_type": "code",
   "execution_count": 24,
   "id": "fa71e0f7",
   "metadata": {},
   "outputs": [
    {
     "name": "stderr",
     "output_type": "stream",
     "text": [
      "[I 2025-07-29 03:30:09,485] A new study created in memory with name: no-name-c96f4e8d-3997-479e-be6f-c5e14e79eece\n"
     ]
    },
    {
     "name": "stderr",
     "output_type": "stream",
     "text": [
      "[I 2025-07-29 03:30:10,007] Trial 0 finished with value: 0.7746741154562384 and parameters: {'classifier': 'RandomForest', 'n_estimators': 233, 'max_depth': 11, 'min_samples_split': 9, 'min_samples_leaf': 8, 'bootstrap': False}. Best is trial 0 with value: 0.7746741154562384.\n",
      "[I 2025-07-29 03:30:10,275] Trial 1 finished with value: 0.7597765363128491 and parameters: {'classifier': 'RandomForest', 'n_estimators': 107, 'max_depth': 15, 'min_samples_split': 4, 'min_samples_leaf': 4, 'bootstrap': True}. Best is trial 0 with value: 0.7746741154562384.\n",
      "[I 2025-07-29 03:30:10,722] Trial 2 finished with value: 0.7709497206703911 and parameters: {'classifier': 'RandomForest', 'n_estimators': 228, 'max_depth': 11, 'min_samples_split': 4, 'min_samples_leaf': 9, 'bootstrap': False}. Best is trial 0 with value: 0.7746741154562384.\n",
      "[I 2025-07-29 03:30:12,260] Trial 3 finished with value: 0.7597765363128491 and parameters: {'classifier': 'GradientBoosting', 'n_estimators': 267, 'learning_rate': 0.017873208261115683, 'max_depth': 14, 'min_samples_split': 2, 'min_samples_leaf': 7}. Best is trial 0 with value: 0.7746741154562384.\n",
      "[I 2025-07-29 03:30:12,286] Trial 4 finished with value: 0.7523277467411545 and parameters: {'classifier': 'SVM', 'C': 1.0326692800807793, 'kernel': 'sigmoid', 'gamma': 'scale'}. Best is trial 0 with value: 0.7746741154562384.\n",
      "[I 2025-07-29 03:30:12,299] Trial 5 finished with value: 0.7877094972067038 and parameters: {'classifier': 'SVM', 'C': 0.10274130499538653, 'kernel': 'linear', 'gamma': 'auto'}. Best is trial 5 with value: 0.7877094972067038.\n",
      "[I 2025-07-29 03:30:13,166] Trial 6 finished with value: 0.7411545623836125 and parameters: {'classifier': 'GradientBoosting', 'n_estimators': 114, 'learning_rate': 0.024230881274448366, 'max_depth': 16, 'min_samples_split': 8, 'min_samples_leaf': 4}. Best is trial 5 with value: 0.7877094972067038.\n",
      "[I 2025-07-29 03:30:13,205] Trial 7 finished with value: 0.7057728119180634 and parameters: {'classifier': 'SVM', 'C': 37.86323393771732, 'kernel': 'poly', 'gamma': 'scale'}. Best is trial 5 with value: 0.7877094972067038.\n",
      "[I 2025-07-29 03:30:13,846] Trial 8 finished with value: 0.7541899441340781 and parameters: {'classifier': 'RandomForest', 'n_estimators': 287, 'max_depth': 6, 'min_samples_split': 10, 'min_samples_leaf': 10, 'bootstrap': True}. Best is trial 5 with value: 0.7877094972067038.\n",
      "[I 2025-07-29 03:30:13,864] Trial 9 finished with value: 0.7411545623836128 and parameters: {'classifier': 'SVM', 'C': 20.4436937533804, 'kernel': 'rbf', 'gamma': 'scale'}. Best is trial 5 with value: 0.7877094972067038.\n",
      "[I 2025-07-29 03:30:13,883] Trial 10 finished with value: 0.7858472998137803 and parameters: {'classifier': 'SVM', 'C': 0.19971477617048944, 'kernel': 'linear', 'gamma': 'auto'}. Best is trial 5 with value: 0.7877094972067038.\n",
      "[I 2025-07-29 03:30:13,898] Trial 11 finished with value: 0.7895716945996275 and parameters: {'classifier': 'SVM', 'C': 0.12016359922855274, 'kernel': 'linear', 'gamma': 'auto'}. Best is trial 11 with value: 0.7895716945996275.\n",
      "[I 2025-07-29 03:30:13,912] Trial 12 finished with value: 0.7895716945996275 and parameters: {'classifier': 'SVM', 'C': 0.1120517140044075, 'kernel': 'linear', 'gamma': 'auto'}. Best is trial 11 with value: 0.7895716945996275.\n",
      "[I 2025-07-29 03:30:13,926] Trial 13 finished with value: 0.7858472998137803 and parameters: {'classifier': 'SVM', 'C': 0.6407381154717938, 'kernel': 'linear', 'gamma': 'auto'}. Best is trial 11 with value: 0.7895716945996275.\n",
      "[I 2025-07-29 03:30:13,949] Trial 14 finished with value: 0.7858472998137801 and parameters: {'classifier': 'SVM', 'C': 4.653451618827132, 'kernel': 'linear', 'gamma': 'auto'}. Best is trial 11 with value: 0.7895716945996275.\n",
      "[I 2025-07-29 03:30:13,964] Trial 15 finished with value: 0.7858472998137803 and parameters: {'classifier': 'SVM', 'C': 0.3326681109721604, 'kernel': 'linear', 'gamma': 'auto'}. Best is trial 11 with value: 0.7895716945996275.\n",
      "[I 2025-07-29 03:30:14,638] Trial 16 finished with value: 0.7318435754189944 and parameters: {'classifier': 'GradientBoosting', 'n_estimators': 60, 'learning_rate': 0.28451010248777353, 'max_depth': 20, 'min_samples_split': 7, 'min_samples_leaf': 1}. Best is trial 11 with value: 0.7895716945996275.\n",
      "[I 2025-07-29 03:30:14,655] Trial 17 finished with value: 0.7337057728119181 and parameters: {'classifier': 'SVM', 'C': 2.9220323907481816, 'kernel': 'poly', 'gamma': 'auto'}. Best is trial 11 with value: 0.7895716945996275.\n",
      "[I 2025-07-29 03:30:14,674] Trial 18 finished with value: 0.7243947858472998 and parameters: {'classifier': 'SVM', 'C': 0.10867036765397947, 'kernel': 'rbf', 'gamma': 'auto'}. Best is trial 11 with value: 0.7895716945996275.\n",
      "[I 2025-07-29 03:30:15,227] Trial 19 finished with value: 0.7541899441340781 and parameters: {'classifier': 'GradientBoosting', 'n_estimators': 168, 'learning_rate': 0.15469207792357825, 'max_depth': 4, 'min_samples_split': 5, 'min_samples_leaf': 1}. Best is trial 11 with value: 0.7895716945996275.\n",
      "[I 2025-07-29 03:30:15,243] Trial 20 finished with value: 0.7318435754189944 and parameters: {'classifier': 'SVM', 'C': 1.980852144240518, 'kernel': 'sigmoid', 'gamma': 'auto'}. Best is trial 11 with value: 0.7895716945996275.\n",
      "[I 2025-07-29 03:30:15,258] Trial 21 finished with value: 0.7877094972067038 and parameters: {'classifier': 'SVM', 'C': 0.10643240797104847, 'kernel': 'linear', 'gamma': 'auto'}. Best is trial 11 with value: 0.7895716945996275.\n",
      "[I 2025-07-29 03:30:15,273] Trial 22 finished with value: 0.7839851024208566 and parameters: {'classifier': 'SVM', 'C': 0.3538259911581708, 'kernel': 'linear', 'gamma': 'auto'}. Best is trial 11 with value: 0.7895716945996275.\n",
      "[I 2025-07-29 03:30:15,287] Trial 23 finished with value: 0.7877094972067038 and parameters: {'classifier': 'SVM', 'C': 0.10997753822169047, 'kernel': 'linear', 'gamma': 'auto'}. Best is trial 11 with value: 0.7895716945996275.\n",
      "[I 2025-07-29 03:30:15,302] Trial 24 finished with value: 0.7858472998137803 and parameters: {'classifier': 'SVM', 'C': 0.27930556648926813, 'kernel': 'linear', 'gamma': 'auto'}. Best is trial 11 with value: 0.7895716945996275.\n",
      "[I 2025-07-29 03:30:15,317] Trial 25 finished with value: 0.7858472998137803 and parameters: {'classifier': 'SVM', 'C': 0.6955953397894878, 'kernel': 'linear', 'gamma': 'auto'}. Best is trial 11 with value: 0.7895716945996275.\n",
      "[I 2025-07-29 03:30:15,332] Trial 26 finished with value: 0.7858472998137803 and parameters: {'classifier': 'SVM', 'C': 0.20324640083806605, 'kernel': 'linear', 'gamma': 'scale'}. Best is trial 11 with value: 0.7895716945996275.\n",
      "[I 2025-07-29 03:30:15,352] Trial 27 finished with value: 0.7094972067039106 and parameters: {'classifier': 'SVM', 'C': 9.274312605683695, 'kernel': 'poly', 'gamma': 'auto'}. Best is trial 11 with value: 0.7895716945996275.\n",
      "[I 2025-07-29 03:30:16,190] Trial 28 finished with value: 0.7523277467411545 and parameters: {'classifier': 'GradientBoosting', 'n_estimators': 172, 'learning_rate': 0.06905140584626775, 'max_depth': 7, 'min_samples_split': 2, 'min_samples_leaf': 5}. Best is trial 11 with value: 0.7895716945996275.\n",
      "[I 2025-07-29 03:30:16,365] Trial 29 finished with value: 0.7728119180633147 and parameters: {'classifier': 'RandomForest', 'n_estimators': 67, 'max_depth': 20, 'min_samples_split': 6, 'min_samples_leaf': 3, 'bootstrap': True}. Best is trial 11 with value: 0.7895716945996275.\n",
      "[I 2025-07-29 03:30:16,808] Trial 30 finished with value: 0.7783985102420856 and parameters: {'classifier': 'RandomForest', 'n_estimators': 215, 'max_depth': 8, 'min_samples_split': 10, 'min_samples_leaf': 7, 'bootstrap': False}. Best is trial 11 with value: 0.7895716945996275.\n",
      "[I 2025-07-29 03:30:16,823] Trial 31 finished with value: 0.7895716945996275 and parameters: {'classifier': 'SVM', 'C': 0.11278700523434305, 'kernel': 'linear', 'gamma': 'auto'}. Best is trial 11 with value: 0.7895716945996275.\n",
      "[I 2025-07-29 03:30:16,836] Trial 32 finished with value: 0.7877094972067038 and parameters: {'classifier': 'SVM', 'C': 0.17397383281070786, 'kernel': 'linear', 'gamma': 'auto'}. Best is trial 11 with value: 0.7895716945996275.\n",
      "[I 2025-07-29 03:30:16,851] Trial 33 finished with value: 0.7839851024208566 and parameters: {'classifier': 'SVM', 'C': 0.45447097647024737, 'kernel': 'linear', 'gamma': 'auto'}. Best is trial 11 with value: 0.7895716945996275.\n",
      "[I 2025-07-29 03:30:16,867] Trial 34 finished with value: 0.7877094972067038 and parameters: {'classifier': 'SVM', 'C': 0.15787327897326361, 'kernel': 'linear', 'gamma': 'auto'}. Best is trial 11 with value: 0.7895716945996275.\n",
      "[I 2025-07-29 03:30:17,098] Trial 35 finished with value: 0.7486033519553074 and parameters: {'classifier': 'RandomForest', 'n_estimators': 133, 'max_depth': 3, 'min_samples_split': 7, 'min_samples_leaf': 6, 'bootstrap': False}. Best is trial 11 with value: 0.7895716945996275.\n",
      "[I 2025-07-29 03:30:17,119] Trial 36 finished with value: 0.7094972067039106 and parameters: {'classifier': 'SVM', 'C': 0.10553317472167702, 'kernel': 'rbf', 'gamma': 'auto'}. Best is trial 11 with value: 0.7895716945996275.\n",
      "[I 2025-07-29 03:30:20,464] Trial 37 finished with value: 0.7188081936685288 and parameters: {'classifier': 'GradientBoosting', 'n_estimators': 296, 'learning_rate': 0.010880695934483956, 'max_depth': 17, 'min_samples_split': 3, 'min_samples_leaf': 2}. Best is trial 11 with value: 0.7895716945996275.\n",
      "[I 2025-07-29 03:30:20,481] Trial 38 finished with value: 0.7616387337057727 and parameters: {'classifier': 'SVM', 'C': 0.24167376760546283, 'kernel': 'sigmoid', 'gamma': 'auto'}. Best is trial 11 with value: 0.7895716945996275.\n",
      "[I 2025-07-29 03:30:20,936] Trial 39 finished with value: 0.7523277467411545 and parameters: {'classifier': 'RandomForest', 'n_estimators': 197, 'max_depth': 13, 'min_samples_split': 6, 'min_samples_leaf': 10, 'bootstrap': True}. Best is trial 11 with value: 0.7895716945996275.\n",
      "[I 2025-07-29 03:30:20,951] Trial 40 finished with value: 0.7839851024208566 and parameters: {'classifier': 'SVM', 'C': 1.004713163781392, 'kernel': 'linear', 'gamma': 'auto'}. Best is trial 11 with value: 0.7895716945996275.\n",
      "[I 2025-07-29 03:30:20,967] Trial 41 finished with value: 0.7895716945996275 and parameters: {'classifier': 'SVM', 'C': 0.12341842561951756, 'kernel': 'linear', 'gamma': 'auto'}. Best is trial 11 with value: 0.7895716945996275.\n",
      "[I 2025-07-29 03:30:20,980] Trial 42 finished with value: 0.7877094972067038 and parameters: {'classifier': 'SVM', 'C': 0.16133506417838533, 'kernel': 'linear', 'gamma': 'auto'}. Best is trial 11 with value: 0.7895716945996275.\n",
      "[I 2025-07-29 03:30:20,994] Trial 43 finished with value: 0.7877094972067038 and parameters: {'classifier': 'SVM', 'C': 0.15716299765038302, 'kernel': 'linear', 'gamma': 'auto'}. Best is trial 11 with value: 0.7895716945996275.\n",
      "[I 2025-07-29 03:30:21,010] Trial 44 finished with value: 0.7839851024208566 and parameters: {'classifier': 'SVM', 'C': 0.42535524708775113, 'kernel': 'linear', 'gamma': 'auto'}. Best is trial 11 with value: 0.7895716945996275.\n",
      "[I 2025-07-29 03:30:21,026] Trial 45 finished with value: 0.690875232774674 and parameters: {'classifier': 'SVM', 'C': 86.50822858145325, 'kernel': 'sigmoid', 'gamma': 'scale'}. Best is trial 11 with value: 0.7895716945996275.\n",
      "[I 2025-07-29 03:30:21,041] Trial 46 finished with value: 0.7858472998137803 and parameters: {'classifier': 'SVM', 'C': 0.25428690709118895, 'kernel': 'linear', 'gamma': 'auto'}. Best is trial 11 with value: 0.7895716945996275.\n",
      "[I 2025-07-29 03:30:21,055] Trial 47 finished with value: 0.707635009310987 and parameters: {'classifier': 'SVM', 'C': 0.10765577448196206, 'kernel': 'poly', 'gamma': 'scale'}. Best is trial 11 with value: 0.7895716945996275.\n",
      "[I 2025-07-29 03:30:21,934] Trial 48 finished with value: 0.7411545623836128 and parameters: {'classifier': 'GradientBoosting', 'n_estimators': 143, 'learning_rate': 0.04734488872724673, 'max_depth': 9, 'min_samples_split': 8, 'min_samples_leaf': 5}. Best is trial 11 with value: 0.7895716945996275.\n",
      "[I 2025-07-29 03:30:21,949] Trial 49 finished with value: 0.7877094972067038 and parameters: {'classifier': 'SVM', 'C': 0.1599384053540209, 'kernel': 'linear', 'gamma': 'scale'}. Best is trial 11 with value: 0.7895716945996275.\n",
      "[I 2025-07-29 03:30:21,971] Trial 50 finished with value: 0.7653631284916201 and parameters: {'classifier': 'SVM', 'C': 0.5083995277222815, 'kernel': 'rbf', 'gamma': 'auto'}. Best is trial 11 with value: 0.7895716945996275.\n",
      "[I 2025-07-29 03:30:21,986] Trial 51 finished with value: 0.7877094972067038 and parameters: {'classifier': 'SVM', 'C': 0.1030640486324994, 'kernel': 'linear', 'gamma': 'auto'}. Best is trial 11 with value: 0.7895716945996275.\n",
      "[I 2025-07-29 03:30:22,002] Trial 52 finished with value: 0.7895716945996275 and parameters: {'classifier': 'SVM', 'C': 0.15432114007793765, 'kernel': 'linear', 'gamma': 'auto'}. Best is trial 11 with value: 0.7895716945996275.\n",
      "[I 2025-07-29 03:30:22,017] Trial 53 finished with value: 0.7858472998137803 and parameters: {'classifier': 'SVM', 'C': 0.21318196533309963, 'kernel': 'linear', 'gamma': 'auto'}. Best is trial 11 with value: 0.7895716945996275.\n",
      "[I 2025-07-29 03:30:22,031] Trial 54 finished with value: 0.7895716945996275 and parameters: {'classifier': 'SVM', 'C': 0.150792713032029, 'kernel': 'linear', 'gamma': 'auto'}. Best is trial 11 with value: 0.7895716945996275.\n",
      "[I 2025-07-29 03:30:22,045] Trial 55 finished with value: 0.7895716945996275 and parameters: {'classifier': 'SVM', 'C': 0.14849982844163917, 'kernel': 'linear', 'gamma': 'auto'}. Best is trial 11 with value: 0.7895716945996275.\n",
      "[I 2025-07-29 03:30:22,060] Trial 56 finished with value: 0.7858472998137803 and parameters: {'classifier': 'SVM', 'C': 0.29588581571361927, 'kernel': 'linear', 'gamma': 'auto'}. Best is trial 11 with value: 0.7895716945996275.\n",
      "[I 2025-07-29 03:30:22,075] Trial 57 finished with value: 0.7858472998137803 and parameters: {'classifier': 'SVM', 'C': 0.23595043858202605, 'kernel': 'linear', 'gamma': 'auto'}. Best is trial 11 with value: 0.7895716945996275.\n",
      "[I 2025-07-29 03:30:22,683] Trial 58 finished with value: 0.7597765363128491 and parameters: {'classifier': 'RandomForest', 'n_estimators': 261, 'max_depth': 18, 'min_samples_split': 4, 'min_samples_leaf': 8, 'bootstrap': True}. Best is trial 11 with value: 0.7895716945996275.\n",
      "[I 2025-07-29 03:30:22,696] Trial 59 finished with value: 0.7895716945996275 and parameters: {'classifier': 'SVM', 'C': 0.13752639067465147, 'kernel': 'linear', 'gamma': 'auto'}. Best is trial 11 with value: 0.7895716945996275.\n",
      "[I 2025-07-29 03:30:23,088] Trial 60 finished with value: 0.7579143389199255 and parameters: {'classifier': 'GradientBoosting', 'n_estimators': 101, 'learning_rate': 0.08686234983882749, 'max_depth': 5, 'min_samples_split': 5, 'min_samples_leaf': 3}. Best is trial 11 with value: 0.7895716945996275.\n",
      "[I 2025-07-29 03:30:23,104] Trial 61 finished with value: 0.7877094972067038 and parameters: {'classifier': 'SVM', 'C': 0.16039650447325018, 'kernel': 'linear', 'gamma': 'auto'}. Best is trial 11 with value: 0.7895716945996275.\n",
      "[I 2025-07-29 03:30:23,119] Trial 62 finished with value: 0.7895716945996275 and parameters: {'classifier': 'SVM', 'C': 0.1410898309456053, 'kernel': 'linear', 'gamma': 'auto'}. Best is trial 11 with value: 0.7895716945996275.\n",
      "[I 2025-07-29 03:30:23,132] Trial 63 finished with value: 0.7858472998137803 and parameters: {'classifier': 'SVM', 'C': 0.21124321897683443, 'kernel': 'linear', 'gamma': 'auto'}. Best is trial 11 with value: 0.7895716945996275.\n",
      "[I 2025-07-29 03:30:23,147] Trial 64 finished with value: 0.7262569832402234 and parameters: {'classifier': 'SVM', 'C': 0.3048583418550471, 'kernel': 'poly', 'gamma': 'auto'}. Best is trial 11 with value: 0.7895716945996275.\n",
      "[I 2025-07-29 03:30:23,164] Trial 65 finished with value: 0.7765363128491621 and parameters: {'classifier': 'SVM', 'C': 0.13547914433613337, 'kernel': 'sigmoid', 'gamma': 'auto'}. Best is trial 11 with value: 0.7895716945996275.\n",
      "[I 2025-07-29 03:30:23,184] Trial 66 finished with value: 0.7858472998137801 and parameters: {'classifier': 'SVM', 'C': 1.6999403403582387, 'kernel': 'linear', 'gamma': 'auto'}. Best is trial 11 with value: 0.7895716945996275.\n",
      "[I 2025-07-29 03:30:23,215] Trial 67 finished with value: 0.7858472998137801 and parameters: {'classifier': 'SVM', 'C': 8.031220486493542, 'kernel': 'linear', 'gamma': 'auto'}. Best is trial 11 with value: 0.7895716945996275.\n",
      "[I 2025-07-29 03:30:23,235] Trial 68 finished with value: 0.7672253258845437 and parameters: {'classifier': 'SVM', 'C': 0.34378455296572596, 'kernel': 'rbf', 'gamma': 'scale'}. Best is trial 11 with value: 0.7895716945996275.\n",
      "[I 2025-07-29 03:30:23,250] Trial 69 finished with value: 0.7895716945996275 and parameters: {'classifier': 'SVM', 'C': 0.12260909906947799, 'kernel': 'linear', 'gamma': 'auto'}. Best is trial 11 with value: 0.7895716945996275.\n",
      "[I 2025-07-29 03:30:23,429] Trial 70 finished with value: 0.7728119180633147 and parameters: {'classifier': 'RandomForest', 'n_estimators': 77, 'max_depth': 9, 'min_samples_split': 9, 'min_samples_leaf': 6, 'bootstrap': False}. Best is trial 11 with value: 0.7895716945996275.\n",
      "[I 2025-07-29 03:30:23,442] Trial 71 finished with value: 0.7877094972067038 and parameters: {'classifier': 'SVM', 'C': 0.10001629033263146, 'kernel': 'linear', 'gamma': 'auto'}. Best is trial 11 with value: 0.7895716945996275.\n",
      "[I 2025-07-29 03:30:23,458] Trial 72 finished with value: 0.7858472998137803 and parameters: {'classifier': 'SVM', 'C': 0.20050697213799726, 'kernel': 'linear', 'gamma': 'auto'}. Best is trial 11 with value: 0.7895716945996275.\n",
      "[I 2025-07-29 03:30:23,473] Trial 73 finished with value: 0.7895716945996275 and parameters: {'classifier': 'SVM', 'C': 0.13880884675260366, 'kernel': 'linear', 'gamma': 'auto'}. Best is trial 11 with value: 0.7895716945996275.\n",
      "[I 2025-07-29 03:30:23,489] Trial 74 finished with value: 0.7895716945996275 and parameters: {'classifier': 'SVM', 'C': 0.132730483377536, 'kernel': 'linear', 'gamma': 'auto'}. Best is trial 11 with value: 0.7895716945996275.\n",
      "[I 2025-07-29 03:30:23,501] Trial 75 finished with value: 0.7858472998137803 and parameters: {'classifier': 'SVM', 'C': 0.1916417746923822, 'kernel': 'linear', 'gamma': 'auto'}. Best is trial 11 with value: 0.7895716945996275.\n",
      "[I 2025-07-29 03:30:23,517] Trial 76 finished with value: 0.7895716945996275 and parameters: {'classifier': 'SVM', 'C': 0.13037656925640856, 'kernel': 'linear', 'gamma': 'auto'}. Best is trial 11 with value: 0.7895716945996275.\n",
      "[I 2025-07-29 03:30:25,585] Trial 77 finished with value: 0.7392923649906891 and parameters: {'classifier': 'GradientBoosting', 'n_estimators': 196, 'learning_rate': 0.03180216487671055, 'max_depth': 12, 'min_samples_split': 3, 'min_samples_leaf': 2}. Best is trial 11 with value: 0.7895716945996275.\n",
      "[I 2025-07-29 03:30:25,601] Trial 78 finished with value: 0.7858472998137803 and parameters: {'classifier': 'SVM', 'C': 0.26174822380654156, 'kernel': 'linear', 'gamma': 'auto'}. Best is trial 11 with value: 0.7895716945996275.\n",
      "[I 2025-07-29 03:30:25,617] Trial 79 finished with value: 0.7858472998137803 and parameters: {'classifier': 'SVM', 'C': 0.19096606095731558, 'kernel': 'linear', 'gamma': 'auto'}. Best is trial 11 with value: 0.7895716945996275.\n",
      "[I 2025-07-29 03:30:25,631] Trial 80 finished with value: 0.7411545623836128 and parameters: {'classifier': 'SVM', 'C': 0.5753282552648363, 'kernel': 'poly', 'gamma': 'auto'}. Best is trial 11 with value: 0.7895716945996275.\n",
      "[I 2025-07-29 03:30:25,646] Trial 81 finished with value: 0.7895716945996275 and parameters: {'classifier': 'SVM', 'C': 0.14203320934524183, 'kernel': 'linear', 'gamma': 'auto'}. Best is trial 11 with value: 0.7895716945996275.\n",
      "[I 2025-07-29 03:30:25,660] Trial 82 finished with value: 0.7895716945996275 and parameters: {'classifier': 'SVM', 'C': 0.13119655897144283, 'kernel': 'linear', 'gamma': 'auto'}. Best is trial 11 with value: 0.7895716945996275.\n",
      "[I 2025-07-29 03:30:25,675] Trial 83 finished with value: 0.7839851024208566 and parameters: {'classifier': 'SVM', 'C': 0.3948067601689853, 'kernel': 'linear', 'gamma': 'auto'}. Best is trial 11 with value: 0.7895716945996275.\n",
      "[I 2025-07-29 03:30:25,688] Trial 84 finished with value: 0.7877094972067038 and parameters: {'classifier': 'SVM', 'C': 0.17305720030950159, 'kernel': 'linear', 'gamma': 'auto'}. Best is trial 11 with value: 0.7895716945996275.\n",
      "[I 2025-07-29 03:30:25,703] Trial 85 finished with value: 0.7895716945996275 and parameters: {'classifier': 'SVM', 'C': 0.11647659944742046, 'kernel': 'linear', 'gamma': 'auto'}. Best is trial 11 with value: 0.7895716945996275.\n",
      "[I 2025-07-29 03:30:25,718] Trial 86 finished with value: 0.7001862197392924 and parameters: {'classifier': 'SVM', 'C': 23.26047788502935, 'kernel': 'sigmoid', 'gamma': 'auto'}. Best is trial 11 with value: 0.7895716945996275.\n",
      "[I 2025-07-29 03:30:25,738] Trial 87 finished with value: 0.7094972067039106 and parameters: {'classifier': 'SVM', 'C': 0.10055748673597728, 'kernel': 'rbf', 'gamma': 'scale'}. Best is trial 11 with value: 0.7895716945996275.\n",
      "[I 2025-07-29 03:30:26,033] Trial 88 finished with value: 0.7765363128491619 and parameters: {'classifier': 'RandomForest', 'n_estimators': 142, 'max_depth': 19, 'min_samples_split': 7, 'min_samples_leaf': 9, 'bootstrap': False}. Best is trial 11 with value: 0.7895716945996275.\n",
      "[I 2025-07-29 03:30:26,048] Trial 89 finished with value: 0.7877094972067038 and parameters: {'classifier': 'SVM', 'C': 0.18034178555085242, 'kernel': 'linear', 'gamma': 'auto'}. Best is trial 11 with value: 0.7895716945996275.\n",
      "[I 2025-07-29 03:30:26,679] Trial 90 finished with value: 0.7597765363128492 and parameters: {'classifier': 'GradientBoosting', 'n_estimators': 262, 'learning_rate': 0.133532053697617, 'max_depth': 3, 'min_samples_split': 5, 'min_samples_leaf': 4}. Best is trial 11 with value: 0.7895716945996275.\n",
      "[I 2025-07-29 03:30:26,693] Trial 91 finished with value: 0.7895716945996275 and parameters: {'classifier': 'SVM', 'C': 0.13189312934994532, 'kernel': 'linear', 'gamma': 'auto'}. Best is trial 11 with value: 0.7895716945996275.\n",
      "[I 2025-07-29 03:30:26,708] Trial 92 finished with value: 0.7895716945996275 and parameters: {'classifier': 'SVM', 'C': 0.12582439076502355, 'kernel': 'linear', 'gamma': 'auto'}. Best is trial 11 with value: 0.7895716945996275.\n",
      "[I 2025-07-29 03:30:26,722] Trial 93 finished with value: 0.7858472998137803 and parameters: {'classifier': 'SVM', 'C': 0.24864332983289464, 'kernel': 'linear', 'gamma': 'auto'}. Best is trial 11 with value: 0.7895716945996275.\n",
      "[I 2025-07-29 03:30:26,737] Trial 94 finished with value: 0.7877094972067038 and parameters: {'classifier': 'SVM', 'C': 0.16302728133780664, 'kernel': 'linear', 'gamma': 'auto'}. Best is trial 11 with value: 0.7895716945996275.\n",
      "[I 2025-07-29 03:30:26,751] Trial 95 finished with value: 0.7895716945996275 and parameters: {'classifier': 'SVM', 'C': 0.15457583006339487, 'kernel': 'linear', 'gamma': 'auto'}. Best is trial 11 with value: 0.7895716945996275.\n",
      "[I 2025-07-29 03:30:26,766] Trial 96 finished with value: 0.7895716945996275 and parameters: {'classifier': 'SVM', 'C': 0.12097774552353847, 'kernel': 'linear', 'gamma': 'auto'}. Best is trial 11 with value: 0.7895716945996275.\n",
      "[I 2025-07-29 03:30:26,780] Trial 97 finished with value: 0.7858472998137803 and parameters: {'classifier': 'SVM', 'C': 0.19471840336827653, 'kernel': 'linear', 'gamma': 'auto'}. Best is trial 11 with value: 0.7895716945996275.\n",
      "[I 2025-07-29 03:30:26,795] Trial 98 finished with value: 0.7858472998137803 and parameters: {'classifier': 'SVM', 'C': 0.23003654529867487, 'kernel': 'linear', 'gamma': 'auto'}. Best is trial 11 with value: 0.7895716945996275.\n",
      "[I 2025-07-29 03:30:26,811] Trial 99 finished with value: 0.7858472998137803 and parameters: {'classifier': 'SVM', 'C': 0.914629601635761, 'kernel': 'linear', 'gamma': 'auto'}. Best is trial 11 with value: 0.7895716945996275.\n"
     ]
    }
   ],
   "source": [
    "study = optuna.create_study(direction='maximize') # TPE is the default sampler\n",
    "study.optimize(Objective, n_trials=100) "
   ]
  },
  {
   "cell_type": "code",
   "execution_count": 26,
   "id": "544454ad",
   "metadata": {},
   "outputs": [
    {
     "name": "stdout",
     "output_type": "stream",
     "text": [
      "Best Trial Accuracy: [0.7895716945996275]\n",
      "Best Hyperparameters: {'classifier': 'SVM', 'C': 0.12016359922855274, 'kernel': 'linear', 'gamma': 'auto'}\n"
     ]
    }
   ],
   "source": [
    "# Best Results\n",
    "print(\"Best Trial Accuracy:\", study.best_trial.values)\n",
    "print(\"Best Hyperparameters:\", study.best_trial.params)"
   ]
  },
  {
   "cell_type": "markdown",
   "id": "57272740",
   "metadata": {},
   "source": [
    "**Analysis on the Current Training**"
   ]
  },
  {
   "cell_type": "code",
   "execution_count": 28,
   "id": "5ca2dbcc",
   "metadata": {},
   "outputs": [
    {
     "data": {
      "text/html": [
       "<div>\n",
       "<style scoped>\n",
       "    .dataframe tbody tr th:only-of-type {\n",
       "        vertical-align: middle;\n",
       "    }\n",
       "\n",
       "    .dataframe tbody tr th {\n",
       "        vertical-align: top;\n",
       "    }\n",
       "\n",
       "    .dataframe thead th {\n",
       "        text-align: right;\n",
       "    }\n",
       "</style>\n",
       "<table border=\"1\" class=\"dataframe\">\n",
       "  <thead>\n",
       "    <tr style=\"text-align: right;\">\n",
       "      <th></th>\n",
       "      <th>number</th>\n",
       "      <th>value</th>\n",
       "      <th>datetime_start</th>\n",
       "      <th>datetime_complete</th>\n",
       "      <th>duration</th>\n",
       "      <th>params_C</th>\n",
       "      <th>params_bootstrap</th>\n",
       "      <th>params_classifier</th>\n",
       "      <th>params_gamma</th>\n",
       "      <th>params_kernel</th>\n",
       "      <th>params_learning_rate</th>\n",
       "      <th>params_max_depth</th>\n",
       "      <th>params_min_samples_leaf</th>\n",
       "      <th>params_min_samples_split</th>\n",
       "      <th>params_n_estimators</th>\n",
       "      <th>state</th>\n",
       "    </tr>\n",
       "  </thead>\n",
       "  <tbody>\n",
       "    <tr>\n",
       "      <th>0</th>\n",
       "      <td>0</td>\n",
       "      <td>0.774674</td>\n",
       "      <td>2025-07-29 03:30:09.486868</td>\n",
       "      <td>2025-07-29 03:30:10.007949</td>\n",
       "      <td>0 days 00:00:00.521081</td>\n",
       "      <td>NaN</td>\n",
       "      <td>False</td>\n",
       "      <td>RandomForest</td>\n",
       "      <td>NaN</td>\n",
       "      <td>NaN</td>\n",
       "      <td>NaN</td>\n",
       "      <td>11.0</td>\n",
       "      <td>8.0</td>\n",
       "      <td>9.0</td>\n",
       "      <td>233.0</td>\n",
       "      <td>COMPLETE</td>\n",
       "    </tr>\n",
       "    <tr>\n",
       "      <th>1</th>\n",
       "      <td>1</td>\n",
       "      <td>0.759777</td>\n",
       "      <td>2025-07-29 03:30:10.015208</td>\n",
       "      <td>2025-07-29 03:30:10.275508</td>\n",
       "      <td>0 days 00:00:00.260300</td>\n",
       "      <td>NaN</td>\n",
       "      <td>True</td>\n",
       "      <td>RandomForest</td>\n",
       "      <td>NaN</td>\n",
       "      <td>NaN</td>\n",
       "      <td>NaN</td>\n",
       "      <td>15.0</td>\n",
       "      <td>4.0</td>\n",
       "      <td>4.0</td>\n",
       "      <td>107.0</td>\n",
       "      <td>COMPLETE</td>\n",
       "    </tr>\n",
       "    <tr>\n",
       "      <th>2</th>\n",
       "      <td>2</td>\n",
       "      <td>0.770950</td>\n",
       "      <td>2025-07-29 03:30:10.277590</td>\n",
       "      <td>2025-07-29 03:30:10.722182</td>\n",
       "      <td>0 days 00:00:00.444592</td>\n",
       "      <td>NaN</td>\n",
       "      <td>False</td>\n",
       "      <td>RandomForest</td>\n",
       "      <td>NaN</td>\n",
       "      <td>NaN</td>\n",
       "      <td>NaN</td>\n",
       "      <td>11.0</td>\n",
       "      <td>9.0</td>\n",
       "      <td>4.0</td>\n",
       "      <td>228.0</td>\n",
       "      <td>COMPLETE</td>\n",
       "    </tr>\n",
       "    <tr>\n",
       "      <th>3</th>\n",
       "      <td>3</td>\n",
       "      <td>0.759777</td>\n",
       "      <td>2025-07-29 03:30:10.722182</td>\n",
       "      <td>2025-07-29 03:30:12.260175</td>\n",
       "      <td>0 days 00:00:01.537993</td>\n",
       "      <td>NaN</td>\n",
       "      <td>NaN</td>\n",
       "      <td>GradientBoosting</td>\n",
       "      <td>NaN</td>\n",
       "      <td>NaN</td>\n",
       "      <td>0.017873</td>\n",
       "      <td>14.0</td>\n",
       "      <td>7.0</td>\n",
       "      <td>2.0</td>\n",
       "      <td>267.0</td>\n",
       "      <td>COMPLETE</td>\n",
       "    </tr>\n",
       "    <tr>\n",
       "      <th>4</th>\n",
       "      <td>4</td>\n",
       "      <td>0.752328</td>\n",
       "      <td>2025-07-29 03:30:12.261178</td>\n",
       "      <td>2025-07-29 03:30:12.286609</td>\n",
       "      <td>0 days 00:00:00.025431</td>\n",
       "      <td>1.032669</td>\n",
       "      <td>NaN</td>\n",
       "      <td>SVM</td>\n",
       "      <td>scale</td>\n",
       "      <td>sigmoid</td>\n",
       "      <td>NaN</td>\n",
       "      <td>NaN</td>\n",
       "      <td>NaN</td>\n",
       "      <td>NaN</td>\n",
       "      <td>NaN</td>\n",
       "      <td>COMPLETE</td>\n",
       "    </tr>\n",
       "    <tr>\n",
       "      <th>...</th>\n",
       "      <td>...</td>\n",
       "      <td>...</td>\n",
       "      <td>...</td>\n",
       "      <td>...</td>\n",
       "      <td>...</td>\n",
       "      <td>...</td>\n",
       "      <td>...</td>\n",
       "      <td>...</td>\n",
       "      <td>...</td>\n",
       "      <td>...</td>\n",
       "      <td>...</td>\n",
       "      <td>...</td>\n",
       "      <td>...</td>\n",
       "      <td>...</td>\n",
       "      <td>...</td>\n",
       "      <td>...</td>\n",
       "    </tr>\n",
       "    <tr>\n",
       "      <th>95</th>\n",
       "      <td>95</td>\n",
       "      <td>0.789572</td>\n",
       "      <td>2025-07-29 03:30:26.737351</td>\n",
       "      <td>2025-07-29 03:30:26.751789</td>\n",
       "      <td>0 days 00:00:00.014438</td>\n",
       "      <td>0.154576</td>\n",
       "      <td>NaN</td>\n",
       "      <td>SVM</td>\n",
       "      <td>auto</td>\n",
       "      <td>linear</td>\n",
       "      <td>NaN</td>\n",
       "      <td>NaN</td>\n",
       "      <td>NaN</td>\n",
       "      <td>NaN</td>\n",
       "      <td>NaN</td>\n",
       "      <td>COMPLETE</td>\n",
       "    </tr>\n",
       "    <tr>\n",
       "      <th>96</th>\n",
       "      <td>96</td>\n",
       "      <td>0.789572</td>\n",
       "      <td>2025-07-29 03:30:26.752311</td>\n",
       "      <td>2025-07-29 03:30:26.766627</td>\n",
       "      <td>0 days 00:00:00.014316</td>\n",
       "      <td>0.120978</td>\n",
       "      <td>NaN</td>\n",
       "      <td>SVM</td>\n",
       "      <td>auto</td>\n",
       "      <td>linear</td>\n",
       "      <td>NaN</td>\n",
       "      <td>NaN</td>\n",
       "      <td>NaN</td>\n",
       "      <td>NaN</td>\n",
       "      <td>NaN</td>\n",
       "      <td>COMPLETE</td>\n",
       "    </tr>\n",
       "    <tr>\n",
       "      <th>97</th>\n",
       "      <td>97</td>\n",
       "      <td>0.785847</td>\n",
       "      <td>2025-07-29 03:30:26.767634</td>\n",
       "      <td>2025-07-29 03:30:26.780743</td>\n",
       "      <td>0 days 00:00:00.013109</td>\n",
       "      <td>0.194718</td>\n",
       "      <td>NaN</td>\n",
       "      <td>SVM</td>\n",
       "      <td>auto</td>\n",
       "      <td>linear</td>\n",
       "      <td>NaN</td>\n",
       "      <td>NaN</td>\n",
       "      <td>NaN</td>\n",
       "      <td>NaN</td>\n",
       "      <td>NaN</td>\n",
       "      <td>COMPLETE</td>\n",
       "    </tr>\n",
       "    <tr>\n",
       "      <th>98</th>\n",
       "      <td>98</td>\n",
       "      <td>0.785847</td>\n",
       "      <td>2025-07-29 03:30:26.781778</td>\n",
       "      <td>2025-07-29 03:30:26.795391</td>\n",
       "      <td>0 days 00:00:00.013613</td>\n",
       "      <td>0.230037</td>\n",
       "      <td>NaN</td>\n",
       "      <td>SVM</td>\n",
       "      <td>auto</td>\n",
       "      <td>linear</td>\n",
       "      <td>NaN</td>\n",
       "      <td>NaN</td>\n",
       "      <td>NaN</td>\n",
       "      <td>NaN</td>\n",
       "      <td>NaN</td>\n",
       "      <td>COMPLETE</td>\n",
       "    </tr>\n",
       "    <tr>\n",
       "      <th>99</th>\n",
       "      <td>99</td>\n",
       "      <td>0.785847</td>\n",
       "      <td>2025-07-29 03:30:26.796393</td>\n",
       "      <td>2025-07-29 03:30:26.811726</td>\n",
       "      <td>0 days 00:00:00.015333</td>\n",
       "      <td>0.914630</td>\n",
       "      <td>NaN</td>\n",
       "      <td>SVM</td>\n",
       "      <td>auto</td>\n",
       "      <td>linear</td>\n",
       "      <td>NaN</td>\n",
       "      <td>NaN</td>\n",
       "      <td>NaN</td>\n",
       "      <td>NaN</td>\n",
       "      <td>NaN</td>\n",
       "      <td>COMPLETE</td>\n",
       "    </tr>\n",
       "  </tbody>\n",
       "</table>\n",
       "<p>100 rows × 16 columns</p>\n",
       "</div>"
      ],
      "text/plain": [
       "    number     value  ... params_n_estimators     state\n",
       "0        0  0.774674  ...               233.0  COMPLETE\n",
       "1        1  0.759777  ...               107.0  COMPLETE\n",
       "2        2  0.770950  ...               228.0  COMPLETE\n",
       "3        3  0.759777  ...               267.0  COMPLETE\n",
       "4        4  0.752328  ...                 NaN  COMPLETE\n",
       "..     ...       ...  ...                 ...       ...\n",
       "95      95  0.789572  ...                 NaN  COMPLETE\n",
       "96      96  0.789572  ...                 NaN  COMPLETE\n",
       "97      97  0.785847  ...                 NaN  COMPLETE\n",
       "98      98  0.785847  ...                 NaN  COMPLETE\n",
       "99      99  0.785847  ...                 NaN  COMPLETE\n",
       "\n",
       "[100 rows x 16 columns]"
      ]
     },
     "execution_count": 28,
     "metadata": {},
     "output_type": "execute_result"
    }
   ],
   "source": [
    "study.trials_dataframe()"
   ]
  },
  {
   "cell_type": "code",
   "execution_count": null,
   "id": "db297792",
   "metadata": {},
   "outputs": [
    {
     "data": {
      "text/plain": [
       "params_classifier\n",
       "SVM                 79\n",
       "RandomForest        11\n",
       "GradientBoosting    10\n",
       "Name: count, dtype: int64"
      ]
     },
     "execution_count": 29,
     "metadata": {},
     "output_type": "execute_result"
    }
   ],
   "source": [
    "study.trials_dataframe()['params_classifier'].value_counts() # Shows the count of each classifier used in the trials"
   ]
  },
  {
   "cell_type": "code",
   "execution_count": null,
   "id": "51dccedf",
   "metadata": {},
   "outputs": [
    {
     "data": {
      "text/plain": [
       "params_classifier\n",
       "GradientBoosting    0.745624\n",
       "RandomForest        0.765532\n",
       "SVM                 0.774462\n",
       "Name: value, dtype: float64"
      ]
     },
     "execution_count": 30,
     "metadata": {},
     "output_type": "execute_result"
    }
   ],
   "source": [
    "study.trials_dataframe().groupby('params_classifier')['value'].mean() # Shows the mean accuracy for each classifier used in the trials"
   ]
  },
  {
   "cell_type": "code",
   "execution_count": 31,
   "id": "38d1967c",
   "metadata": {},
   "outputs": [
    {
     "data": {
      "application/vnd.plotly.v1+json": {
       "config": {
        "plotlyServerURL": "https://plot.ly"
       },
       "data": [
        {
         "cliponaxis": false,
         "hovertemplate": [
          "classifier (CategoricalDistribution): 1.0<extra></extra>"
         ],
         "name": "Objective Value",
         "orientation": "h",
         "text": [
          "1.00"
         ],
         "textposition": "outside",
         "type": "bar",
         "x": [
          1
         ],
         "y": [
          "classifier"
         ]
        }
       ],
       "layout": {
        "template": {
         "data": {
          "bar": [
           {
            "error_x": {
             "color": "#2a3f5f"
            },
            "error_y": {
             "color": "#2a3f5f"
            },
            "marker": {
             "line": {
              "color": "#E5ECF6",
              "width": 0.5
             },
             "pattern": {
              "fillmode": "overlay",
              "size": 10,
              "solidity": 0.2
             }
            },
            "type": "bar"
           }
          ],
          "barpolar": [
           {
            "marker": {
             "line": {
              "color": "#E5ECF6",
              "width": 0.5
             },
             "pattern": {
              "fillmode": "overlay",
              "size": 10,
              "solidity": 0.2
             }
            },
            "type": "barpolar"
           }
          ],
          "carpet": [
           {
            "aaxis": {
             "endlinecolor": "#2a3f5f",
             "gridcolor": "white",
             "linecolor": "white",
             "minorgridcolor": "white",
             "startlinecolor": "#2a3f5f"
            },
            "baxis": {
             "endlinecolor": "#2a3f5f",
             "gridcolor": "white",
             "linecolor": "white",
             "minorgridcolor": "white",
             "startlinecolor": "#2a3f5f"
            },
            "type": "carpet"
           }
          ],
          "choropleth": [
           {
            "colorbar": {
             "outlinewidth": 0,
             "ticks": ""
            },
            "type": "choropleth"
           }
          ],
          "contour": [
           {
            "colorbar": {
             "outlinewidth": 0,
             "ticks": ""
            },
            "colorscale": [
             [
              0,
              "#0d0887"
             ],
             [
              0.1111111111111111,
              "#46039f"
             ],
             [
              0.2222222222222222,
              "#7201a8"
             ],
             [
              0.3333333333333333,
              "#9c179e"
             ],
             [
              0.4444444444444444,
              "#bd3786"
             ],
             [
              0.5555555555555556,
              "#d8576b"
             ],
             [
              0.6666666666666666,
              "#ed7953"
             ],
             [
              0.7777777777777778,
              "#fb9f3a"
             ],
             [
              0.8888888888888888,
              "#fdca26"
             ],
             [
              1,
              "#f0f921"
             ]
            ],
            "type": "contour"
           }
          ],
          "contourcarpet": [
           {
            "colorbar": {
             "outlinewidth": 0,
             "ticks": ""
            },
            "type": "contourcarpet"
           }
          ],
          "heatmap": [
           {
            "colorbar": {
             "outlinewidth": 0,
             "ticks": ""
            },
            "colorscale": [
             [
              0,
              "#0d0887"
             ],
             [
              0.1111111111111111,
              "#46039f"
             ],
             [
              0.2222222222222222,
              "#7201a8"
             ],
             [
              0.3333333333333333,
              "#9c179e"
             ],
             [
              0.4444444444444444,
              "#bd3786"
             ],
             [
              0.5555555555555556,
              "#d8576b"
             ],
             [
              0.6666666666666666,
              "#ed7953"
             ],
             [
              0.7777777777777778,
              "#fb9f3a"
             ],
             [
              0.8888888888888888,
              "#fdca26"
             ],
             [
              1,
              "#f0f921"
             ]
            ],
            "type": "heatmap"
           }
          ],
          "histogram": [
           {
            "marker": {
             "pattern": {
              "fillmode": "overlay",
              "size": 10,
              "solidity": 0.2
             }
            },
            "type": "histogram"
           }
          ],
          "histogram2d": [
           {
            "colorbar": {
             "outlinewidth": 0,
             "ticks": ""
            },
            "colorscale": [
             [
              0,
              "#0d0887"
             ],
             [
              0.1111111111111111,
              "#46039f"
             ],
             [
              0.2222222222222222,
              "#7201a8"
             ],
             [
              0.3333333333333333,
              "#9c179e"
             ],
             [
              0.4444444444444444,
              "#bd3786"
             ],
             [
              0.5555555555555556,
              "#d8576b"
             ],
             [
              0.6666666666666666,
              "#ed7953"
             ],
             [
              0.7777777777777778,
              "#fb9f3a"
             ],
             [
              0.8888888888888888,
              "#fdca26"
             ],
             [
              1,
              "#f0f921"
             ]
            ],
            "type": "histogram2d"
           }
          ],
          "histogram2dcontour": [
           {
            "colorbar": {
             "outlinewidth": 0,
             "ticks": ""
            },
            "colorscale": [
             [
              0,
              "#0d0887"
             ],
             [
              0.1111111111111111,
              "#46039f"
             ],
             [
              0.2222222222222222,
              "#7201a8"
             ],
             [
              0.3333333333333333,
              "#9c179e"
             ],
             [
              0.4444444444444444,
              "#bd3786"
             ],
             [
              0.5555555555555556,
              "#d8576b"
             ],
             [
              0.6666666666666666,
              "#ed7953"
             ],
             [
              0.7777777777777778,
              "#fb9f3a"
             ],
             [
              0.8888888888888888,
              "#fdca26"
             ],
             [
              1,
              "#f0f921"
             ]
            ],
            "type": "histogram2dcontour"
           }
          ],
          "mesh3d": [
           {
            "colorbar": {
             "outlinewidth": 0,
             "ticks": ""
            },
            "type": "mesh3d"
           }
          ],
          "parcoords": [
           {
            "line": {
             "colorbar": {
              "outlinewidth": 0,
              "ticks": ""
             }
            },
            "type": "parcoords"
           }
          ],
          "pie": [
           {
            "automargin": true,
            "type": "pie"
           }
          ],
          "scatter": [
           {
            "fillpattern": {
             "fillmode": "overlay",
             "size": 10,
             "solidity": 0.2
            },
            "type": "scatter"
           }
          ],
          "scatter3d": [
           {
            "line": {
             "colorbar": {
              "outlinewidth": 0,
              "ticks": ""
             }
            },
            "marker": {
             "colorbar": {
              "outlinewidth": 0,
              "ticks": ""
             }
            },
            "type": "scatter3d"
           }
          ],
          "scattercarpet": [
           {
            "marker": {
             "colorbar": {
              "outlinewidth": 0,
              "ticks": ""
             }
            },
            "type": "scattercarpet"
           }
          ],
          "scattergeo": [
           {
            "marker": {
             "colorbar": {
              "outlinewidth": 0,
              "ticks": ""
             }
            },
            "type": "scattergeo"
           }
          ],
          "scattergl": [
           {
            "marker": {
             "colorbar": {
              "outlinewidth": 0,
              "ticks": ""
             }
            },
            "type": "scattergl"
           }
          ],
          "scattermap": [
           {
            "marker": {
             "colorbar": {
              "outlinewidth": 0,
              "ticks": ""
             }
            },
            "type": "scattermap"
           }
          ],
          "scattermapbox": [
           {
            "marker": {
             "colorbar": {
              "outlinewidth": 0,
              "ticks": ""
             }
            },
            "type": "scattermapbox"
           }
          ],
          "scatterpolar": [
           {
            "marker": {
             "colorbar": {
              "outlinewidth": 0,
              "ticks": ""
             }
            },
            "type": "scatterpolar"
           }
          ],
          "scatterpolargl": [
           {
            "marker": {
             "colorbar": {
              "outlinewidth": 0,
              "ticks": ""
             }
            },
            "type": "scatterpolargl"
           }
          ],
          "scatterternary": [
           {
            "marker": {
             "colorbar": {
              "outlinewidth": 0,
              "ticks": ""
             }
            },
            "type": "scatterternary"
           }
          ],
          "surface": [
           {
            "colorbar": {
             "outlinewidth": 0,
             "ticks": ""
            },
            "colorscale": [
             [
              0,
              "#0d0887"
             ],
             [
              0.1111111111111111,
              "#46039f"
             ],
             [
              0.2222222222222222,
              "#7201a8"
             ],
             [
              0.3333333333333333,
              "#9c179e"
             ],
             [
              0.4444444444444444,
              "#bd3786"
             ],
             [
              0.5555555555555556,
              "#d8576b"
             ],
             [
              0.6666666666666666,
              "#ed7953"
             ],
             [
              0.7777777777777778,
              "#fb9f3a"
             ],
             [
              0.8888888888888888,
              "#fdca26"
             ],
             [
              1,
              "#f0f921"
             ]
            ],
            "type": "surface"
           }
          ],
          "table": [
           {
            "cells": {
             "fill": {
              "color": "#EBF0F8"
             },
             "line": {
              "color": "white"
             }
            },
            "header": {
             "fill": {
              "color": "#C8D4E3"
             },
             "line": {
              "color": "white"
             }
            },
            "type": "table"
           }
          ]
         },
         "layout": {
          "annotationdefaults": {
           "arrowcolor": "#2a3f5f",
           "arrowhead": 0,
           "arrowwidth": 1
          },
          "autotypenumbers": "strict",
          "coloraxis": {
           "colorbar": {
            "outlinewidth": 0,
            "ticks": ""
           }
          },
          "colorscale": {
           "diverging": [
            [
             0,
             "#8e0152"
            ],
            [
             0.1,
             "#c51b7d"
            ],
            [
             0.2,
             "#de77ae"
            ],
            [
             0.3,
             "#f1b6da"
            ],
            [
             0.4,
             "#fde0ef"
            ],
            [
             0.5,
             "#f7f7f7"
            ],
            [
             0.6,
             "#e6f5d0"
            ],
            [
             0.7,
             "#b8e186"
            ],
            [
             0.8,
             "#7fbc41"
            ],
            [
             0.9,
             "#4d9221"
            ],
            [
             1,
             "#276419"
            ]
           ],
           "sequential": [
            [
             0,
             "#0d0887"
            ],
            [
             0.1111111111111111,
             "#46039f"
            ],
            [
             0.2222222222222222,
             "#7201a8"
            ],
            [
             0.3333333333333333,
             "#9c179e"
            ],
            [
             0.4444444444444444,
             "#bd3786"
            ],
            [
             0.5555555555555556,
             "#d8576b"
            ],
            [
             0.6666666666666666,
             "#ed7953"
            ],
            [
             0.7777777777777778,
             "#fb9f3a"
            ],
            [
             0.8888888888888888,
             "#fdca26"
            ],
            [
             1,
             "#f0f921"
            ]
           ],
           "sequentialminus": [
            [
             0,
             "#0d0887"
            ],
            [
             0.1111111111111111,
             "#46039f"
            ],
            [
             0.2222222222222222,
             "#7201a8"
            ],
            [
             0.3333333333333333,
             "#9c179e"
            ],
            [
             0.4444444444444444,
             "#bd3786"
            ],
            [
             0.5555555555555556,
             "#d8576b"
            ],
            [
             0.6666666666666666,
             "#ed7953"
            ],
            [
             0.7777777777777778,
             "#fb9f3a"
            ],
            [
             0.8888888888888888,
             "#fdca26"
            ],
            [
             1,
             "#f0f921"
            ]
           ]
          },
          "colorway": [
           "#636efa",
           "#EF553B",
           "#00cc96",
           "#ab63fa",
           "#FFA15A",
           "#19d3f3",
           "#FF6692",
           "#B6E880",
           "#FF97FF",
           "#FECB52"
          ],
          "font": {
           "color": "#2a3f5f"
          },
          "geo": {
           "bgcolor": "white",
           "lakecolor": "white",
           "landcolor": "#E5ECF6",
           "showlakes": true,
           "showland": true,
           "subunitcolor": "white"
          },
          "hoverlabel": {
           "align": "left"
          },
          "hovermode": "closest",
          "mapbox": {
           "style": "light"
          },
          "paper_bgcolor": "white",
          "plot_bgcolor": "#E5ECF6",
          "polar": {
           "angularaxis": {
            "gridcolor": "white",
            "linecolor": "white",
            "ticks": ""
           },
           "bgcolor": "#E5ECF6",
           "radialaxis": {
            "gridcolor": "white",
            "linecolor": "white",
            "ticks": ""
           }
          },
          "scene": {
           "xaxis": {
            "backgroundcolor": "#E5ECF6",
            "gridcolor": "white",
            "gridwidth": 2,
            "linecolor": "white",
            "showbackground": true,
            "ticks": "",
            "zerolinecolor": "white"
           },
           "yaxis": {
            "backgroundcolor": "#E5ECF6",
            "gridcolor": "white",
            "gridwidth": 2,
            "linecolor": "white",
            "showbackground": true,
            "ticks": "",
            "zerolinecolor": "white"
           },
           "zaxis": {
            "backgroundcolor": "#E5ECF6",
            "gridcolor": "white",
            "gridwidth": 2,
            "linecolor": "white",
            "showbackground": true,
            "ticks": "",
            "zerolinecolor": "white"
           }
          },
          "shapedefaults": {
           "line": {
            "color": "#2a3f5f"
           }
          },
          "ternary": {
           "aaxis": {
            "gridcolor": "white",
            "linecolor": "white",
            "ticks": ""
           },
           "baxis": {
            "gridcolor": "white",
            "linecolor": "white",
            "ticks": ""
           },
           "bgcolor": "#E5ECF6",
           "caxis": {
            "gridcolor": "white",
            "linecolor": "white",
            "ticks": ""
           }
          },
          "title": {
           "x": 0.05
          },
          "xaxis": {
           "automargin": true,
           "gridcolor": "white",
           "linecolor": "white",
           "ticks": "",
           "title": {
            "standoff": 15
           },
           "zerolinecolor": "white",
           "zerolinewidth": 2
          },
          "yaxis": {
           "automargin": true,
           "gridcolor": "white",
           "linecolor": "white",
           "ticks": "",
           "title": {
            "standoff": 15
           },
           "zerolinecolor": "white",
           "zerolinewidth": 2
          }
         }
        },
        "title": {
         "text": "Hyperparameter Importances"
        },
        "xaxis": {
         "title": {
          "text": "Hyperparameter Importance"
         }
        },
        "yaxis": {
         "title": {
          "text": "Hyperparameter"
         }
        }
       }
      }
     },
     "metadata": {},
     "output_type": "display_data"
    }
   ],
   "source": [
    "plot_param_importances(study).show()"
   ]
  }
 ],
 "metadata": {
  "kernelspec": {
   "display_name": "Python 3",
   "language": "python",
   "name": "python3"
  },
  "language_info": {
   "codemirror_mode": {
    "name": "ipython",
    "version": 3
   },
   "file_extension": ".py",
   "mimetype": "text/x-python",
   "name": "python",
   "nbconvert_exporter": "python",
   "pygments_lexer": "ipython3",
   "version": "3.12.5"
  }
 },
 "nbformat": 4,
 "nbformat_minor": 5
}
